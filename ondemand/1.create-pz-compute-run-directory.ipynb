{
 "cells": [
  {
   "cell_type": "markdown",
   "id": "0855ad30-07ea-4bc2-900b-3fd4436a0048",
   "metadata": {},
   "source": [
    "<img align=\"left\" src = \"images/linea.png\" width=120 style=\"padding: 20px\"> \n",
    "<img align=\"left\" src = \"images/rubin.png\" width=140 style=\"padding: 30px\"> \n",
    "\n",
    "# Pipeline pz-compute: Setting Up Execution Directories and Files\n",
    "### Photo-zs for the LSST Object Catalog\n",
    "\n",
    "<br><br>\n",
    "\n",
    "Notebook Contributors: Heloisa Mengisztki, Julia Gschwend, Luigi Silva <br>\n",
    "Contact: [heloisasmengisztki@gmail.com](mailto:heloisasmengisztki@gmail.com), [julia@linea.org.br](mailto:julia@linea.org.br), [luigi.silva@linea.org.br](mailto:luigi.silva@linea.org.br) <br>\n",
    "Last Verified Run: **2024-Nov-08** <br>"
   ]
  },
  {
   "cell_type": "markdown",
   "id": "2bb46f56-e8d6-421c-a0ff-913d879f60ac",
   "metadata": {},
   "source": [
    "# 1. Prerequisites"
   ]
  },
  {
   "cell_type": "markdown",
   "id": "8a8d6014-2703-4110-9462-880754d4e095",
   "metadata": {},
   "source": [
    "Before proceeding, ensure that you have completed the **0.setup-configurations.ipynb** notebook. That notebook contains instructions on how to:\n",
    "\n",
    "* Set up the **pz-compute** environment using ```pz-dev``` or ```pz-prod```.\n",
    "* Make the environment available as a Jupyter kernel.\n",
    "\n",
    "Once you have completed that setup, activate the **pz-compute** kernel inside **JupyterLab** before running this notebook."
   ]
  },
  {
   "cell_type": "markdown",
   "id": "588f5222-7161-4b65-9d53-7d5a0284d79b",
   "metadata": {},
   "source": [
    "# 2. Importing Dependencies"
   ]
  },
  {
   "cell_type": "markdown",
   "id": "4db584aa-f295-42fd-9065-0f5950bbb0f7",
   "metadata": {},
   "source": [
    "First, try importing the **ondemand_utils** package:"
   ]
  },
  {
   "cell_type": "code",
   "execution_count": null,
   "id": "24fcbcd3-8116-457b-8236-fcd4df13d862",
   "metadata": {},
   "outputs": [],
   "source": [
    "import os\n",
    "import ondemand_utils as utils"
   ]
  },
  {
   "cell_type": "markdown",
   "id": "ebdff728-478f-41f2-88ab-40855361b1e8",
   "metadata": {},
   "source": [
    "If the import works without errors, you can proceed to the next step.\n",
    "\n",
    "However, if you encounter an **ImportError**, install the package manually by running the following command in your terminal:\n",
    "\n",
    ">```python \n",
    "> pip install -e $SCRATCH/pz-compute/ondemand/ondemand_utils/. \n",
    ">```\n",
    "\n",
    "Alternatively, you can uncomment and execute the following cell inside this notebook, then restart your kernel:"
   ]
  },
  {
   "cell_type": "code",
   "execution_count": null,
   "id": "77a17196-c4c0-4b0b-9b9f-629bb4e3de8b",
   "metadata": {},
   "outputs": [],
   "source": [
    "#!pip install -e $SCRATCH/pz-compute/ondemand/ondemand_utils/."
   ]
  },
  {
   "cell_type": "markdown",
   "id": "2e648a87-87c1-4791-9fc4-a86d0a704c72",
   "metadata": {},
   "source": [
    "# 3. Creating Execution Directories"
   ]
  },
  {
   "cell_type": "markdown",
   "id": "d02ca572-31f1-495f-81c0-d07a1ff612e1",
   "metadata": {},
   "source": [
    "The function below will generate a directory structure with all necessary files to execute pz-compute. You can customize its parameters according to your needs."
   ]
  },
  {
   "cell_type": "code",
   "execution_count": null,
   "id": "1c0e22dc-236a-4f78-ba28-90cd87737d5e",
   "metadata": {},
   "outputs": [],
   "source": [
    "utils.create_run_dir(\n",
    "    algorithm=\"bpz\",  # Required: choose between 'bpz', 'tpz', 'fzboost', or 'gpz'\n",
    "    # process_id=\"test_pz_compute_fzboost_0\",  # Optional: directory name (default follows the pattern <algorithm>_<timestamp>)\n",
    "    comment=\"testing with ondemand\",  # Optional: add a description for your run (default: empty)\n",
    "    will_train=True,  # Optional: if True, includes configuration files for training (default: False)\n",
    "    creation_path=os.path.join(os.environ.get('SCRATCH'), 'dev-pz-runs'),  # Optional: specify directory location (default: SCRATCH)\n",
    "    use_all_dp0_dataset=True,  # Optional: if True, creates symbolic links to skinny tables (default: False)\n",
    "    # env=\"dev\"  # Optional: specify 'dev' or 'prod' (default: 'dev')\n",
    ")"
   ]
  },
  {
   "cell_type": "markdown",
   "id": "dc64c18b-772a-47e9-aee0-45f06359d3c0",
   "metadata": {},
   "source": [
    "# 4. Output"
   ]
  },
  {
   "cell_type": "markdown",
   "id": "9618f25a-ea04-4a78-88d8-9fdfde14e511",
   "metadata": {},
   "source": [
    "After executing the command above, a directory will be created containing all the necessary files to run pz-compute.\n",
    "\n",
    "Additionally, a copy of the pz-compute-template.ipynb notebook will be placed inside, providing further instructions for running a test execution."
   ]
  }
 ],
 "metadata": {
  "kernelspec": {
   "display_name": "pz_compute_dev",
   "language": "python",
   "name": "pz_compute_dev"
  },
  "language_info": {
   "codemirror_mode": {
    "name": "ipython",
    "version": 3
   },
   "file_extension": ".py",
   "mimetype": "text/x-python",
   "name": "python",
   "nbconvert_exporter": "python",
   "pygments_lexer": "ipython3",
   "version": "3.11.11"
  }
 },
 "nbformat": 4,
 "nbformat_minor": 5
}
