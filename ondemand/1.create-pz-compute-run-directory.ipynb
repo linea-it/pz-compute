{
 "cells": [
  {
   "cell_type": "markdown",
   "id": "0855ad30-07ea-4bc2-900b-3fd4436a0048",
   "metadata": {},
   "source": [
    "<img align=\"left\" src = \"images/linea.png\" width=120 style=\"padding: 20px\"> \n",
    "<img align=\"left\" src = \"images/rubin.png\" width=140 style=\"padding: 30px\"> \n",
    "\n",
    "# Create pz-compute execution directories Notebook\n",
    "### Photo-zs for LSST Object catalog\n",
    "\n",
    "<br><br>\n",
    "\n",
    "Notebook contributors: Julia Gschwend, Luigi Silva, Heloisa Mengisztki <br>\n",
    "Contact: [julia@linea.org.br](mailto:julia@linea.org.br) <br>\n",
    "Last verified run: **2024-Nov-08** <br>"
   ]
  },
  {
   "cell_type": "markdown",
   "id": "91786189-877e-4aff-8b13-5c883a79dbd4",
   "metadata": {},
   "source": [
    "Right after running `pz-dev` or `pz-prod` in your terminal, here is how to create a setup dir for running pz-compute"
   ]
  },
  {
   "cell_type": "code",
   "execution_count": 1,
   "id": "46090a8b-d28c-484c-9e6b-e48f32395181",
   "metadata": {
    "tags": []
   },
   "outputs": [],
   "source": [
    "import ondemand_utils as utils\n",
    "import os"
   ]
  },
  {
   "cell_type": "markdown",
   "id": "eb12ddc3-5404-48d7-bd60-4a2918893048",
   "metadata": {},
   "source": [
    "in case ondemand_utils.utils does not import correctly, please run on your terminal: \n",
    "\n",
    ">```python \n",
    "> pip install -e $SCRATCH/pz-compute/ondemand/ondemand_utils/. \n",
    ">```\n",
    "\n",
    "or uncomment the following cell and after running it, restart your kernel."
   ]
  },
  {
   "cell_type": "code",
   "execution_count": null,
   "id": "fedb0f3d-3bec-438d-8846-b58ff43e808a",
   "metadata": {},
   "outputs": [],
   "source": [
    "#!pip install -e $SCRATCH/pz-compute/ondemand/ondemand_utils/. "
   ]
  },
  {
   "cell_type": "markdown",
   "id": "c189e346-d52d-4172-b37b-d35999f6411e",
   "metadata": {},
   "source": [
    "Define here the configurations for your run"
   ]
  },
  {
   "cell_type": "code",
   "execution_count": 2,
   "id": "1c0e22dc-236a-4f78-ba28-90cd87737d5e",
   "metadata": {},
   "outputs": [
    {
     "name": "stdout",
     "output_type": "stream",
     "text": [
      "\n",
      "Not using the complete LSST DP0.2 dataset.\n",
      "Please add manually the data in the input dir with the folowing command:\n",
      " ln -s <origin_path>/*.hdf5 test_pz_compute_lephare_0/input/\n",
      "\n",
      "---------------------------------------\n",
      "Process ID: test_pz_compute_lephare_0\n",
      "User: heloisa.mengisztki\n",
      "Algorithm: lephare\n",
      "Description: testing with configs\n",
      "---------------------------------------\n",
      "\n",
      "Process info saved in /lustre/t0/scratch/users/heloisa.mengisztki/dev-pz-runs/test_pz_compute_lephare_0/process_info.yaml\n",
      "\n"
     ]
    }
   ],
   "source": [
    "utils.create_run_dir(\n",
    "    algorithm=\"lephare\", #required, can be bpz, tpz, fzboost and gpz, \n",
    "    # process_id=\"test_pz_compute_fzboost_0\", #not required, it will automatically create a dir for your run following the pattern <test_pz_compute_fzboost_0>\n",
    "    comment=\"testing with configs\", #not required, default is empty, but if you want you can add a description for your run\n",
    "    will_train=True, #not required, default is false, add configurations files if you are going to execute a train run \n",
    "    creation_path=os.path.join(os.environ.get('SCRATCH'), 'dev-pz-runs'), #not required, default will create the directory in your scratch area\n",
    "    use_all_dp0_dataset=False, #not required, default is false, if true will create simbolic links of skinny tables for your run\n",
    "    #env=\"dev\" #not required, default is dev, this must be configured according to your where do you want your reference to be, prod or dev\n",
    ")"
   ]
  },
  {
   "cell_type": "markdown",
   "id": "19dd52f3-fdf8-4c9b-b697-6aef92ef4477",
   "metadata": {},
   "source": [
    "Notice that a dir will be created with all the necessary files to run a pz-compute, it also copies the notebook pz-compute-template.ipynb with all the instructions to follow for a test run"
   ]
  }
 ],
 "metadata": {
  "kernelspec": {
   "display_name": "pz_compute_dev",
   "language": "python",
   "name": "pz_compute_dev"
  },
  "language_info": {
   "codemirror_mode": {
    "name": "ipython",
    "version": 3
   },
   "file_extension": ".py",
   "mimetype": "text/x-python",
   "name": "python",
   "nbconvert_exporter": "python",
   "pygments_lexer": "ipython3",
   "version": "3.11.11"
  }
 },
 "nbformat": 4,
 "nbformat_minor": 5
}
