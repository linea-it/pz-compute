{
 "cells": [
  {
   "cell_type": "markdown",
   "id": "acaf664b-48a6-45c8-9efc-9116cfa794c2",
   "metadata": {},
   "source": [
    "<img align='left' src = '../images/linea.png' width=150 style='padding: 20px'> \n",
    "\n",
    "# DP02 duplicates analysis\n",
    "## Part 1 - Analysis of two tracts\n",
    "\n",
    "Analysis of duplicates found in the DP02 catalog."
   ]
  },
  {
   "cell_type": "markdown",
   "id": "d5c023f9-fcb2-4373-971c-63245f766728",
   "metadata": {},
   "source": [
    "Contacts: Luigi Silva ([luigi.silva@linea.org.br](mailto:luigi.silva@linea.org.br)); Julia Gschwend ([julia@linea.org.br](mailto:julia@linea.org.br)).\n",
    "\n",
    "Last check: 10/10/2024"
   ]
  },
  {
   "cell_type": "markdown",
   "id": "dc3f70e4-0841-402c-a6dc-92af3e79ae4b",
   "metadata": {},
   "source": [
    "#### Acknowledgments\n",
    "\n",
    "'_This notebook used computational resources from the Associação Laboratório Interinstitucional de e-Astronomia (LIneA) with financial support from the INCT of e-Universe (Process No. 465376/2014-2)._'\n",
    "\n",
    "'_This notebook uses libraries from the LSST Interdisciplinary Network for Collaboration and Computing (LINCC) Frameworks project, such as the hipscat, hipscat_import, and lsdb libraries. The LINCC Frameworks project is supported by Schmidt Sciences. It is also based on work supported by the National Science Foundation under Grant No. AST-2003196. Additionally, it receives support from the DIRAC Institute at the Department of Astronomy of the University of Washington. The DIRAC Institute is supported by gifts from the Charles and Lisa Simonyi Fund for Arts and Sciences and the Washington Research Foundation._'"
   ]
  },
  {
   "cell_type": "markdown",
   "id": "13bdc6a4-01e6-4e8c-8e7e-5fd09d9f7571",
   "metadata": {},
   "source": [
    "---------------------------------------------------------------------------------------------------------\n",
    "---------------------------------------------------------------------------------------------------------\n",
    "# Imports and Configs"
   ]
  },
  {
   "cell_type": "markdown",
   "id": "d5f92f1d-df17-45d1-8a58-371bb6829d70",
   "metadata": {},
   "source": [
    "Let us import the packages that we will need."
   ]
  },
  {
   "cell_type": "code",
   "execution_count": null,
   "id": "1dd99bae-972d-4cb4-ad03-0d092232115f",
   "metadata": {},
   "outputs": [],
   "source": [
    "########################### GENERAL ##########################\n",
    "import os\n",
    "import tables_io\n",
    "import pandas as pd\n",
    "import getpass\n",
    "############################ DASK ############################\n",
    "import dask\n",
    "from dask import dataframe as dd\n",
    "from dask import delayed\n",
    "from dask.distributed import Client, performance_report\n",
    "from dask_jobqueue import SLURMCluster\n",
    "######################## VISUALIZATION #######################\n",
    "### BOKEH\n",
    "import bokeh\n",
    "from bokeh.io import output_notebook, show\n",
    "from bokeh.models import ColorBar, LinearColorMapper\n",
    "from bokeh.palettes import Viridis256\n",
    "### HOLOVIEWS\n",
    "import holoviews as hv\n",
    "from holoviews import opts\n",
    "from holoviews.operation.datashader import rasterize, dynspread\n",
    "### GEOVIEWS\n",
    "import geoviews as gv\n",
    "import geoviews.feature as gf\n",
    "from cartopy import crs\n",
    "### DATASHADER\n",
    "import datashader as ds\n",
    "### MATPLOTLIB\n",
    "import matplotlib.pyplot as plt"
   ]
  },
  {
   "cell_type": "markdown",
   "id": "426db4d0-45f7-4aee-b654-af13cf0867a1",
   "metadata": {},
   "source": [
    "Now, let us configure the plots to be inline."
   ]
  },
  {
   "cell_type": "code",
   "execution_count": null,
   "id": "511e05c0-06ae-4296-98b6-35e96c2aa490",
   "metadata": {},
   "outputs": [],
   "source": [
    "hv.extension('bokeh')\n",
    "gv.extension('bokeh')\n",
    "output_notebook()\n",
    "%matplotlib inline"
   ]
  },
  {
   "cell_type": "markdown",
   "id": "c723d089-c753-435d-86d0-db3eb4223913",
   "metadata": {},
   "source": [
    "Now, let us define the paths to save the logs and outputs."
   ]
  },
  {
   "cell_type": "code",
   "execution_count": null,
   "id": "87fa3152-7d29-4ba4-8597-6ba753c09aa3",
   "metadata": {},
   "outputs": [],
   "source": [
    "user = getpass.getuser()\n",
    "base_path = f'/lustre/t0/scratch/users/{user}/report_hipscat/'"
   ]
  },
  {
   "cell_type": "code",
   "execution_count": null,
   "id": "b53e900b-806e-4d16-9cb4-541752abfc10",
   "metadata": {},
   "outputs": [],
   "source": [
    "output_dir = os.path.join(base_path, 'output')\n",
    "logs_dir = os.path.join(base_path, 'logs')\n",
    "os.makedirs(output_dir, exist_ok=True)\n",
    "os.makedirs(logs_dir, exist_ok=True)"
   ]
  },
  {
   "cell_type": "markdown",
   "id": "0cd65540-36de-4bf2-9e8a-e79c2996182d",
   "metadata": {},
   "source": [
    "Then, let us define the parameters for the cluster."
   ]
  },
  {
   "cell_type": "code",
   "execution_count": null,
   "id": "44a622d2-b688-44fe-afd9-66b4cbd391a1",
   "metadata": {},
   "outputs": [],
   "source": [
    "# Configuring the SLURMCluster.\n",
    "cluster = SLURMCluster(\n",
    "    interface=\"ib0\",    # Lustre interface\n",
    "    queue='cpu_small',  # Name of the queue\n",
    "    cores=28,           # Number of logical cores per node\n",
    "    processes=7,       # Number of dask processes per node\n",
    "    memory='30GB',     # Memory per node\n",
    "    walltime='06:00:00',  # Maximum execution time\n",
    "    job_extra_directives=[\n",
    "        '--propagate',\n",
    "        f'--output={output_dir}/dask_job_%j.out',  \n",
    "        f'--error={output_dir}/dask_job_%j.err'\n",
    "    ],\n",
    ")\n",
    "\n",
    "# Scaling the cluster to use X nodes\n",
    "cluster.scale(jobs=10)\n",
    "\n",
    "# Defining the dask client\n",
    "client = Client(cluster)"
   ]
  },
  {
   "cell_type": "markdown",
   "id": "706cc3ba-0967-421f-a077-e5d93dca9f67",
   "metadata": {},
   "source": [
    "---------------------------------------------------------------------------------------------------------\n",
    "---------------------------------------------------------------------------------------------------------\n",
    "# Analyzing two tracts of the DP02 object table"
   ]
  },
  {
   "cell_type": "markdown",
   "id": "ceb52867-5588-4b2f-9333-c6363ed43002",
   "metadata": {},
   "source": [
    "First, let us define the paths to the parquets of the considered tracts."
   ]
  },
  {
   "cell_type": "code",
   "execution_count": null,
   "id": "22213830-4877-4857-afab-8672f82a27c1",
   "metadata": {},
   "outputs": [],
   "source": [
    "path_tract4029 = f'/lustre/t1/cl/lsst/dp02/primary/catalogs/object/objectTable_tract_4029_DC2_2_2i_runs_DP0_2_v23_0_1_PREOPS-905_step3_18_20220220T153612Z.parq'\n",
    "path_tract4030 = f'/lustre/t1/cl/lsst/dp02/primary/catalogs/object/objectTable_tract_4030_DC2_2_2i_runs_DP0_2_v23_0_1_PREOPS-905_step3_18_20220220T153612Z.parq'"
   ]
  },
  {
   "cell_type": "markdown",
   "id": "85c9b61c-afa9-42fa-9332-27f9b55c7b56",
   "metadata": {},
   "source": [
    "Now, let us read the parquet files with dask."
   ]
  },
  {
   "cell_type": "code",
   "execution_count": null,
   "id": "2ed160da-e004-4b72-b45a-a7abe7f846ea",
   "metadata": {},
   "outputs": [],
   "source": [
    "ddf_tract4029 = dd.read_parquet(path_tract4029)\n",
    "ddf_tract4030 = dd.read_parquet(path_tract4030)"
   ]
  },
  {
   "cell_type": "markdown",
   "id": "c832f034-f39d-48cb-bedc-6ed24504b79c",
   "metadata": {},
   "source": [
    "Here, we use ```.compute()``` to generate pandas dataframes from the dask dataframes. The pandas dataframes must be small, otherwise the Jupyter memory will blow up. So, we select just some columns."
   ]
  },
  {
   "cell_type": "code",
   "execution_count": null,
   "id": "7a4dce29-cfcf-4efb-a131-92464e02ee29",
   "metadata": {},
   "outputs": [],
   "source": [
    "selected_columns = ['coord_ra', 'coord_dec', 'g_cModelFlux', 'r_cModelFlux', 'i_cModelFlux', 'g_cModelFluxErr', \n",
    "                    'r_cModelFluxErr', 'i_cModelFluxErr', 'detect_isDeblendedSource', 'detect_isPatchInner', 'detect_isTractInner', 'merge_peak_sky', 'detect_isPrimary']\n",
    "\n",
    "df_tract4029_small = ddf_tract4029[selected_columns].compute()\n",
    "df_tract4030_small = ddf_tract4030[selected_columns].compute()"
   ]
  },
  {
   "cell_type": "markdown",
   "id": "6260a405-88e6-4014-9d65-da10089685be",
   "metadata": {},
   "source": [
    "---------------------------------------------------------------------------------------------------------\n",
    "## Checking for duplicates in tract 4029, considering the exact match of the R.A. and DEC coordinates\n",
    "\n",
    "Now, we will check for duplicates in tract 4029, **considering the exact match of the R.A. and DEC coordinates**, and we sort the values based on the ```coord_ra``` column."
   ]
  },
  {
   "cell_type": "code",
   "execution_count": null,
   "id": "6dc194a2-3dbd-4380-81eb-218275e91a8f",
   "metadata": {},
   "outputs": [],
   "source": [
    "df_tract4029_duplicates = df_tract4029_small[df_tract4029_small[['coord_ra', 'coord_dec']].duplicated(keep=False)].sort_values('coord_ra')"
   ]
  },
  {
   "cell_type": "markdown",
   "id": "574c711a-85a7-47ac-b348-e0422090b211",
   "metadata": {},
   "source": [
    "### Duplicates (exact R.A and DEC) in tract 4029  - General information"
   ]
  },
  {
   "cell_type": "markdown",
   "id": "8e6cb333-8712-49a0-9dda-4a81146418d3",
   "metadata": {},
   "source": [
    "First lines of the full duplicates table."
   ]
  },
  {
   "cell_type": "code",
   "execution_count": null,
   "id": "2a1f71d7-fcff-452c-b2b0-9ed246761f64",
   "metadata": {},
   "outputs": [],
   "source": [
    "df_tract4029_duplicates.head(10)"
   ]
  },
  {
   "cell_type": "markdown",
   "id": "ca4a4147-f7e0-494f-938e-5ec5f7bec34e",
   "metadata": {},
   "source": [
    "Basic statistics."
   ]
  },
  {
   "cell_type": "code",
   "execution_count": null,
   "id": "46a65fa8-bd2f-49c2-8991-01fd2064226e",
   "metadata": {},
   "outputs": [],
   "source": [
    "df_tract4029_duplicates.describe()"
   ]
  },
  {
   "cell_type": "markdown",
   "id": "2a9ad06f-1829-43bb-80d5-3a249f03a192",
   "metadata": {},
   "source": [
    "Making the plot of all duplicates."
   ]
  },
  {
   "cell_type": "code",
   "execution_count": null,
   "id": "68baac12-94c9-4ab6-883a-8f13eed5b9c8",
   "metadata": {},
   "outputs": [],
   "source": [
    "### Defining the points\n",
    "dataframe = df_tract4029_duplicates\n",
    "ra = dataframe['coord_ra']\n",
    "dec = dataframe['coord_dec']\n",
    "\n",
    "ra_dec_points_minusRA = gv.Points((-ra, dec), kdims=['-R.A. (deg)', 'DEC (deg)'])\n",
    "\n",
    "### Defining some plot parameters.\n",
    "title = 'Spatial distribution - Duplicates (exact R.A and DEC) in tract 4029 - All duplicates'\n",
    "height = 500\n",
    "width = 1000\n",
    "padding = 0.05\n",
    "\n",
    "### Making the plot.\n",
    "Plate_Carree_rasterized_points = rasterize(ra_dec_points_minusRA, aggregator=ds.count()).opts(cmap=\"Viridis\", cnorm='log')\n",
    "\n",
    "Plate_Carree_spread_points = dynspread(Plate_Carree_rasterized_points).opts(width=width, height=height, padding=padding, title=title, toolbar='above', colorbar=True, \n",
    "                                                                            tools=['box_select'], show_grid=True)\n",
    "\n",
    "Plate_Carree_spread_points"
   ]
  },
  {
   "cell_type": "markdown",
   "id": "d96df394-7848-4008-8faa-881e87c12392",
   "metadata": {},
   "source": [
    "### Duplicates (exact R.A and DEC) in tract 4029 - Analysis of the flux\n",
    "\n",
    "Now, let us compare the fluxes of these duplicated objects.\n",
    "\n",
    "Below, we have the first lines of the table containing the objects that have **not-NaN values in the ```i_cModelFlux``` column.**"
   ]
  },
  {
   "cell_type": "code",
   "execution_count": null,
   "id": "6984bcec-8b6c-44fc-a665-c54eb1eba2f3",
   "metadata": {},
   "outputs": [],
   "source": [
    "df_tract4029_duplicates_i_not_nan = df_tract4029_duplicates[df_tract4029_duplicates['i_cModelFlux'].notna()]\n",
    "df_tract4029_duplicates_i_not_nan.head(10)"
   ]
  },
  {
   "cell_type": "markdown",
   "id": "9867ad43-f7de-47f1-a122-31e0080ede0a",
   "metadata": {},
   "source": [
    "Basic statistics."
   ]
  },
  {
   "cell_type": "code",
   "execution_count": null,
   "id": "cfd648b0-bb3d-43e2-9783-58526555c928",
   "metadata": {},
   "outputs": [],
   "source": [
    "df_tract4029_duplicates_i_not_nan.describe()"
   ]
  },
  {
   "cell_type": "markdown",
   "id": "88a2d73a-6b22-4e57-a2e5-4102539fb5d6",
   "metadata": {},
   "source": [
    "Now, let us see if any of these objects have exactly the same fluxes."
   ]
  },
  {
   "cell_type": "code",
   "execution_count": null,
   "id": "4a28a535-b8c2-4c0b-999c-78c2170d53dd",
   "metadata": {},
   "outputs": [],
   "source": [
    "df_check = df_tract4029_duplicates_i_not_nan[df_tract4029_duplicates_i_not_nan[['g_cModelFlux']].duplicated(keep=False)].sort_values('coord_ra')\n",
    "df_check = df_check[df_check['g_cModelFlux'] != 0]\n",
    "df_check = df_check[df_check['g_cModelFlux'].notna()]\n",
    "df_check"
   ]
  },
  {
   "cell_type": "code",
   "execution_count": null,
   "id": "d161e54b-5d54-4a82-95da-5472592e39c1",
   "metadata": {},
   "outputs": [],
   "source": [
    "df_check = df_tract4029_duplicates_i_not_nan[df_tract4029_duplicates_i_not_nan[['r_cModelFlux']].duplicated(keep=False)].sort_values('coord_ra')\n",
    "df_check = df_check[df_check['r_cModelFlux'] != 0]\n",
    "df_check = df_check[df_check['r_cModelFlux'].notna()]\n",
    "df_check"
   ]
  },
  {
   "cell_type": "code",
   "execution_count": null,
   "id": "6d031518-a2c9-48c5-adc1-ea342bcf4663",
   "metadata": {},
   "outputs": [],
   "source": [
    "df_check = df_tract4029_duplicates_i_not_nan[df_tract4029_duplicates_i_not_nan[['i_cModelFlux']].duplicated(keep=False)].sort_values('coord_ra')\n",
    "df_check = df_check[df_check['i_cModelFlux'] != 0]\n",
    "df_check = df_check[df_check['i_cModelFlux'].notna()]\n",
    "df_check"
   ]
  },
  {
   "cell_type": "markdown",
   "id": "5db2d7cc-1a31-4445-b555-677afed869e6",
   "metadata": {},
   "source": [
    "**So, considering only objects with not-NaN values in the ```i_cModelFlux``` column, there are duplicated objects that have different ```objectId```, the same R.A. and DEC coordinates, and different fluxes. None of the fluxes are exactly the same.**"
   ]
  },
  {
   "cell_type": "markdown",
   "id": "b156b985-4e50-4fe9-9498-e737e2a7c012",
   "metadata": {},
   "source": [
    "### Duplicates (exact R.A and DEC) in tract 4029 - ```detect_isDeblendedSource'``` flag"
   ]
  },
  {
   "cell_type": "markdown",
   "id": "c22e5e7f-65cd-4c27-9f08-bb679ec11841",
   "metadata": {},
   "source": [
    "Let us see what happens if we use the flag ```detect_isDeblendedSource``` in the duplicates table. This flag is ```True``` when:\n",
    "\n",
    "1) The source is a top level parent and it is isolated (detect_isIsolated & parent==0)\n",
    "\n",
    "2) The source was deblended from a parent with multiple children and has no children of its own (detect_fromBlend & deblend_nPeaks == 1)\n",
    "\n",
    "So, by setting it as ```False```, we are basically getting sources before the deblending.\n",
    "\n",
    "#### Flag ```detect_isDeblendedSource == False```\n",
    "Defining the dataframe. We will use the flags ```'detect_isPatchInner==True'``` and ```detect_isTractInner==True``` to isolate duplicates effects comming only from deblending."
   ]
  },
  {
   "cell_type": "code",
   "execution_count": null,
   "id": "5aba44b1-09e5-4578-84ac-9cbba39ba865",
   "metadata": {},
   "outputs": [],
   "source": [
    "dataframe_parent = df_tract4029_duplicates[df_tract4029_duplicates['detect_isDeblendedSource'] == False]\n",
    "dataframe_parent = dataframe_parent[dataframe_parent['merge_peak_sky'] == False]\n",
    "dataframe_parent = dataframe_parent[dataframe_parent['detect_isPatchInner'] == True]\n",
    "dataframe_parent = dataframe_parent[dataframe_parent['detect_isTractInner'] == True]"
   ]
  },
  {
   "cell_type": "markdown",
   "id": "0d7b5976-7076-4218-910f-edece96db7c2",
   "metadata": {},
   "source": [
    "First lines."
   ]
  },
  {
   "cell_type": "code",
   "execution_count": null,
   "id": "cfa9c546-bc8a-40b7-8d0f-f741e3ac38fd",
   "metadata": {},
   "outputs": [],
   "source": [
    "dataframe_parent.head(10)"
   ]
  },
  {
   "cell_type": "markdown",
   "id": "bfddd87d-d4dd-4df4-8b70-7e22fbd99b95",
   "metadata": {},
   "source": [
    "Basic statistics."
   ]
  },
  {
   "cell_type": "code",
   "execution_count": null,
   "id": "2fc2b5b1-0eef-486c-97bb-ddd69efb8daa",
   "metadata": {},
   "outputs": [],
   "source": [
    "dataframe_parent.describe()"
   ]
  },
  {
   "cell_type": "markdown",
   "id": "444a6345-71fa-4145-aefe-fdbd9edd13b4",
   "metadata": {},
   "source": [
    "Making the plot."
   ]
  },
  {
   "cell_type": "code",
   "execution_count": null,
   "id": "b2484349-33be-47a2-94bb-4abc0ef3bb06",
   "metadata": {},
   "outputs": [],
   "source": [
    "### Defining the points\n",
    "dataframe = dataframe_parent\n",
    "ra = dataframe['coord_ra']\n",
    "dec = dataframe['coord_dec']\n",
    "\n",
    "ra_dec_points_minusRA = gv.Points((-ra, dec), kdims=['-R.A. (deg)', 'DEC (deg)'])\n",
    "\n",
    "### Defining some plot parameters.\n",
    "title = 'Spatial distribution - Duplicates (exact R.A and DEC) in tract 4029 - detect_isDeblendedSource==False'\n",
    "height = 500\n",
    "width = 1000\n",
    "padding = 0.05\n",
    "\n",
    "### Making the plot.\n",
    "Plate_Carree_rasterized_points = rasterize(ra_dec_points_minusRA, aggregator=ds.count()).opts(cmap=\"Viridis\", cnorm='log')\n",
    "\n",
    "Plate_Carree_spread_points = dynspread(Plate_Carree_rasterized_points).opts(width=width, height=height, padding=padding, title=title, toolbar='above', colorbar=True, \n",
    "                                                                            tools=['box_select'], show_grid=True)\n",
    "\n",
    "Plate_Carree_spread_points"
   ]
  },
  {
   "cell_type": "markdown",
   "id": "8bc83219-4307-4262-bc4d-fe0246531374",
   "metadata": {},
   "source": [
    "**So, in our duplicates table, we have 87 single objects before the deblending (parents).**\n",
    "\n",
    "Parents may also be parent of other parent (other object that will be, again, deblended). Let us check if we have this in our duplicates table by searching for duplicates in the parents table, considering the R.A. and DEC. coordinates."
   ]
  },
  {
   "cell_type": "code",
   "execution_count": null,
   "id": "d0c3f0bb-0906-4c04-abc2-d0b1a0f6c6b4",
   "metadata": {},
   "outputs": [],
   "source": [
    "dataframe_parent_of_parent = dataframe_parent[dataframe_parent[['coord_ra', 'coord_dec']].duplicated(keep=False)].sort_values('coord_ra')\n",
    "dataframe_parent_of_parent"
   ]
  },
  {
   "cell_type": "markdown",
   "id": "c2e6b20e-caa3-4797-8436-16497b80cb7f",
   "metadata": {},
   "source": [
    "**So, our parents don't have other parents as children, considering exact correspondence of R.A. and DEC. coordinates. It is worth noting that they may have other parents as children, but with slightly difference in the R.A. and DEC. coordinates, which we will not get here.**"
   ]
  },
  {
   "cell_type": "markdown",
   "id": "801d18b8-d8a3-48ca-9c67-7b4f1cbe0c55",
   "metadata": {},
   "source": [
    "#### Flag ```detect_isDeblendedSource == False``` - Who are the children?"
   ]
  },
  {
   "cell_type": "markdown",
   "id": "788a4a25-cfdb-4fe8-8712-c6346b780383",
   "metadata": {},
   "source": [
    "Now, let us see who are the children, considering exact correspondence of R.A. and DEC., in our duplicates table associated to these parents objects.\n",
    "\n",
    "Defining the children dataframe. Again, we will use the flags ```'detect_isPatchInner==True'``` and ```detect_isTractInner==True``` to isolate duplicates effects comming only from deblending."
   ]
  },
  {
   "cell_type": "code",
   "execution_count": null,
   "id": "55906b0c-c0a7-45f2-85ed-3b2174f17915",
   "metadata": {},
   "outputs": [],
   "source": [
    "dataframe_child = df_tract4029_duplicates[df_tract4029_duplicates['detect_isDeblendedSource'] == True]\n",
    "dataframe_child = dataframe_child[dataframe_child['merge_peak_sky'] == False]\n",
    "dataframe_child = dataframe_child[dataframe_child['detect_isPatchInner'] == True]\n",
    "dataframe_child = dataframe_child[dataframe_child['detect_isTractInner'] == True]"
   ]
  },
  {
   "cell_type": "markdown",
   "id": "a7a2ab3a-2dd1-4681-894c-119841c40ab9",
   "metadata": {},
   "source": [
    "Associating the children to the parents."
   ]
  },
  {
   "cell_type": "code",
   "execution_count": null,
   "id": "aed94499-0b14-4607-8768-254e54c8a151",
   "metadata": {},
   "outputs": [],
   "source": [
    "intersect = pd.merge(dataframe_parent, dataframe_child, on=['coord_ra', 'coord_dec'], how='inner')\n",
    "\n",
    "filtered_parent = dataframe_parent[dataframe_parent[['coord_ra', 'coord_dec']].apply(tuple, axis=1).isin(intersect[['coord_ra', 'coord_dec']].apply(tuple, axis=1))]\n",
    "filtered_child = dataframe_child[dataframe_child[['coord_ra', 'coord_dec']].apply(tuple, axis=1).isin(intersect[['coord_ra', 'coord_dec']].apply(tuple, axis=1))]\n",
    "\n",
    "dataframe_merged = pd.concat([filtered_parent, filtered_child]).sort_values(by=['coord_ra', 'coord_dec']).reset_index(drop=True)"
   ]
  },
  {
   "cell_type": "code",
   "execution_count": null,
   "id": "26d1d684-90d4-446d-bb13-bd29be428325",
   "metadata": {},
   "outputs": [],
   "source": [
    "filtered_child.describe()"
   ]
  },
  {
   "cell_type": "code",
   "execution_count": null,
   "id": "050bd592-7726-4e81-9e3f-adbb844c3d7b",
   "metadata": {},
   "outputs": [],
   "source": [
    "dataframe_merged.head(10)"
   ]
  },
  {
   "cell_type": "markdown",
   "id": "dcfe9258-a529-4e93-a7b8-f11fb514580a",
   "metadata": {},
   "source": [
    "**So, we have only 29 single children that have exact correspondence of R.A. and DEC. to the parents listed in the previous dataframe of parents. The parents may have other children, but we don't get them here, because we are considering only exact correspondence of R.A. and DEC.**\n",
    "\n",
    "**As we can see, one of the sources of duplicates, considering R.A. and DEC. coordinates, is the deblending process, because we are counting parents and children together.**"
   ]
  },
  {
   "cell_type": "markdown",
   "id": "6a8707ba-9590-4a3b-b97e-932af58eed1f",
   "metadata": {},
   "source": [
    "### Duplicates in tract 4029 - ```detect_isPatchInner``` flag\n",
    "\n",
    "Let us see what happens if we use the flag ```detect_isPatchInner==False``` in the duplicates table. This flag is ```True``` when:\n",
    "1) The source is in the inner region of a patch.\n",
    "\n",
    "So, by setting it as ```False```, we are basically getting sources which are in the edge of the patch, which overlaps with other patches. Then, we will have multiple observations of the same object.\n",
    "\n",
    "#### Flag ```detect_isPatchInner == False```"
   ]
  },
  {
   "cell_type": "code",
   "execution_count": null,
   "id": "d702cebb-0371-4d49-8275-e014fcc9187d",
   "metadata": {},
   "outputs": [],
   "source": [
    "dataframe_patchinner = df_tract4029_duplicates[df_tract4029_duplicates['detect_isPatchInner'] == False]"
   ]
  },
  {
   "cell_type": "markdown",
   "id": "a777bd0c-4085-4e0c-9b44-84653c62d7f4",
   "metadata": {},
   "source": [
    "First lines."
   ]
  },
  {
   "cell_type": "code",
   "execution_count": null,
   "id": "a64e65b1-5d94-4d8e-8858-15717837272c",
   "metadata": {},
   "outputs": [],
   "source": [
    "dataframe_patchinner.head(10)"
   ]
  },
  {
   "cell_type": "markdown",
   "id": "98de8583-b9f2-411b-a92a-575ba5a6287d",
   "metadata": {},
   "source": [
    "Basic statistics."
   ]
  },
  {
   "cell_type": "code",
   "execution_count": null,
   "id": "c80a1158-6803-4694-97b1-c29aaea8cd31",
   "metadata": {},
   "outputs": [],
   "source": [
    "dataframe_patchinner.describe()"
   ]
  },
  {
   "cell_type": "markdown",
   "id": "662b76d9-c1ec-40c5-b469-888af68b6b70",
   "metadata": {},
   "source": [
    "Making the plot of duplicates with ```detect_isPatchInner==False```."
   ]
  },
  {
   "cell_type": "code",
   "execution_count": null,
   "id": "0d259850-ca5a-4f16-a43c-04e8ce4bd204",
   "metadata": {},
   "outputs": [],
   "source": [
    "### Defining the points\n",
    "dataframe = dataframe_patchinner\n",
    "ra = dataframe['coord_ra']\n",
    "dec = dataframe['coord_dec']\n",
    "\n",
    "ra_dec_points_minusRA = gv.Points((-ra, dec), kdims=['-R.A. (deg)', 'DEC (deg)'])\n",
    "\n",
    "### Defining some plot parameters.\n",
    "title = 'Spatial distribution - Duplicates (exact R.A and DEC) in tract 4029 - detect_isPatchInner==False'\n",
    "height = 500\n",
    "width = 1000\n",
    "padding = 0.05\n",
    "\n",
    "### Making the plot.\n",
    "Plate_Carree_rasterized_points = rasterize(ra_dec_points_minusRA, aggregator=ds.count()).opts(cmap=\"Viridis\", cnorm='log')\n",
    "\n",
    "Plate_Carree_spread_points = dynspread(Plate_Carree_rasterized_points).opts(width=width, height=height, padding=padding, title=title, toolbar='above', colorbar=True, \n",
    "                                                                            tools=['box_select'], show_grid=True)\n",
    "\n",
    "Plate_Carree_spread_points"
   ]
  },
  {
   "cell_type": "markdown",
   "id": "4d3360ec-df10-4bac-9939-9caf72a80829",
   "metadata": {},
   "source": [
    "**So, 34636 duplicates objects (counting the original and the duplicate) are objects in the edges of the patches, therefore in the region of overlap between different patches, where we expect them to have multiple observations.**"
   ]
  },
  {
   "cell_type": "markdown",
   "id": "9c5978ca-82a8-464a-821e-79cd3e68be0e",
   "metadata": {},
   "source": [
    "### Duplicates in tract 4029 - ```detect_isTractInner==False```\n",
    "\n",
    "Let us see what happens if we use the flag ```detect_isTractInner==False``` in the duplicates table. This flag is ```True``` when:\n",
    "1) The source is in the inner region of a tract.\n",
    "\n",
    "So, by setting it as ```False```, we are basically getting sources which are in the edge of the tract, which overlaps with other tracts. Then, we will have multiple observations of the same object.\n",
    "\n",
    "#### Flag ```detect_isTractInner == False```"
   ]
  },
  {
   "cell_type": "code",
   "execution_count": null,
   "id": "bd152ba8-0b6d-4813-9e85-1bc4371d15f5",
   "metadata": {},
   "outputs": [],
   "source": [
    "dataframe_tractinner = df_tract4029_duplicates[df_tract4029_duplicates['detect_isTractInner'] == False]"
   ]
  },
  {
   "cell_type": "markdown",
   "id": "20031ae8-7c3c-4492-9065-e8289323d482",
   "metadata": {},
   "source": [
    "First lines."
   ]
  },
  {
   "cell_type": "code",
   "execution_count": null,
   "id": "bbbf442e-ad1f-4702-9f20-0c5412220fb1",
   "metadata": {},
   "outputs": [],
   "source": [
    "dataframe_tractinner.head(10)"
   ]
  },
  {
   "cell_type": "markdown",
   "id": "79d788bf-5bc0-4902-b843-af61d49a44ef",
   "metadata": {},
   "source": [
    "Basic statistics."
   ]
  },
  {
   "cell_type": "code",
   "execution_count": null,
   "id": "0b111233-00da-4433-b88c-47e12fa72857",
   "metadata": {},
   "outputs": [],
   "source": [
    "dataframe_tractinner.describe()"
   ]
  },
  {
   "cell_type": "markdown",
   "id": "866e1bd8-351a-4452-ad86-43c02deedd7a",
   "metadata": {},
   "source": [
    "Making the plot of duplicates with ```detect_isTractInner==False```."
   ]
  },
  {
   "cell_type": "code",
   "execution_count": null,
   "id": "d6001a32-b3a2-4b6d-9a74-02f6389a2011",
   "metadata": {},
   "outputs": [],
   "source": [
    "### Defining the points\n",
    "dataframe = dataframe_tractinner\n",
    "ra = dataframe['coord_ra']\n",
    "dec = dataframe['coord_dec']\n",
    "\n",
    "ra_dec_points_minusRA = gv.Points((-ra, dec), kdims=['-R.A. (deg)', 'DEC (deg)'])\n",
    "\n",
    "### Defining some plot parameters.\n",
    "title = 'Spatial distribution - Duplicates (exact R.A and DEC) in tract 4029 - detect_isTractInner==False'\n",
    "height = 500\n",
    "width = 1000\n",
    "padding = 0.05\n",
    "\n",
    "### Making the plot.\n",
    "Plate_Carree_rasterized_points = rasterize(ra_dec_points_minusRA, aggregator=ds.count()).opts(cmap=\"Viridis\", cnorm='log')\n",
    "\n",
    "Plate_Carree_spread_points = dynspread(Plate_Carree_rasterized_points).opts(width=width, height=height, padding=padding, title=title, toolbar='above', colorbar=True, \n",
    "                                                                            tools=['box_select'], show_grid=True)\n",
    "\n",
    "Plate_Carree_spread_points"
   ]
  },
  {
   "cell_type": "markdown",
   "id": "8cb2ea5a-2f7f-4010-b768-98b5d54b089f",
   "metadata": {},
   "source": [
    "**So, 7046 duplicates objects (counting the original and the duplicate) are objects in the edges of the tract, therefore in the region of overlap between different tracts, where we expect them to have multiple observations.**"
   ]
  },
  {
   "cell_type": "markdown",
   "id": "dea0d46f-d3e8-49b2-ab86-158ade4f2237",
   "metadata": {},
   "source": [
    "---------------------------------------------------------------------------------------------------------\n",
    "## Checking for duplicates in tract 4030, considering the exact match of the R.A. and DEC coordinates\n",
    "\n",
    "Now, we will check for duplicates in tract 4030, **considering the exact match of the R.A. and DEC coordinates**, and we sort the values based on the ```coord_ra``` column."
   ]
  },
  {
   "cell_type": "code",
   "execution_count": null,
   "id": "2a008923-b9b9-4a1b-8325-1366a3aecdc1",
   "metadata": {},
   "outputs": [],
   "source": [
    "df_tract4030_duplicates = df_tract4030_small[df_tract4030_small[['coord_ra', 'coord_dec']].duplicated(keep=False)].sort_values('coord_ra')"
   ]
  },
  {
   "cell_type": "markdown",
   "id": "8e5e7c07-c839-478f-b648-c380c83e2bc8",
   "metadata": {},
   "source": [
    "### Duplicates (exact R.A and DEC) in tract 4030  - General information"
   ]
  },
  {
   "cell_type": "markdown",
   "id": "68c3d542-e25f-4170-87c7-67ea1c50f095",
   "metadata": {},
   "source": [
    "First lines of the full duplicates table."
   ]
  },
  {
   "cell_type": "code",
   "execution_count": null,
   "id": "9e521b94-1791-4da8-b7a6-6ad713d880b9",
   "metadata": {},
   "outputs": [],
   "source": [
    "df_tract4030_duplicates.head(10)"
   ]
  },
  {
   "cell_type": "markdown",
   "id": "bf1be316-ef75-4209-b57e-fe7e5e3d59e7",
   "metadata": {},
   "source": [
    "Basic statistics."
   ]
  },
  {
   "cell_type": "code",
   "execution_count": null,
   "id": "6d54c1e6-f27d-43e2-9619-637f11f7eccc",
   "metadata": {},
   "outputs": [],
   "source": [
    "df_tract4030_duplicates.describe()"
   ]
  },
  {
   "cell_type": "markdown",
   "id": "a3edf0f5-7e30-430c-b959-cdb07f98e86d",
   "metadata": {},
   "source": [
    "Making the plot for all duplicates."
   ]
  },
  {
   "cell_type": "code",
   "execution_count": null,
   "id": "567e0c5d-d747-407a-840f-ac4212037b03",
   "metadata": {},
   "outputs": [],
   "source": [
    "### Defining the points\n",
    "dataframe = df_tract4030_duplicates\n",
    "ra = dataframe['coord_ra']\n",
    "dec = dataframe['coord_dec']\n",
    "\n",
    "ra_dec_points_minusRA = gv.Points((-ra, dec), kdims=['-R.A. (deg)', 'DEC (deg)'])\n",
    "\n",
    "### Defining some plot parameters.\n",
    "title = 'Spatial distribution - Duplicates (exact R.A and DEC) in tract 4030 - All duplicates'\n",
    "height = 500\n",
    "width = 1000\n",
    "padding = 0.05\n",
    "\n",
    "### Making the plot.\n",
    "Plate_Carree_rasterized_points = rasterize(ra_dec_points_minusRA, aggregator=ds.count()).opts(cmap=\"Viridis\", cnorm='log')\n",
    "\n",
    "Plate_Carree_spread_points = dynspread(Plate_Carree_rasterized_points).opts(width=width, height=height, padding=padding, title=title, toolbar='above', colorbar=True, \n",
    "                                                                            tools=['box_select'], show_grid=True)\n",
    "\n",
    "Plate_Carree_spread_points"
   ]
  },
  {
   "cell_type": "markdown",
   "id": "5c2208da-aa42-4829-88fb-f740c9f90e50",
   "metadata": {},
   "source": [
    "### Duplicates (exact R.A and DEC) in tract 4030 - Analysis of the flux\n",
    "\n",
    "Now, let us compare the fluxes of these duplicated objects.\n",
    "\n",
    "Below, we have the first lines of the table containing the objects that have **not-NaN values in the ```i_cModelFlux``` column.**"
   ]
  },
  {
   "cell_type": "code",
   "execution_count": null,
   "id": "1b9db2a0-b8db-40b4-8b0e-4f73c3d5291e",
   "metadata": {},
   "outputs": [],
   "source": [
    "df_tract4030_duplicates_i_not_nan = df_tract4030_duplicates[df_tract4030_duplicates['i_cModelFlux'].notna()]\n",
    "df_tract4030_duplicates_i_not_nan.head(10)"
   ]
  },
  {
   "cell_type": "markdown",
   "id": "c7923a45-c2ca-456b-b358-879943c708d9",
   "metadata": {},
   "source": [
    "Basic statistics."
   ]
  },
  {
   "cell_type": "code",
   "execution_count": null,
   "id": "81661d1d-0ebb-4c2e-839a-b8a8ba0a9956",
   "metadata": {},
   "outputs": [],
   "source": [
    "df_tract4030_duplicates_i_not_nan.describe()"
   ]
  },
  {
   "cell_type": "markdown",
   "id": "e90d8a2a-3413-4ee0-a8c7-df4259ae5d7b",
   "metadata": {},
   "source": [
    "Now, let us see if any of these objects have exactly the same fluxes."
   ]
  },
  {
   "cell_type": "code",
   "execution_count": null,
   "id": "4d130c97-de27-46f6-a873-7d466a09bfcd",
   "metadata": {},
   "outputs": [],
   "source": [
    "df_check_4030 = df_tract4030_duplicates_i_not_nan[df_tract4030_duplicates_i_not_nan[['g_cModelFlux']].duplicated(keep=False)].sort_values('coord_ra')\n",
    "df_check_4030 = df_check_4030[df_check_4030['g_cModelFlux'] != 0]\n",
    "df_check_4030 = df_check_4030[df_check_4030['g_cModelFlux'].notna()]\n",
    "df_check_4030"
   ]
  },
  {
   "cell_type": "code",
   "execution_count": null,
   "id": "adc9559a-be65-4f6a-bb4f-26c16284d49b",
   "metadata": {},
   "outputs": [],
   "source": [
    "df_check_4030 = df_tract4030_duplicates_i_not_nan[df_tract4030_duplicates_i_not_nan[['r_cModelFlux']].duplicated(keep=False)].sort_values('coord_ra')\n",
    "df_check_4030 = df_check_4030[df_check_4030['r_cModelFlux'] != 0]\n",
    "df_check_4030 = df_check_4030[df_check_4030['r_cModelFlux'].notna()]\n",
    "df_check_4030"
   ]
  },
  {
   "cell_type": "code",
   "execution_count": null,
   "id": "c4388b17-41c3-495c-a661-2e198410d84c",
   "metadata": {},
   "outputs": [],
   "source": [
    "df_check_4030 = df_tract4030_duplicates_i_not_nan[df_tract4030_duplicates_i_not_nan[['i_cModelFlux']].duplicated(keep=False)].sort_values('coord_ra')\n",
    "df_check_4030 = df_check_4030[df_check_4030['i_cModelFlux'] != 0]\n",
    "df_check_4030 = df_check_4030[df_check_4030['i_cModelFlux'].notna()]\n",
    "df_check_4030"
   ]
  },
  {
   "cell_type": "markdown",
   "id": "04763f4b-b57f-4aee-a633-93940b3c00d3",
   "metadata": {},
   "source": [
    "**So, considering only objects with not-NaN values in the ```i_cModelFlux``` column, there are duplicated objects that have different ```objectId```, the same R.A. and DEC coordinates, and different fluxes. None of the fluxes are exactly the same.**"
   ]
  },
  {
   "cell_type": "markdown",
   "id": "1705344b-eba2-422b-9709-40d8af9e56f7",
   "metadata": {},
   "source": [
    "### Duplicates (exact R.A and DEC) in tract 4030 - ```detect_isDeblendedSource'``` flag"
   ]
  },
  {
   "cell_type": "markdown",
   "id": "65d3f95b-6d05-4dde-8362-16c12abca3f7",
   "metadata": {},
   "source": [
    "Let us see what happens if we use the flag ```detect_isDeblendedSource``` in the duplicates table. This flag is ```True``` when:\n",
    "\n",
    "1) The source is a top level parent and it is isolated (detect_isIsolated & parent==0)\n",
    "\n",
    "2) The source was deblended from a parent with multiple children and has no children of its own (detect_fromBlend & deblend_nPeaks == 1)\n",
    "\n",
    "So, by setting it as ```False```, we are basically getting sources before the deblending.\n",
    "\n",
    "#### Flag ```detect_isDeblendedSource == False```\n",
    "Defining the dataframe. We will use the flags ```'detect_isPatchInner==True'``` and ```detect_isTractInner==True``` to isolate duplicates effects comming only from deblending."
   ]
  },
  {
   "cell_type": "code",
   "execution_count": null,
   "id": "6e63e91d-0c41-4061-a3b2-a6abc7b934f7",
   "metadata": {},
   "outputs": [],
   "source": [
    "dataframe_parent_4030 = df_tract4030_duplicates[df_tract4030_duplicates['detect_isDeblendedSource'] == False]\n",
    "dataframe_parent_4030 = dataframe_parent_4030[dataframe_parent_4030['merge_peak_sky'] == False]\n",
    "dataframe_parent_4030 = dataframe_parent_4030[dataframe_parent_4030['detect_isPatchInner'] == True]\n",
    "dataframe_parent_4030 = dataframe_parent_4030[dataframe_parent_4030['detect_isTractInner'] == True]"
   ]
  },
  {
   "cell_type": "markdown",
   "id": "6650b8e6-5b55-4262-b16c-1519adca4c36",
   "metadata": {},
   "source": [
    "First lines."
   ]
  },
  {
   "cell_type": "code",
   "execution_count": null,
   "id": "f54bcccc-a63b-426a-877d-d8cc9266979c",
   "metadata": {},
   "outputs": [],
   "source": [
    "dataframe_parent_4030.head(10)"
   ]
  },
  {
   "cell_type": "markdown",
   "id": "002648c9-c34d-450a-8ac1-1e6dcd2d3d2f",
   "metadata": {},
   "source": [
    "Basic statistics."
   ]
  },
  {
   "cell_type": "code",
   "execution_count": null,
   "id": "8528e33e-53f3-42c4-b810-81670e942505",
   "metadata": {},
   "outputs": [],
   "source": [
    "dataframe_parent_4030.describe()"
   ]
  },
  {
   "cell_type": "markdown",
   "id": "7a2a029f-344d-4b0e-ad02-e3355d95ada0",
   "metadata": {},
   "source": [
    "Making the plot."
   ]
  },
  {
   "cell_type": "code",
   "execution_count": null,
   "id": "54f036eb-c9fa-4f71-a618-921a9a6d3b71",
   "metadata": {},
   "outputs": [],
   "source": [
    "### Defining the points\n",
    "dataframe = dataframe_parent_4030\n",
    "ra = dataframe['coord_ra']\n",
    "dec = dataframe['coord_dec']\n",
    "\n",
    "ra_dec_points_minusRA = gv.Points((-ra, dec), kdims=['-R.A. (deg)', 'DEC (deg)'])\n",
    "\n",
    "### Defining some plot parameters.\n",
    "title = 'Spatial distribution - Duplicates (exact R.A and DEC) in tract 4030 - detect_isDeblendedSource==False'\n",
    "height = 500\n",
    "width = 1000\n",
    "padding = 0.05\n",
    "\n",
    "### Making the plot.\n",
    "Plate_Carree_rasterized_points = rasterize(ra_dec_points_minusRA, aggregator=ds.count()).opts(cmap=\"Viridis\", cnorm='log')\n",
    "\n",
    "Plate_Carree_spread_points = dynspread(Plate_Carree_rasterized_points).opts(width=width, height=height, padding=padding, title=title, toolbar='above', colorbar=True, \n",
    "                                                                            tools=['box_select'], show_grid=True)\n",
    "\n",
    "Plate_Carree_spread_points"
   ]
  },
  {
   "cell_type": "markdown",
   "id": "f2c54a67-91c3-4d1a-bbdb-4945d7945bc7",
   "metadata": {},
   "source": [
    "**So, in our duplicates table, we have 87 single objects before the deblending (parents). This is exactly equal to the number of parents in tract 4029. Maybe it is some pattern of the simulation?**\n",
    "\n",
    "Parents may also be parent of other parent (other object that will be, again, deblended). Let us check if we have this in our duplicates table by searching for duplicates in the parents table, considering the R.A. and DEC. coordinates."
   ]
  },
  {
   "cell_type": "code",
   "execution_count": null,
   "id": "1fe45726-759e-48d5-b105-e7e56e75bbe1",
   "metadata": {},
   "outputs": [],
   "source": [
    "dataframe_parent_of_parent_4030 = dataframe_parent_4030[dataframe_parent_4030[['coord_ra', 'coord_dec']].duplicated(keep=False)].sort_values('coord_ra')\n",
    "dataframe_parent_of_parent_4030"
   ]
  },
  {
   "cell_type": "markdown",
   "id": "8c904c08-6a85-470c-b34e-5ebf998489da",
   "metadata": {},
   "source": [
    "**So, our parents don't have other parents as children, considering exact correspondence of R.A. and DEC. coordinates. It is worth noting that they may have other parents as children, but with slightly difference in the R.A. and DEC. coordinates, which we will not get here.**"
   ]
  },
  {
   "cell_type": "markdown",
   "id": "bac81c98-3fdf-430f-a103-caf2eabcb6b6",
   "metadata": {},
   "source": [
    "#### Flag ```detect_isDeblendedSource == False``` - Who are the children?"
   ]
  },
  {
   "cell_type": "markdown",
   "id": "9004b4f0-2406-4a9d-a6c2-227b9fb070d1",
   "metadata": {},
   "source": [
    "Now, let us see who are the children, considering exact correspondence of R.A. and DEC., in our duplicates table associated to these parents objects.\n",
    "\n",
    "Defining the children dataframe. Again, we will use the flags ```'detect_isPatchInner==True'``` and ```detect_isTractInner==True``` to isolate duplicates effects comming only from deblending."
   ]
  },
  {
   "cell_type": "code",
   "execution_count": null,
   "id": "dddd2659-2dcc-4670-8e5e-eb19a4403c1e",
   "metadata": {},
   "outputs": [],
   "source": [
    "dataframe_child_4030 = df_tract4030_duplicates[df_tract4030_duplicates['detect_isDeblendedSource'] == True]\n",
    "dataframe_child_4030 = dataframe_child_4030[dataframe_child_4030['merge_peak_sky'] == False]\n",
    "dataframe_child_4030 = dataframe_child_4030[dataframe_child_4030['detect_isPatchInner'] == True]\n",
    "dataframe_child_4030 = dataframe_child_4030[dataframe_child_4030['detect_isTractInner'] == True]"
   ]
  },
  {
   "cell_type": "markdown",
   "id": "ee751820-1c80-4206-a461-754752980788",
   "metadata": {},
   "source": [
    "Associating the children to the parents."
   ]
  },
  {
   "cell_type": "code",
   "execution_count": null,
   "id": "00827814-7067-4c2d-8ca0-9003bb4b372d",
   "metadata": {},
   "outputs": [],
   "source": [
    "intersect_4030 = pd.merge(dataframe_parent_4030, dataframe_child_4030, on=['coord_ra', 'coord_dec'], how='inner')\n",
    "\n",
    "filtered_parent_4030 = dataframe_parent_4030[dataframe_parent_4030[['coord_ra', 'coord_dec']].apply(tuple, axis=1).isin(intersect_4030[['coord_ra', 'coord_dec']].apply(tuple, axis=1))]\n",
    "filtered_child_4030 = dataframe_child_4030[dataframe_child_4030[['coord_ra', 'coord_dec']].apply(tuple, axis=1).isin(intersect_4030[['coord_ra', 'coord_dec']].apply(tuple, axis=1))]\n",
    "\n",
    "dataframe_merged_4030 = pd.concat([filtered_parent_4030, filtered_child_4030]).sort_values(by=['coord_ra', 'coord_dec']).reset_index(drop=True)"
   ]
  },
  {
   "cell_type": "code",
   "execution_count": null,
   "id": "964dfe05-d76f-4e26-97ba-711f8daeaff2",
   "metadata": {},
   "outputs": [],
   "source": [
    "filtered_child_4030.describe()"
   ]
  },
  {
   "cell_type": "code",
   "execution_count": null,
   "id": "676d4d58-61a4-46c5-82d2-6947756361bb",
   "metadata": {},
   "outputs": [],
   "source": [
    "dataframe_merged_4030.head(10)"
   ]
  },
  {
   "cell_type": "markdown",
   "id": "f9adb141-ff05-4a17-a19d-c2ed6ba0ef5c",
   "metadata": {},
   "source": [
    "**So, we have only 28 single children that have exact correspondence of R.A. and DEC. to the parents listed in the previous dataframe of parents. The parents may have other children, but we don't get them here, because we are considering only exact correspondence of R.A. and DEC.**\n",
    "\n",
    "**As we can see, one of the sources of duplicates, considering R.A. and DEC. coordinates, is the deblending process, because we are counting parents and children together.**"
   ]
  },
  {
   "cell_type": "markdown",
   "id": "36b91ed7-1239-4f1a-958e-ee4919ea8ea8",
   "metadata": {},
   "source": [
    "### Duplicates in tract 4030 - ```detect_isPatchInner``` flag\n",
    "\n",
    "Let us see what happens if we use the flag ```detect_isPatchInner==False``` in the duplicates table. This flag is ```True``` when:\n",
    "1) The source is in the inner region of a patch.\n",
    "\n",
    "So, by setting it as ```False```, we are basically getting sources which are in the edge of the patch, which overlaps with other patches. Then, we will have multiple observations of the same object.\n",
    "\n",
    "#### Flag ```detect_isPatchInner == False```"
   ]
  },
  {
   "cell_type": "code",
   "execution_count": null,
   "id": "c90c5aab-44d4-46e3-973b-5e97439e10c4",
   "metadata": {},
   "outputs": [],
   "source": [
    "dataframe_patchinner_4030 = df_tract4030_duplicates[df_tract4030_duplicates['detect_isPatchInner'] == False]"
   ]
  },
  {
   "cell_type": "markdown",
   "id": "42dc6005-a113-453a-8a8e-f2296b17c2f7",
   "metadata": {},
   "source": [
    "First lines."
   ]
  },
  {
   "cell_type": "code",
   "execution_count": null,
   "id": "7da4e416-74bc-4542-92d0-58c87872856a",
   "metadata": {},
   "outputs": [],
   "source": [
    "dataframe_patchinner_4030.head(10)"
   ]
  },
  {
   "cell_type": "markdown",
   "id": "9f448c4d-b72d-4a7e-a079-f75a247c69f7",
   "metadata": {},
   "source": [
    "Basic statistics."
   ]
  },
  {
   "cell_type": "code",
   "execution_count": null,
   "id": "790d81dd-1780-48b8-b6ff-11b7ee464da8",
   "metadata": {},
   "outputs": [],
   "source": [
    "dataframe_patchinner_4030.describe()"
   ]
  },
  {
   "cell_type": "markdown",
   "id": "e395e0b6-8092-453a-b9a4-9072041fc21f",
   "metadata": {},
   "source": [
    "Making the plot of duplicates with ```detect_isPatchInner==False```."
   ]
  },
  {
   "cell_type": "code",
   "execution_count": null,
   "id": "c963e7c5-9b83-42bc-ac7d-1b685e500a04",
   "metadata": {},
   "outputs": [],
   "source": [
    "### Defining the points\n",
    "dataframe = dataframe_patchinner_4030\n",
    "ra = dataframe['coord_ra']\n",
    "dec = dataframe['coord_dec']\n",
    "\n",
    "ra_dec_points_minusRA = gv.Points((-ra, dec), kdims=['-R.A. (deg)', 'DEC (deg)'])\n",
    "\n",
    "### Defining some plot parameters.\n",
    "title = 'Spatial distribution - Duplicates (exact R.A and DEC) in tract 4030 - detect_isPatchInner==False'\n",
    "height = 500\n",
    "width = 1000\n",
    "padding = 0.05\n",
    "\n",
    "### Making the plot.\n",
    "Plate_Carree_rasterized_points = rasterize(ra_dec_points_minusRA, aggregator=ds.count()).opts(cmap=\"Viridis\", cnorm='log')\n",
    "\n",
    "Plate_Carree_spread_points = dynspread(Plate_Carree_rasterized_points).opts(width=width, height=height, padding=padding, title=title, toolbar='above', colorbar=True, \n",
    "                                                                            tools=['box_select'], show_grid=True)\n",
    "\n",
    "Plate_Carree_spread_points"
   ]
  },
  {
   "cell_type": "markdown",
   "id": "8c61db9b-5d42-427b-bd55-df22304b1f7c",
   "metadata": {},
   "source": [
    "**So, 32410 duplicates objects (counting the original and the duplicate) are objects in the edges of the patches, therefore in the region of overlap between different patches, where we expect them to have multiple observations.**"
   ]
  },
  {
   "cell_type": "markdown",
   "id": "a66fd993-2954-47da-8d57-0af6a1a9d05d",
   "metadata": {},
   "source": [
    "### Duplicates in tract 4030 - ```detect_isTractInner==False```\n",
    "\n",
    "Let us see what happens if we use the flag ```detect_isTractInner==False``` in the duplicates table. This flag is ```True``` when:\n",
    "1) The source is in the inner region of a tract.\n",
    "\n",
    "So, by setting it as ```False```, we are basically getting sources which are in the edge of the tract, which overlaps with other tracts. Then, we will have multiple observations of the same object.\n",
    "\n",
    "#### Flag ```detect_isTractInner == False```"
   ]
  },
  {
   "cell_type": "code",
   "execution_count": null,
   "id": "5f23b03c-e37e-4ff4-9e9c-58fee1fcabe4",
   "metadata": {},
   "outputs": [],
   "source": [
    "dataframe_tractinner_4030 = df_tract4030_duplicates[df_tract4030_duplicates['detect_isTractInner'] == False]"
   ]
  },
  {
   "cell_type": "markdown",
   "id": "5c5591ee-c34d-450b-b22a-bf45c47c6792",
   "metadata": {},
   "source": [
    "First lines."
   ]
  },
  {
   "cell_type": "code",
   "execution_count": null,
   "id": "6359de41-d8c6-4930-a514-2c2a45148ece",
   "metadata": {},
   "outputs": [],
   "source": [
    "dataframe_tractinner_4030.head(10)"
   ]
  },
  {
   "cell_type": "markdown",
   "id": "7f5b7d61-0092-4de2-b176-e03b9586772a",
   "metadata": {},
   "source": [
    "Basic statistics."
   ]
  },
  {
   "cell_type": "code",
   "execution_count": null,
   "id": "664e6aeb-3d10-4e6b-a992-86ad6308633c",
   "metadata": {},
   "outputs": [],
   "source": [
    "dataframe_tractinner_4030.describe()"
   ]
  },
  {
   "cell_type": "markdown",
   "id": "47fe447b-5515-41c5-a85a-f495dc82abbd",
   "metadata": {},
   "source": [
    "Making the plot of duplicates with ```detect_isTractInner==False```."
   ]
  },
  {
   "cell_type": "code",
   "execution_count": null,
   "id": "e8bc0ba0-f6c5-4cba-bf27-9ab6c98af1c4",
   "metadata": {},
   "outputs": [],
   "source": [
    "### Defining the points\n",
    "dataframe = dataframe_tractinner_4030\n",
    "ra = dataframe['coord_ra']\n",
    "dec = dataframe['coord_dec']\n",
    "\n",
    "ra_dec_points_minusRA = gv.Points((-ra, dec), kdims=['-R.A. (deg)', 'DEC (deg)'])\n",
    "\n",
    "### Defining some plot parameters.\n",
    "title = 'Spatial distribution - Duplicates (exact R.A and DEC) in tract 4030 - detect_isTractInner==False'\n",
    "height = 500\n",
    "width = 1000\n",
    "padding = 0.05\n",
    "\n",
    "### Making the plot.\n",
    "Plate_Carree_rasterized_points = rasterize(ra_dec_points_minusRA, aggregator=ds.count()).opts(cmap=\"Viridis\", cnorm='log')\n",
    "\n",
    "Plate_Carree_spread_points = dynspread(Plate_Carree_rasterized_points).opts(width=width, height=height, padding=padding, title=title, toolbar='above', colorbar=True, \n",
    "                                                                            tools=['box_select'], show_grid=True)\n",
    "\n",
    "Plate_Carree_spread_points"
   ]
  },
  {
   "cell_type": "markdown",
   "id": "62d373ce-ad37-4e90-9ca7-3806d5020e62",
   "metadata": {},
   "source": [
    "**So, 6873 duplicates objects (counting the original and the duplicate) are objects in the edges of the tract, therefore in the region of overlap between different tracts, where we expect them to have multiple observations.**"
   ]
  },
  {
   "cell_type": "markdown",
   "id": "a04033e2-139b-4a11-9569-d26c26a4f7c5",
   "metadata": {},
   "source": [
    "---------------------------------------------------------------------------------------------------\n",
    "## Checking for duplicates in both tracts concatenated, considering the R.A. and DEC coordinates"
   ]
  },
  {
   "cell_type": "markdown",
   "id": "5d79a94e-0592-4355-a7db-61c90811306b",
   "metadata": {},
   "source": [
    "Now, we will check for duplicates in both tracts concatenated, considering the R.A. and DEC coordinates, and we sort the values based on the ```coord_ra``` column."
   ]
  },
  {
   "cell_type": "markdown",
   "id": "f5e6eb62-20f1-4726-b2dc-aebf15e99a58",
   "metadata": {},
   "source": [
    "First, let us define the concatenated dask dataframe."
   ]
  },
  {
   "cell_type": "code",
   "execution_count": null,
   "id": "6c703463-53fc-4710-a32c-a09fad4aafd7",
   "metadata": {},
   "outputs": [],
   "source": [
    "ddf_concat_4029_4030 = dd.concat([ddf_tract4029,ddf_tract4030])\n",
    "\n",
    "selected_columns = ['coord_ra', 'coord_dec', 'g_cModelFlux', 'r_cModelFlux', 'i_cModelFlux', 'g_cModelFluxErr', \n",
    "                    'r_cModelFluxErr', 'i_cModelFluxErr', 'detect_isDeblendedSource', 'detect_isPatchInner', 'detect_isTractInner', 'merge_peak_sky', 'detect_isPrimary']\n",
    "\n",
    "df_concat_4029_4030 = ddf_concat_4029_4030[selected_columns].compute()"
   ]
  },
  {
   "cell_type": "markdown",
   "id": "2c361481-9c63-4a93-81b1-3adea3786a13",
   "metadata": {},
   "source": [
    "Now, let us search for duplicates."
   ]
  },
  {
   "cell_type": "code",
   "execution_count": null,
   "id": "49326b68-2511-42f8-8138-6c2d3095a8e4",
   "metadata": {},
   "outputs": [],
   "source": [
    "df_concat_4029_4030[df_concat_4029_4030[['coord_ra', 'coord_dec']].duplicated(keep=False)].sort_values('coord_ra')"
   ]
  },
  {
   "cell_type": "markdown",
   "id": "af3e1198-b8f4-4e86-ba50-22033affb6e3",
   "metadata": {},
   "source": [
    "**As we can see, the number of duplicates is exactly the sum of the number of duplicates of both tracts individually (4029 and 4030), that is, $40199\\text{ rows} + 37817 \\text{ rows} = 78016 \\text{ rows}$. So, when we consider the R.A. and DEC. exactly correspondence as the criteria for finding duplicates, it seems that the duplicates are coming from a individual tract, and not from the combination of both tracts.**"
   ]
  },
  {
   "cell_type": "markdown",
   "id": "d15f0051-1578-485d-b70d-90632ea62af2",
   "metadata": {},
   "source": [
    "\n",
    "### Checking for duplicates in both tracts concatenated, considering the objectId column (index)"
   ]
  },
  {
   "cell_type": "markdown",
   "id": "720506f1-38a8-4993-bb72-53830e0719bf",
   "metadata": {},
   "source": [
    "Now, we will check for duplicates in both tracts concatenated, considering just the ```objectId column```, and we sort the values based on the ```coord_ra``` column."
   ]
  },
  {
   "cell_type": "code",
   "execution_count": null,
   "id": "0b796415-0c91-4e87-915f-64b650ce2e7c",
   "metadata": {},
   "outputs": [],
   "source": [
    "df_concat_4029_4030[df_concat_4029_4030.index.duplicated(keep=False)].sort_values('coord_ra')"
   ]
  },
  {
   "cell_type": "markdown",
   "id": "b8096b46-0de4-4a71-86c6-7bc8b460fe23",
   "metadata": {},
   "source": [
    "As we can see, there are no duplicated ```objectId```, although, as we saw before, there are objects that have the same R.A. and DEC, but with different ```objectId``` values."
   ]
  },
  {
   "cell_type": "markdown",
   "id": "105c6d71-356b-430b-8362-6f8f8841a72e",
   "metadata": {},
   "source": [
    "------------------------------------------------------------------------------------------\n",
    "------------------------------------------------------------------------------------------\n",
    "# Closing the client and cluster"
   ]
  },
  {
   "cell_type": "code",
   "execution_count": null,
   "id": "65cc4f7b-bcd9-40f5-b6fc-2d9f71a24a2e",
   "metadata": {},
   "outputs": [],
   "source": [
    "# Fechando o client\n",
    "client.close()\n",
    "cluster.close()"
   ]
  }
 ],
 "metadata": {
  "kernelspec": {
   "display_name": "ondemand-kernel",
   "language": "python",
   "name": "ondemand-kernel"
  },
  "language_info": {
   "codemirror_mode": {
    "name": "ipython",
    "version": 3
   },
   "file_extension": ".py",
   "mimetype": "text/x-python",
   "name": "python",
   "nbconvert_exporter": "python",
   "pygments_lexer": "ipython3",
   "version": "3.12.5"
  }
 },
 "nbformat": 4,
 "nbformat_minor": 5
}
