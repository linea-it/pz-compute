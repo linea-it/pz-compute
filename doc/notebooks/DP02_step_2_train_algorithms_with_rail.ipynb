{
 "cells": [
  {
   "cell_type": "markdown",
   "id": "4a30b592-3b97-42af-a5f5-3d34948abfd5",
   "metadata": {},
   "source": [
    "<img align=\"left\" src = \"images/linea.png\" width=140 style=\"padding: 20px\"> \n",
    "<img align=\"left\" src = \"images/rubin.png\" width=180 style=\"padding: 30px\"> \n",
    "\n",
    "# PZ Compute \n",
    "## Photo-zs for DP0.2 Objects catalog"
   ]
  },
  {
   "cell_type": "markdown",
   "id": "40034b70-4d4b-4f61-a459-5b7f67b9565b",
   "metadata": {
    "execution": {
     "iopub.execute_input": "2024-07-08T19:40:19.924238Z",
     "iopub.status.busy": "2024-07-08T19:40:19.923326Z",
     "iopub.status.idle": "2024-07-08T19:40:19.928637Z",
     "shell.execute_reply": "2024-07-08T19:40:19.927834Z",
     "shell.execute_reply.started": "2024-07-08T19:40:19.924213Z"
    }
   },
   "source": [
    "Contact: [Julia Gschwend](mailto:julia@linea.org.br)\n",
    "\n",
    "Last verified run: **11-Jul-2024**\n",
    "\n",
    "\n",
    "# Step 2 - Train and test PZ algorithms using RAIL \n",
    "**Contributors:** Andreia Dourado, Julia Gschwend, Yago Lopes, Bruno Moraes. \n",
    "\n",
    "This section was written based on the [example notebooks available in RAIL's repository](https://github.com/LSSTDESC/rail/tree/main/examples). It is set up to be executed anywhere and requires previous RAIL installation.  \n"
   ]
  },
  {
   "cell_type": "markdown",
   "id": "d25f5c54-f9d1-47c4-933a-1a6a2a14a286",
   "metadata": {},
   "source": [
    "Import packages and define parameters "
   ]
  },
  {
   "cell_type": "code",
   "execution_count": null,
   "id": "43731085-6afb-4382-a1b2-e008500e721e",
   "metadata": {},
   "outputs": [],
   "source": [
    "import numpy as np\n",
    "import pandas as pd\n",
    "import matplotlib.pyplot as plt\n",
    "import rail\n",
    "import qp\n",
    "from rail.core.data import TableHandle, PqHandle, ModelHandle, QPHandle, DataHandle, Hdf5Handle\n",
    "from rail.core.data import TableHandle\n",
    "from rail.core.stage import RailStage\n",
    "%matplotlib inline"
   ]
  },
  {
   "cell_type": "code",
   "execution_count": null,
   "id": "3fa24045-952d-4561-a183-ff913f216a47",
   "metadata": {},
   "outputs": [],
   "source": []
  },
  {
   "cell_type": "code",
   "execution_count": null,
   "id": "b3236d96-ecef-4701-b885-81420d4cc2b7",
   "metadata": {},
   "outputs": [],
   "source": []
  }
 ],
 "metadata": {
  "kernelspec": {
   "display_name": "rail",
   "language": "python",
   "name": "rail"
  },
  "language_info": {
   "codemirror_mode": {
    "name": "ipython",
    "version": 3
   },
   "file_extension": ".py",
   "mimetype": "text/x-python",
   "name": "python",
   "nbconvert_exporter": "python",
   "pygments_lexer": "ipython3",
   "version": "3.9.16"
  }
 },
 "nbformat": 4,
 "nbformat_minor": 5
}
