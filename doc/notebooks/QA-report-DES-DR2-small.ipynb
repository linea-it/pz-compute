{
 "cells": [
  {
   "cell_type": "markdown",
   "id": "9d42adbb-55a5-4edd-aaae-2a5c2279e279",
   "metadata": {},
   "source": [
    "<img align='left' src = '../images/linea.png' width=150 style='padding: 20px'> \n",
    "\n",
    "# PZ Compute - Input Data QA Notebook - DES DR2 Sample of Galaxies\n",
    "\n",
    "Collection of magnitude measurements for galaxies made available by DES survey, release DES DR2, obtained from the DB LIneA database.\n",
    "\n",
    "Contact: Luigi Silva ([luigi.lcsilva@linea.org.br](mailto:luigi.lcsilva@linea.org.br))\n",
    "\n",
    "<br>\n",
    "<br>"
   ]
  },
  {
   "cell_type": "markdown",
   "id": "6c6d0276-13b5-4a2e-974d-0b3c664914f7",
   "metadata": {},
   "source": [
    "#### Acknowledgments\n",
    "If you use this dataset to generate scientific results, please acknowledge LIneA in the acknowledgments section of your publication. For instance:\n",
    "\n",
    "'_This research used computational resources from the Associação Laboratório Interinstitucional de e-Astronomia (LIneA) with the financial support of INCT do e-Universo (Process no. 465376/2014-2)._'"
   ]
  },
  {
   "cell_type": "markdown",
   "id": "b2a1c35b-a2c0-423d-93e5-68e7cab79b91",
   "metadata": {},
   "source": [
    "#### Notes about the data"
   ]
  },
  {
   "cell_type": "markdown",
   "id": "e95062a6-cfdb-4852-9171-51a701d6a4b4",
   "metadata": {},
   "source": [
    "This notebook contains a characterization of the magnitudes measurements in the DES DR2 catalog, which has been publicly distributed and described in detail in scientific literature by the DES project. See the details by clicking on the links in the table below."
   ]
  },
  {
   "cell_type": "markdown",
   "id": "26161844-492a-4564-90a8-6acfbb5ccdd4",
   "metadata": {},
   "source": [
    "|seq.|Survey name <br> (link to the website)| Number of objects in <br>the original sample | Reference <br> (link to the paper) |\n",
    "|---|---|:-:|---|\n",
    "|1|[DES DR2](https://des.ncsa.illinois.edu/releases/dr2)|~691 million distinct astronomical objects|[DES Collaboration 2021](https://arxiv.org/abs/2101.05765)| "
   ]
  },
  {
   "cell_type": "markdown",
   "id": "d5b41106-cea1-4575-8f02-d00df6194039",
   "metadata": {},
   "source": [
    "In this notebook, we will use the data from the coadd_objects table of the DES DR2 catalog. This table has, originally, 215 columns (the name and meaning of each column can be found [here](https://des.ncsa.illinois.edu/releases/dr2/dr2-products/dr2-schema))."
   ]
  },
  {
   "cell_type": "markdown",
   "id": "70879627-ed72-4ba8-a736-804e1247253e",
   "metadata": {},
   "source": [
    "We will use the following columns here:"
   ]
  },
  {
   "cell_type": "markdown",
   "id": "84676ddf-296d-4284-b0bf-a65f9d7e9891",
   "metadata": {},
   "source": [
    "| Column | Meaning |\n",
    "|---|---|\n",
    "|COADD_OBJECT_ID | Unique identifier for the coadded objects|\n",
    "|RA | Right ascension, with quantized precision for indexing (ALPHAWIN_J2000 has full precision but not indexed) [degrees]|\n",
    "|DEC | Declination, with quantized precision for indexing (DELTAWIN_J2000 has full precision but not indexed) [degrees] |\n",
    "|MAG_AUTO_{G,R,I,Z,Y}_DERED | Dereddened magnitude estimation (using SFD98), for an elliptical model based on the Kron radius [mag] |\n",
    "|MAGERR_AUTO_{G,R,I,Z,Y} | Uncertainty in magnitude estimation, for an elliptical model based on the Kron radius [mag] |\n",
    "|FLAGS_{G,R,I,Z,Y}| Additive flag describing cautionary advice about source extraction process. Use less than 4 for well behaved objects |\n",
    "|EXTENDED_CLASS_COADD |0: high confidence stars; 1: candidate stars; 2: mostly galaxies; 3: high confidence galaxies; -9: No data; Using Sextractor photometry |"
   ]
  },
  {
   "cell_type": "markdown",
   "id": "d75fb1c7-0bf1-4fd6-a737-3221c45d8e61",
   "metadata": {},
   "source": [
    "The sextractor flags (FLAGS_{G,R,I,Z,Y}) are related to basic warnings about the source extraction process (see more [here](https://sextractor.readthedocs.io/en/des_dr1/Flagging.html#flags-def)). If there are more than one warning, the flags are added together. The flags are showed below, in order of increasing concern."
   ]
  },
  {
   "cell_type": "markdown",
   "id": "c81955bc-bbc7-4925-8db4-077b02bcd775",
   "metadata": {},
   "source": [
    "| Value | Meaning |\n",
    "|---|---|\n",
    "|1| aperture photometry is likely to be biased by neighboring sources or by more than 10% of bad pixels in any aperture|\n",
    "|2| the object has been deblended|\n",
    "|4| at least one object pixel is saturated|\n",
    "|8| the isophotal footprint of the detected object is truncated (too close to an image boundary)|\n",
    "|16| at least one photometric aperture is incomplete or corrupted (hitting buffer or memory limits)|\n",
    "|32| the isophotal footprint is incomplete or corrupted (hitting buffer or memory limits)|\n",
    "|64| a memory overflow occurred during deblending|\n",
    "|128| a memory overflow occurred during extraction|"
   ]
  },
  {
   "cell_type": "markdown",
   "id": "cef163c0-59d2-4a54-bc9e-a9823999d0ea",
   "metadata": {},
   "source": [
    "---\n",
    "# Part 1 - Characterization of a random sample of data"
   ]
  },
  {
   "cell_type": "markdown",
   "id": "260a4415-b4af-4578-8f44-61285fef0e3f",
   "metadata": {},
   "source": [
    "We will apply the following filters in the subsequent selection of objects:\n",
    "1. <strong>EXTENDED_CLASS_COADD $\\geq$ 2, that is, mostly galaxies and high confidence galaxies</strong>; \n",
    "2. <strong>MAG_AUTO_I_DERED $\\leq$ 24.\n",
    "\n",
    "Furthermore, we will make a random selection of the data, using the TABLESAMPLE SYSTEM in the query with 0.03 percentage, that is, we will get around 3% of the objects with the specified filter in a random way.\n",
    "\n",
    "Check below a brief characterization of the data."
   ]
  },
  {
   "cell_type": "markdown",
   "id": "145fffbe-b503-4390-b8a7-da33ff07ddaf",
   "metadata": {},
   "source": [
    "---\n",
    "## General settings for this notebook"
   ]
  },
  {
   "cell_type": "markdown",
   "id": "f7eeca28-7bfc-4449-9afd-b88b648d0418",
   "metadata": {},
   "source": [
    "Requirements for this notebook:\n",
    "\n",
    "* **General libraries**: os, sys, numpy;\n",
    "* **Data access and manipulation libraries**: pandas, dblinea;\n",
    "* **Astronomy**: astropy;\n",
    "* **View libraries**: bokeh, holoviews, geoviews, cartopy\n",
    "* **Auxiliary file**: [des-round19-poly.txt](https://github.com/kadrlica/skymap/blob/master/skymap/data/des-round19-poly.txt) (contours of the area covered by the survey, i.e., DES _footprint_, 2019 version).\n",
    "\n",
    "_Download_ the file `des-round19-poly.txt` from the repository [kadrlica/skymap](https://github.com/kadrlica/skymap) on GitHub:"
   ]
  },
  {
   "cell_type": "code",
   "execution_count": null,
   "id": "b8c1f12b-4212-42cd-8271-fcbe881c9d7a",
   "metadata": {
    "tags": []
   },
   "outputs": [],
   "source": [
    "! wget https://raw.githubusercontent.com/kadrlica/skymap/master/skymap/data/des-round19-poly.txt -O des-round19-poly.txt   "
   ]
  },
  {
   "cell_type": "markdown",
   "id": "5608ae7e-ca24-48dd-9bd3-3aa4b7d14089",
   "metadata": {},
   "source": [
    "### Imports"
   ]
  },
  {
   "cell_type": "markdown",
   "id": "e0ed9518-0f54-45af-b568-b628e4708218",
   "metadata": {},
   "source": [
    "Importing some scientific and visualization libraries."
   ]
  },
  {
   "cell_type": "code",
   "execution_count": null,
   "id": "7354c6f4-0f26-4ce5-b8ca-dfbd8f2d77aa",
   "metadata": {},
   "outputs": [],
   "source": [
    "### GENERAL\n",
    "import os\n",
    "import sys\n",
    "import numpy as np"
   ]
  },
  {
   "cell_type": "code",
   "execution_count": null,
   "id": "51942b59-f7fa-4592-8af6-d55e956487ee",
   "metadata": {},
   "outputs": [],
   "source": [
    "### DATA ACCESS AND MANIPULATION\n",
    "import pandas as pd\n",
    "from dblinea import DBBase"
   ]
  },
  {
   "cell_type": "code",
   "execution_count": null,
   "id": "34733c86-6145-45fb-b7a1-192e8ffdab59",
   "metadata": {},
   "outputs": [],
   "source": [
    "### ASTRONOMY\n",
    "from astropy import units as u\n",
    "from astropy.coordinates import SkyCoord\n",
    "from astropy.units.quantity import Quantity"
   ]
  },
  {
   "cell_type": "code",
   "execution_count": null,
   "id": "16cf1c89-b929-4070-8a3e-e6966fd9589d",
   "metadata": {
    "tags": []
   },
   "outputs": [],
   "source": [
    "### VISUALIZATION\n",
    "# Bokeh\n",
    "import bokeh\n",
    "from bokeh.io import output_notebook\n",
    "\n",
    "# Holoviews\n",
    "import holoviews as hv\n",
    "from holoviews import streams, opts\n",
    "from holoviews.operation import histogram\n",
    "from holoviews.operation.datashader import rasterize, dynspread\n",
    "\n",
    "# Geoviews\n",
    "import geoviews as gv\n",
    "import geoviews.feature as gf\n",
    "\n",
    "# Cartopy\n",
    "from cartopy import crs"
   ]
  },
  {
   "cell_type": "markdown",
   "id": "98d8eaf4-3831-401a-b07d-de430b57c7f1",
   "metadata": {},
   "source": [
    "Printing the versions of Python, Numpy, Bokeh and Holoviews:"
   ]
  },
  {
   "cell_type": "code",
   "execution_count": null,
   "id": "d53262af-8767-43c5-9f25-bbd903975487",
   "metadata": {},
   "outputs": [],
   "source": [
    "print('Python version: ' + sys.version)\n",
    "print('Numpy verstion: ' + np.__version__)\n",
    "print('Bokeh version: ' + bokeh.__version__)\n",
    "print('HoloViews version: ' + hv.__version__)"
   ]
  },
  {
   "cell_type": "markdown",
   "id": "8b175118-8cf8-4c08-a019-901e7f3ec182",
   "metadata": {},
   "source": [
    "### Configs"
   ]
  },
  {
   "cell_type": "markdown",
   "id": "44c4e7bb-0b2f-44d3-8ab3-72c9a5e70c7b",
   "metadata": {},
   "source": [
    "Setting the number of rows that pandas will show:"
   ]
  },
  {
   "cell_type": "code",
   "execution_count": null,
   "id": "f1ca5066-56cc-4279-ad8d-aa286317162d",
   "metadata": {},
   "outputs": [],
   "source": [
    "pd.set_option('display.max_rows', 10)"
   ]
  },
  {
   "cell_type": "markdown",
   "id": "17794bb9-40aa-4dc7-be27-8cfe65088789",
   "metadata": {},
   "source": [
    "Setting holoviews to work with bokeh:"
   ]
  },
  {
   "cell_type": "code",
   "execution_count": null,
   "id": "3f3cf2ee-8bdc-4c70-9e58-71e5ea38faf8",
   "metadata": {},
   "outputs": [],
   "source": [
    "hv.extension('bokeh')"
   ]
  },
  {
   "cell_type": "markdown",
   "id": "5b0e60f8-851b-42c6-89cc-09892ed64625",
   "metadata": {},
   "source": [
    "Setting geoviews to work with bokeh:"
   ]
  },
  {
   "cell_type": "code",
   "execution_count": null,
   "id": "6e9c3cab-ecc6-4268-b439-85cbcb2a7870",
   "metadata": {},
   "outputs": [],
   "source": [
    "gv.extension('bokeh')"
   ]
  },
  {
   "cell_type": "markdown",
   "id": "21c78718-210d-4e71-b0e0-c3f528f58805",
   "metadata": {},
   "source": [
    "Set bokeh plots to be inline:"
   ]
  },
  {
   "cell_type": "code",
   "execution_count": null,
   "id": "afdfd27e-f260-46ec-a78c-56ae3603009a",
   "metadata": {},
   "outputs": [],
   "source": [
    "output_notebook()"
   ]
  },
  {
   "cell_type": "markdown",
   "id": "0e7ba152-8baa-4784-9e29-ca4bb541b9b3",
   "metadata": {},
   "source": [
    "Set matplotlib plots to be inline:"
   ]
  },
  {
   "cell_type": "code",
   "execution_count": null,
   "id": "1ce77508-d0dc-4356-8c62-a24aaa0c6a75",
   "metadata": {},
   "outputs": [],
   "source": [
    "%matplotlib inline"
   ]
  },
  {
   "cell_type": "markdown",
   "id": "32dc2109-3b4d-4406-8e76-63f838472458",
   "metadata": {},
   "source": [
    "---\n",
    "## Reading and filtering the data"
   ]
  },
  {
   "cell_type": "markdown",
   "id": "76e04245-0721-44bc-9a5c-4d9288c808f4",
   "metadata": {},
   "source": [
    "### Read DES footprint file `des-round19-poly.txt`"
   ]
  },
  {
   "cell_type": "markdown",
   "id": "21c0e2f8-4823-4079-a764-d4fd99d3ff81",
   "metadata": {},
   "source": [
    "Here, we will read the DES DR2 footprint from the `des-round19-poly.txt` file and print the minimum and maximum of R.A. and DEC."
   ]
  },
  {
   "cell_type": "code",
   "execution_count": null,
   "id": "4a448703-255e-42f8-91ba-d8bed9536272",
   "metadata": {},
   "outputs": [],
   "source": [
    "foot_ra, foot_dec = np.loadtxt('des-round19-poly.txt', unpack=True)\n",
    "\n",
    "print(\"R.A. AND DEC COORDINATES, BEFORE USING SKYCOORD\")\n",
    "print(f\"R.A. min: {foot_ra.min():.2f} | R.A. max: {foot_ra.max():.2f}\")\n",
    "print(f\"DEC min: {foot_dec.min():.2f} | DEC max: {foot_dec.max():.2f}\")"
   ]
  },
  {
   "cell_type": "markdown",
   "id": "0d04b7a5-01a1-424e-b553-c5e261d7f6d3",
   "metadata": {},
   "source": [
    "After reading the footprint, we define the SkyCoord class from the Astropy library using the footprint R.A. and DEC coordinates. With SkyCoord, we have a flexible interface for representing, manipulating and transforming celestial coordinates between systems. We also use the unity module of Astropy; in ```u.degree```, for example, we indicate that the coordinates are in degree. Additionally, we use the ```wrap_at``` method to ensure that the coordinates are in the range $[-180,180)$."
   ]
  },
  {
   "cell_type": "code",
   "execution_count": null,
   "id": "b17ded65-b06b-48c5-8475-e09a43a68f04",
   "metadata": {},
   "outputs": [],
   "source": [
    "foot_coords = SkyCoord(ra=foot_ra*u.degree, dec=foot_dec*u.degree, frame='icrs')\n",
    "foot_df = pd.DataFrame({'foot_ra': np.array(foot_coords.ra.wrap_at(180*u.degree)), \n",
    "                        'foot_dec': np.array(foot_coords.dec)})\n",
    "\n",
    "print(\"R.A. AND DEC COORDINATES, AFTER USING SKYCOORD\")\n",
    "print(f\"R.A. min: {foot_df['foot_ra'].min():.2f} | R.A. max: {foot_df['foot_ra'].max():.2f}\")\n",
    "print(f\"DEC min: {foot_df['foot_dec'].min():.2f} | DEC max: {foot_df['foot_dec'].max():.2f}\")"
   ]
  },
  {
   "cell_type": "markdown",
   "id": "8b839d9d-abae-420b-b877-cfc43164134f",
   "metadata": {},
   "source": [
    "### Getting the DES DR2 data via dblinea"
   ]
  },
  {
   "cell_type": "markdown",
   "id": "45b56009-2f8d-4a99-a833-56fabbfa77f4",
   "metadata": {},
   "source": [
    "Defining the DBBase class, which makes the connection to the database."
   ]
  },
  {
   "cell_type": "code",
   "execution_count": null,
   "id": "36ed39bb-ca13-4bbd-9bca-ef11dbf7e26b",
   "metadata": {
    "tags": []
   },
   "outputs": [],
   "source": [
    "db = DBBase()"
   ]
  },
  {
   "cell_type": "markdown",
   "id": "0ea62985-f773-434a-acf1-7c49f71a86a0",
   "metadata": {},
   "source": [
    "Defining what data we want to access. Here, we will access the data from the **coadd_objects** table of the **DES DR2** catalog."
   ]
  },
  {
   "cell_type": "code",
   "execution_count": null,
   "id": "96baf7b5-3372-4563-90e8-e36934a5adf1",
   "metadata": {
    "tags": []
   },
   "outputs": [],
   "source": [
    "schema = \"des_dr2\"  \n",
    "tablename = \"main\""
   ]
  },
  {
   "cell_type": "markdown",
   "id": "8d41fffb-951c-4b83-acc5-29af6a16f034",
   "metadata": {},
   "source": [
    "Defining the parameters for the random function in the query (TABLESAMPLE SYSTEM)."
   ]
  },
  {
   "cell_type": "code",
   "execution_count": null,
   "id": "afd439bf-74e2-4e37-b30f-c0dab9517749",
   "metadata": {
    "tags": []
   },
   "outputs": [],
   "source": [
    "tablesample_percentual = 0.03   # Approximate percentual of the data that TABLESAMPLE SYSTEM will select randomly.\n",
    "rand_seed = 100                # This seed is defined here to reproduce the same result every time the notebook is runned."
   ]
  },
  {
   "cell_type": "markdown",
   "id": "6cc62e24-d69f-4821-9117-21c332abfa11",
   "metadata": {},
   "source": [
    "Defining the filters as described in the introduction of this notebook (<strong>EXTENDED_CLASS_COADD $\\geq$ 2</strong> and <strong>MAG_AUTO_I_DERED $\\leq$ 24)."
   ]
  },
  {
   "cell_type": "code",
   "execution_count": null,
   "id": "280eac4a-6ff4-4b41-bb92-7089aa07a500",
   "metadata": {},
   "outputs": [],
   "source": [
    "extended_class_coadd_lim = 2\n",
    "mag_lim_i = 24"
   ]
  },
  {
   "cell_type": "markdown",
   "id": "00ba5804-e1d9-4989-bb3c-a3b6a8f81d51",
   "metadata": {},
   "source": [
    "Defining the query."
   ]
  },
  {
   "cell_type": "code",
   "execution_count": null,
   "id": "5019af1b-a514-4a3b-ac7d-bd0d741ed999",
   "metadata": {},
   "outputs": [],
   "source": [
    "query = (f\"SELECT coadd_object_id, ra, dec, mag_auto_g_dered, mag_auto_r_dered, mag_auto_i_dered, mag_auto_z_dered, mag_auto_y_dered, magerr_auto_g, \"+\n",
    "         f\"magerr_auto_r, magerr_auto_i, magerr_auto_z, magerr_auto_y, flags_g, flags_r, flags_i, flags_z, flags_y, extended_class_coadd \"+ \n",
    "         f\"FROM {schema}.{tablename} \"+\n",
    "         f\"TABLESAMPLE SYSTEM({tablesample_percentual:.2f}) REPEATABLE ({rand_seed}) \"+ \n",
    "         f\"WHERE (extended_class_coadd >= {extended_class_coadd_lim} \"+\n",
    "         f\"AND mag_auto_i_dered <= {mag_lim_i}) \"\n",
    "        )"
   ]
  },
  {
   "cell_type": "markdown",
   "id": "3382709e-ca3c-409d-86ae-b7d139ca0dfa",
   "metadata": {},
   "source": [
    "Doing the query and computing the elapsed time with the jupyter magic command *time*. **It may take a while (about 3 minutes).**"
   ]
  },
  {
   "cell_type": "code",
   "execution_count": null,
   "id": "ed32705d-08a3-44f3-af6a-74703d66f050",
   "metadata": {},
   "outputs": [],
   "source": [
    "%%time\n",
    "df_input = db.fetchall_df(query)"
   ]
  },
  {
   "cell_type": "markdown",
   "id": "92a31c93-fb23-4b88-9f0d-c2890f402630",
   "metadata": {},
   "source": [
    "Computing and saving the colors (g-r), (r-i), (i-z) and (z-y)."
   ]
  },
  {
   "cell_type": "code",
   "execution_count": null,
   "id": "ae02f922-da80-4eae-8600-4e5308b2f0e1",
   "metadata": {},
   "outputs": [],
   "source": [
    "df_input['mag_auto_(g-r)_dered'] = df_input['mag_auto_g_dered'] - df_input['mag_auto_r_dered']\n",
    "df_input['mag_auto_(r-i)_dered'] = df_input['mag_auto_r_dered'] - df_input['mag_auto_i_dered']\n",
    "df_input['mag_auto_(i-z)_dered'] = df_input['mag_auto_i_dered'] - df_input['mag_auto_z_dered']\n",
    "df_input['mag_auto_(z-y)_dered'] = df_input['mag_auto_z_dered'] - df_input['mag_auto_y_dered']"
   ]
  },
  {
   "cell_type": "markdown",
   "id": "8319a10c-07e2-4b7d-bde5-5bc72a29948c",
   "metadata": {
    "tags": []
   },
   "source": [
    "---\n",
    "\n",
    "## Basic statistics"
   ]
  },
  {
   "cell_type": "markdown",
   "id": "7cd69048-c13f-4084-86c0-647260ab6dc6",
   "metadata": {},
   "source": [
    "Below, we have basic data statistics for each column of the table."
   ]
  },
  {
   "cell_type": "code",
   "execution_count": null,
   "id": "870c6e04-7014-4749-8535-a3a4ed4036b3",
   "metadata": {
    "tags": []
   },
   "outputs": [],
   "source": [
    "basic_stats = df_input.describe()"
   ]
  },
  {
   "cell_type": "code",
   "execution_count": null,
   "id": "8db818a5-e5d2-49d8-800e-dfb0f32e9cef",
   "metadata": {
    "tags": []
   },
   "outputs": [],
   "source": [
    "basic_stats"
   ]
  },
  {
   "cell_type": "markdown",
   "id": "6e000d2e-d8fc-40de-990d-2a7e31890efa",
   "metadata": {},
   "source": [
    "---\n",
    "## Plots"
   ]
  },
  {
   "cell_type": "markdown",
   "id": "98a2160c-1485-4def-b6c6-4909f31836f2",
   "metadata": {},
   "source": [
    "### Spatial distribution with geoviews"
   ]
  },
  {
   "cell_type": "markdown",
   "id": "903d67e6-85af-49af-b9ec-7da36d7d4de2",
   "metadata": {},
   "source": [
    "Defining some general settings for the plot."
   ]
  },
  {
   "cell_type": "code",
   "execution_count": null,
   "id": "cb3fd5f8-643d-4a4d-ab4e-0bba63e5d572",
   "metadata": {},
   "outputs": [],
   "source": [
    "title = 'Galaxy spatial distribution - DES DR2'\n",
    "height = 500\n",
    "width = 1000\n",
    "padding = 0.05\n",
    "xlabel = 'R.A.'\n",
    "ylabel = 'Dec.'"
   ]
  },
  {
   "cell_type": "markdown",
   "id": "aecf1c38-46e3-4ed8-a260-6c2066aecb38",
   "metadata": {},
   "source": [
    "Aplying a coordinate transformation in R.A. and DEC."
   ]
  },
  {
   "cell_type": "code",
   "execution_count": null,
   "id": "4fce0969-bb07-475b-8106-d1ea8d0c7cb6",
   "metadata": {},
   "outputs": [],
   "source": [
    "coords = SkyCoord(ra=np.array(df_input.ra)*u.degree, \n",
    "                  dec=np.array(df_input.dec)*u.degree, frame='icrs')\n",
    "df_input.ra = np.array(coords.ra.wrap_at(180*u.degree))\n",
    "df_input.dec = np.array(coords.dec)"
   ]
  },
  {
   "cell_type": "markdown",
   "id": "51182e93-daf8-4ce9-a11b-6299b9d2428f",
   "metadata": {},
   "source": [
    "Defining the longitudes and latitudes ticks."
   ]
  },
  {
   "cell_type": "code",
   "execution_count": null,
   "id": "227a99c2-03a7-4a3e-8411-a26c3c56e104",
   "metadata": {},
   "outputs": [],
   "source": [
    "longitudes = np.arange(30, 360, 30)\n",
    "latitudes = np.arange(-75, 76, 15)"
   ]
  },
  {
   "cell_type": "markdown",
   "id": "b8ae660e-ae61-42d6-bcd5-1e66bb351bb8",
   "metadata": {},
   "source": [
    "Generating the labels plot, containing just the latitude and longitude ticks."
   ]
  },
  {
   "cell_type": "code",
   "execution_count": null,
   "id": "9b3131ab-d166-44b8-ba5e-f0ebcbe53572",
   "metadata": {},
   "outputs": [],
   "source": [
    "lon_labels = [f\"{lon}°\" for lon in longitudes]\n",
    "lat_labels = [f\"{lat}°\" for lat in latitudes]\n",
    "\n",
    "labels_data = {\n",
    "    \"lon\": list(np.flip(longitudes)) + [-180] * len(latitudes),\n",
    "    \"lat\": [0] * len(longitudes) + list(latitudes),\n",
    "    \"label\": lon_labels + lat_labels,\n",
    "}\n",
    "\n",
    "df_labels = pd.DataFrame(labels_data)\n",
    "\n",
    "labels_plot = gv.Labels(df_labels, kdims=[\"lon\", \"lat\"], vdims=[\"label\"]).opts(\n",
    "    text_font_size=\"12pt\",\n",
    "    text_color=\"black\",\n",
    "    text_align='right',\n",
    "    text_baseline='bottom',\n",
    "    projection=crs.Mollweide()\n",
    ")"
   ]
  },
  {
   "cell_type": "markdown",
   "id": "7963ce63-873a-4cfb-9a35-f1285b68bba0",
   "metadata": {},
   "source": [
    "Building a geoviews Points element with R.A. and DEC. from the input sample. Here, we will multiply the R.A. coordinates by (-1) because it is a convention to invert the x axis in the graph. However, the ticks in the graph will be correctly shown. This is just a computational artifice."
   ]
  },
  {
   "cell_type": "code",
   "execution_count": null,
   "id": "a21c6cf6-1b2b-45af-9b60-1a88fd57bf94",
   "metadata": {},
   "outputs": [],
   "source": [
    "ra_dec_points = gv.Points((-df_input['ra'],df_input['dec']), kdims=['ra', 'dec'])"
   ]
  },
  {
   "cell_type": "markdown",
   "id": "da85873e-9948-4330-b29e-428b0d72795f",
   "metadata": {},
   "source": [
    "Projecting the points in a Mollweide projection using geoviews and cartopy."
   ]
  },
  {
   "cell_type": "code",
   "execution_count": null,
   "id": "5773d9ea-d241-46e0-b0cd-9eb37a872d76",
   "metadata": {},
   "outputs": [],
   "source": [
    "projected = gv.operation.project(ra_dec_points, projection=crs.Mollweide())"
   ]
  },
  {
   "cell_type": "markdown",
   "id": "15ff010a-9596-433d-a28b-b5d211c647b8",
   "metadata": {},
   "source": [
    "Applying datashader to the projected points."
   ]
  },
  {
   "cell_type": "code",
   "execution_count": null,
   "id": "ca4f25dc-565f-4b77-b42b-d4d18df424c9",
   "metadata": {},
   "outputs": [],
   "source": [
    "dsh_points = dynspread(rasterize(projected).opts(cmap=\"Viridis\", cnorm='log'))\n",
    "dsh_points = dsh_points.opts(width=width, height=height, padding=padding, title=title, toolbar='above', colorbar=True, tools=['box_select'])"
   ]
  },
  {
   "cell_type": "markdown",
   "id": "5591b384-04ae-4355-b316-dae127ced4a6",
   "metadata": {},
   "source": [
    "Plotting the datashaded points, the DES footprint and the grid object, and computing the elapsed time with the jupyter magic command *time*. As you can see, the DES footprint R.A. coordinates were also multiplied by (-1), for the same reason explained before."
   ]
  },
  {
   "cell_type": "code",
   "execution_count": null,
   "id": "238a7c40-55e2-411f-ac62-62cfc160a98b",
   "metadata": {},
   "outputs": [],
   "source": [
    "%%time\n",
    "ra_dec_foot = gv.Path((-foot_ra, foot_dec)).opts(line_width=3, color='orange')\n",
    "grid = gf.grid()\n",
    "\n",
    "dsh_points * ra_dec_foot * grid * labels_plot"
   ]
  },
  {
   "cell_type": "markdown",
   "id": "f9db72d2-70c3-4e3c-a760-1eaa14faed66",
   "metadata": {},
   "source": [
    "### Magnitude distributions"
   ]
  },
  {
   "cell_type": "markdown",
   "id": "9b48a476-98a5-4785-aaa5-53c9d80bb73a",
   "metadata": {},
   "source": [
    "Defining some general settings for the plot."
   ]
  },
  {
   "cell_type": "code",
   "execution_count": null,
   "id": "415c43c7-73e6-4e76-9c88-ca3c19393b9b",
   "metadata": {
    "tags": []
   },
   "outputs": [],
   "source": [
    "height = 400\n",
    "width = 400\n",
    "xlabel = 'mag'\n",
    "n_spread = 6        ### Number to restrict the plot interval for each quantity. The larger this number, the larger the range in x.\n",
    "x_threshold = 99    ### Maximum number in the x axis to plot.\n",
    "num_mag_bins = 45   ### Number of mag bins in the x interval.\n",
    "bands = ['g', 'r', 'i', 'z', 'Y']"
   ]
  },
  {
   "cell_type": "markdown",
   "id": "cd82a991-9231-400f-8918-1e943d1a2676",
   "metadata": {},
   "source": [
    "Defining some dictionaries to save the numpy histogram counts and bins, the holoviews histogram and the holoviews dimentions. "
   ]
  },
  {
   "cell_type": "code",
   "execution_count": null,
   "id": "60fed17e-1767-410b-bd3c-509979bd7fa7",
   "metadata": {},
   "outputs": [],
   "source": [
    "mag_count = {}\n",
    "mag_bin = {}\n",
    "mag_distribution_histo = {}\n",
    "mag_dim = {}\n",
    "mag_freqs_dim = {}"
   ]
  },
  {
   "cell_type": "markdown",
   "id": "a8e42bad-bfd1-48a7-973e-6f5bad2ef286",
   "metadata": {},
   "source": [
    "Doing the plots for each band and computing the elapsed time with the jupyter magic command *time*."
   ]
  },
  {
   "cell_type": "code",
   "execution_count": null,
   "id": "e24f66a4-1dda-4988-9370-466aed732849",
   "metadata": {
    "tags": []
   },
   "outputs": [],
   "source": [
    "%%time\n",
    "for band in bands:\n",
    "    ### DEFINING THE TITLES AND THE LABELS OF EACH PLOT\n",
    "    title = 'Distribution of Magnitudes - Band '+band\n",
    "    label_name_upper = 'mag '+band\n",
    "\n",
    "    ### WE WILL USE ALL THE BANDS NAMES IN LOWER CASE FOR THE DICTIONARIES INDEXES.\n",
    "    band = band.lower()\n",
    "\n",
    "    ### DEFINING THE NAME OF THE MAGNITUDE COLUMN AS IT IS IN THE DATA TABLE, AND ALSO DEFINING THE LABEL IN LOWER CASE.\n",
    "    catalog_mag_name = 'mag_auto_'+band+'_dered' \n",
    "    label_name = 'mag '+band\n",
    "\n",
    "    ### DEFINING THE DIMENSIONS IN HOLOVIEWS.\n",
    "    ### This is important because when we define different dimensions, the plots become independent (when zooming one axis in one plot, for exemple, \n",
    "    ### no other plot will be zoomed).\n",
    "    mag_dim[band] = hv.Dimension(catalog_mag_name, label=label_name)\n",
    "    mag_freqs_dim[band] = hv.Dimension((catalog_mag_name+'_'+'freqs'), label=(label_name+' freqs'))\n",
    "\n",
    "    ### DEFINING THE X LIMITS (MAG LIMITS) FOR EXHIBITION IN THE PLOTS AND FOR THE LATER BINS DEFINITION. \n",
    "    xlim_min = basic_stats[catalog_mag_name]['50%'] - n_spread*(np.abs(basic_stats[catalog_mag_name]['50%']-basic_stats[catalog_mag_name]['25%']))\n",
    "    xlim_max = basic_stats[catalog_mag_name]['50%'] + n_spread*(np.abs(basic_stats[catalog_mag_name]['50%']-basic_stats[catalog_mag_name]['75%']))\n",
    "\n",
    "    ### COMPUTING THE BINS.\n",
    "    ###  Note that, although the plots are in the entire range (limited by the x_threshold), the bins are optimized for the above x limits.\n",
    "    step_mag_bins = (xlim_max-xlim_min)/num_mag_bins\n",
    "    mag_bins = np.arange(df_input[catalog_mag_name].min(),x_threshold+step_mag_bins,step_mag_bins)\n",
    "\n",
    "    ### DEFINING THE NUMPY HISTOGRAM.\n",
    "    (mag_count[band], mag_bin[band]) = np.histogram(df_input[catalog_mag_name], bins=mag_bins)\n",
    "\n",
    "    ### DEFINING THE Y LIMITS (FREQUENCY LIMITS) FOR EXHIBITION IN THE PLOTS.\n",
    "    ### Here, I exclude the last element because it is for the 99. magnitudes. It could mess with the plot.\n",
    "    ylim_min = 0\n",
    "    ylim_max = mag_count[band][:-1].max()\n",
    "\n",
    "    ### DOING THE HISTOGRAM WITH HOLOVIEWS.\n",
    "    mag_distribution_histo[band] = hv.Histogram((mag_count[band], mag_bin[band]), kdims=mag_dim[band], vdims=mag_freqs_dim[band]).opts(\n",
    "        title=title, xlabel=label_name_upper, ylabel='frequencies', height=height, width=width,  xlim=(xlim_min, xlim_max), ylim=(ylim_min,ylim_max))\n",
    "\n",
    "mag_distribution = (mag_distribution_histo['g'] + mag_distribution_histo['r'] + mag_distribution_histo['i'] \n",
    "                    + mag_distribution_histo['z'] + mag_distribution_histo['y']).cols(2)\n",
    "mag_distribution"
   ]
  },
  {
   "cell_type": "markdown",
   "id": "88cd9d17-d539-4ae0-87c5-3cdc2a8fcb08",
   "metadata": {},
   "source": [
    "### Error distributions"
   ]
  },
  {
   "cell_type": "markdown",
   "id": "15b20495-e913-4233-9b2a-5f7f3772d9a2",
   "metadata": {},
   "source": [
    "Defining some general settings for the plot."
   ]
  },
  {
   "cell_type": "code",
   "execution_count": null,
   "id": "4fcf2ce0-ee17-4946-954e-cc4f7f9a0a4c",
   "metadata": {},
   "outputs": [],
   "source": [
    "height = 400\n",
    "width = 400\n",
    "xlabel = 'mag_error'\n",
    "n_spread = 6         ### Number to restrict the plot interval for each quantity. The larger this number, the larger the range in x.\n",
    "x_threshold = 5      ### Maximum number in the x axis to plot.\n",
    "num_err_bins = 40    ### Number of error bins in the x interval.\n",
    "bands = ['g', 'r', 'i', 'z', 'Y']"
   ]
  },
  {
   "cell_type": "markdown",
   "id": "d15a7588-3acb-40e3-b635-f0a24cb8ffe5",
   "metadata": {},
   "source": [
    "Defining some dictionaries to save the numpy histogram counts and bins, the holoviews histogram and the holoviews dimentions."
   ]
  },
  {
   "cell_type": "code",
   "execution_count": null,
   "id": "e414ad76-2c73-4364-89d1-ede7b8447343",
   "metadata": {},
   "outputs": [],
   "source": [
    "err_count = {}\n",
    "err_bin = {}\n",
    "err_distribution_histo = {}\n",
    "err_dim = {}\n",
    "err_freqs_dim = {}"
   ]
  },
  {
   "cell_type": "markdown",
   "id": "eb694ac7-3ee5-4a09-9b97-3237aa4acce7",
   "metadata": {},
   "source": [
    "Doing the plots for each band and computing the elapsed time with the jupyter magic command time."
   ]
  },
  {
   "cell_type": "code",
   "execution_count": null,
   "id": "e396c8b1-654a-4c13-a9cd-d854fa376ff5",
   "metadata": {},
   "outputs": [],
   "source": [
    "%%time\n",
    "for band in bands:\n",
    "    ### DEFINING THE TITLES AND THE LABELS OF EACH PLOT\n",
    "    title = 'Distribution of Magnitude Errors - Band '+band\n",
    "    label_name_upper = 'mag error '+band\n",
    "    \n",
    "    ### WE WILL USE ALL THE BANDS NAMES IN LOWER CASE FOR THE DICTIONARIES INDEXES.\n",
    "    band = band.lower()\n",
    "\n",
    "    ### DEFINING THE NAME OF THE ERROR COLUMN AS IT IS IN THE DATA TABLE, AND ALSO DEFINING THE LABEL IN LOWER CASE.\n",
    "    catalog_mag_name_err = 'magerr_auto_'+band\n",
    "    label_name_err = 'magerr '+band\n",
    "\n",
    "    ### DEFINING THE DIMENSIONS IN HOLOVIEWS.\n",
    "    ### This is important because when we define different dimensions, the plots become independent (when zooming one axis in one plot, for exemple, \n",
    "    ### no other plot will be zoomed).\n",
    "    err_dim[band] = hv.Dimension(catalog_mag_name_err, label=label_name_err)\n",
    "    err_freqs_dim[band] = hv.Dimension((catalog_mag_name_err+'_'+'freqs'), label=(label_name_err+' freqs'))\n",
    "\n",
    "    ### DEFINING THE X LIMITS (ERROR LIMITS) FOR EXHIBITION IN THE PLOTS AND FOR THE LATER BINS DEFINITION. \n",
    "    xlim_min = 0.\n",
    "    xlim_max = basic_stats[catalog_mag_name_err]['50%'] + n_spread*(np.abs(basic_stats[catalog_mag_name_err]['50%']-basic_stats[catalog_mag_name_err]['75%']))\n",
    "\n",
    "    ### COMPUTING THE BINS.\n",
    "    ###  Note that, although the plots are in the entire range (limited by the x_threshold), the bins are optimized for the above x limits. \n",
    "    step_err_bins = (xlim_max-xlim_min)/num_err_bins\n",
    "    err_bins = np.arange(xlim_min,x_threshold+step_err_bins,step_err_bins)\n",
    "\n",
    "    ### DEFINING THE NUMPY HISTOGRAM.\n",
    "    (err_count[band], err_bin[band]) = np.histogram(df_input[catalog_mag_name_err], bins=err_bins)\n",
    "\n",
    "    ### DEFINING THE Y LIMITS (FREQUENCY LIMITS) FOR EXHIBITION IN THE PLOTS.\n",
    "    ylim_min = 0\n",
    "    ylim_max = err_count[band].max()\n",
    "\n",
    "    ### DOING THE HISTOGRAM WITH HOLOVIEWS.\n",
    "    err_distribution_histo[band] = hv.Histogram((err_count[band], err_bin[band]), kdims=err_dim[band], vdims=err_freqs_dim[band]).opts(\n",
    "        title=title, xlabel=label_name_upper, ylabel='frequencies', height=height, width=width,  xlim=(xlim_min, xlim_max), ylim=(ylim_min, ylim_max))\n",
    "\n",
    "err_distribution = (err_distribution_histo['g'] + err_distribution_histo['r'] + err_distribution_histo['i'] + err_distribution_histo['z'] \n",
    "                       + err_distribution_histo['y']).cols(2)\n",
    "err_distribution"
   ]
  },
  {
   "cell_type": "markdown",
   "id": "61f5e2cd-e56f-431e-b0ec-6b672e6abd9b",
   "metadata": {
    "tags": []
   },
   "source": [
    "### Magnitude vs Error"
   ]
  },
  {
   "cell_type": "markdown",
   "id": "953d9c73-6dce-49d5-812c-628efac03b5b",
   "metadata": {},
   "source": [
    "Defining some general settings for the plot."
   ]
  },
  {
   "cell_type": "code",
   "execution_count": null,
   "id": "cf99fd0d-2e1b-4b1f-9c9d-9e335ecc711d",
   "metadata": {
    "tags": []
   },
   "outputs": [],
   "source": [
    "height = 400\n",
    "width = 500\n",
    "padding = 0.05\n",
    "mag_n_spread = 6  ### Number to restrict the plot interval for each quantity. The larger this number, the larger the range in the plot.\n",
    "err_n_spread = 6  ### Number to restrict the plot interval for each quantity. The larger this number, the larger the range in the plot.\n",
    "bands = ['g', 'r', 'i', 'z', 'Y']"
   ]
  },
  {
   "cell_type": "markdown",
   "id": "ea6d6b22-279f-4476-994b-87b58820980f",
   "metadata": {},
   "source": [
    "Defining some dictionaries to save the holoviews Points elements, the streams, the DynamicMap and the datashaded plots."
   ]
  },
  {
   "cell_type": "code",
   "execution_count": null,
   "id": "eedee5f1-897c-443f-832a-b52f4513bcf2",
   "metadata": {},
   "outputs": [],
   "source": [
    "mag_vs_err = {}           # Dict for saving hv.Points with mags and mag errors.\n",
    "box_mag_vs_err = {}       # Dict for saving streams.BoundsXY.\n",
    "bounds_mag_vs_err = {}    # Dict for saving hv_DynamicMap.\n",
    "p_mag_vs_err = {}         # Dict for saving the datashaded plots."
   ]
  },
  {
   "cell_type": "markdown",
   "id": "f611bf65-6bec-4c88-8e43-7d79352aa03c",
   "metadata": {},
   "source": [
    "Doing the plots for each band and computing the elapsed time with the jupyter magic command time."
   ]
  },
  {
   "cell_type": "code",
   "execution_count": null,
   "id": "96b59b4e-2688-4cdb-99bf-9b0e896414f9",
   "metadata": {
    "tags": []
   },
   "outputs": [],
   "source": [
    "%%time\n",
    "for band in bands:\n",
    "    ### DEFINING THE TITLES AND THE LABELS OF EACH PLOT\n",
    "    title = 'Magnitude x Error - Band '+band\n",
    "    mag_label_name_upper = 'mag '+band\n",
    "    err_label_name_upper = 'mag error '+band\n",
    "\n",
    "    ### WE WILL USE ALL THE BANDS NAMES IN LOWER CASE FOR THE DICTIONARIES INDEXES.\n",
    "    band_low = band.lower()\n",
    "    \n",
    "    ### FOR MAGNITUDES\n",
    "    ### Defining the name of the magnitude columns as it is in the data table, and also defining the lower case magnitude label (this will also be our holoviews dimension).\n",
    "    mag_catalog_name = 'mag_auto_'+band_low+'_dered'\n",
    "    mag_label_name = 'mag '+band_low\n",
    "\n",
    "    ### Defining the magnitudes limits for exhibition in the plots.\n",
    "    mag_xlim_min = basic_stats[mag_catalog_name]['50%'] - mag_n_spread*(np.abs(basic_stats[mag_catalog_name]['50%']-basic_stats[mag_catalog_name]['25%']))\n",
    "    mag_xlim_max = basic_stats[mag_catalog_name]['50%'] + mag_n_spread*(np.abs(basic_stats[mag_catalog_name]['50%']-basic_stats[mag_catalog_name]['75%']))\n",
    "    \n",
    "    ### FOR MAGNITUDES ERRORS\n",
    "    ### Defining the name of the errors columns as it is in the data table, and also defining the lower case error label (this will also be our holoviews dimension).\n",
    "    err_catalog_name = 'magerr_auto_'+band_low\n",
    "    err_label_name = 'mag '+band_low+' error'\n",
    "\n",
    "    ### Defining the error limits for exhibition in the plots.\n",
    "    err_xlim_min = 0.\n",
    "    err_xlim_max = basic_stats[err_catalog_name]['50%'] + err_n_spread*(np.abs(basic_stats[err_catalog_name]['50%']-basic_stats[err_catalog_name]['75%']))\n",
    "    \n",
    "    ### DEFINING THE POINTS ELEMENT IN HOLOVIEWS, CONTAINING THE MAGNITUDES AND ERRORS.   \n",
    "    mag_vs_err[band_low] = hv.Points((df_input[mag_catalog_name],df_input[err_catalog_name]), kdims=[mag_label_name,err_label_name])\n",
    "    \n",
    "    ### CREATING THE LINKED STREAMS INSTANCE\n",
    "    boundsxy_mag_vs_err = (0, 0, 0, 0)\n",
    "    box_mag_vs_err[band_low] = streams.BoundsXY(source=mag_vs_err[band_low], bounds=boundsxy_mag_vs_err)\n",
    "    bounds_mag_vs_err[band_low] = hv.DynamicMap(lambda bounds: hv.Bounds(bounds), streams=[box_mag_vs_err[band_low]])\n",
    "    \n",
    "    ### USING DATASHADER\n",
    "    # 1) Types of cnorm -> log, linear, eq_hist. Eq_hist is the better for the color when we don't know about the incoming distribution\n",
    "    #    but is bad for the numbers in the colorbar.\n",
    "    # 2) Use clim=(0, 10000) in the opts to fix the colorbar range.\n",
    "    p_mag_vs_err[band_low] = dynspread(rasterize(mag_vs_err[band_low]).opts(cmap=\"Viridis\", cnorm='log'))\n",
    "    p_mag_vs_err[band_low] = p_mag_vs_err[band_low].opts(width=width, height=height, padding=padding, show_grid=True, xlim=(mag_xlim_min, mag_xlim_max), \n",
    "                              ylim=(err_xlim_min, err_xlim_max), xlabel=mag_label_name_upper, ylabel=err_label_name_upper, tools=['box_select'], \n",
    "                              xticks=5, yticks=5, title=title, toolbar='above', colorbar=True)\n",
    "\n",
    "mag_vs_err_plot = ((p_mag_vs_err['g'] * bounds_mag_vs_err['g']) + (p_mag_vs_err['r'] * bounds_mag_vs_err['r']) + (p_mag_vs_err['i'] * bounds_mag_vs_err['i']) \n",
    "                   + (p_mag_vs_err['z'] * bounds_mag_vs_err['z']) + (p_mag_vs_err['y'] * bounds_mag_vs_err['y'])).cols(2)\n",
    "\n",
    "mag_vs_err_plot"
   ]
  },
  {
   "cell_type": "markdown",
   "id": "f197be05-d9f8-45c9-b6b5-2168c6a7f1da",
   "metadata": {},
   "source": [
    "Using the box select tool in the plots above, it is possible to select a region and then, by running the line below, it is possible to see how many points falls within that region."
   ]
  },
  {
   "cell_type": "code",
   "execution_count": null,
   "id": "f815f55c-a277-4161-b5d2-420c207565c7",
   "metadata": {},
   "outputs": [],
   "source": [
    "selection_mag_vs_err = {} # Dict for saving the selections.\n",
    "\n",
    "for band in bands:\n",
    "    band_low = band.lower()\n",
    "    mag_label_name = 'mag '+band_low\n",
    "    err_label_name = 'mag '+band_low+' error'\n",
    "    \n",
    "    selection_mag_vs_err[band_low] = (mag_vs_err[band_low].data[mag_label_name] > box_mag_vs_err[band_low].bounds[0]) \\\n",
    "                                    & (mag_vs_err[band_low].data[err_label_name] > box_mag_vs_err[band_low].bounds[1]) \\\n",
    "                                    & (mag_vs_err[band_low].data[mag_label_name] < box_mag_vs_err[band_low].bounds[2]) \\\n",
    "                                    & (mag_vs_err[band_low].data[err_label_name] < box_mag_vs_err[band_low].bounds[3])\n",
    "    print('The selection box for band '+band+' contains %i data points'%(np.sum(selection_mag_vs_err[band_low])))"
   ]
  },
  {
   "cell_type": "markdown",
   "id": "dd7797a0-3bfb-409f-8b09-29873d09ce48",
   "metadata": {},
   "source": [
    "### Color-Magnitude Diagrams"
   ]
  },
  {
   "cell_type": "markdown",
   "id": "84043b80-708f-48e2-b090-32cd6890f5b9",
   "metadata": {},
   "source": [
    "Defining some general settings for the plot."
   ]
  },
  {
   "cell_type": "code",
   "execution_count": null,
   "id": "d2943edf-b291-43e8-83bc-142d02ba44c7",
   "metadata": {},
   "outputs": [],
   "source": [
    "height = 400\n",
    "width = 500\n",
    "padding = 0.05\n",
    "mag_n_spread = 6    ### Number to restrict the plot interval for each quantity. The larger this number, the larger the range in the plot.\n",
    "color_n_spread = 6  ### Number to restrict the plot interval for each quantity. The larger this number, the larger the range in the plot.\n",
    "plots_names_color_mag = ['g','(g-r)','r','(r-i)','i','(i-z)','z','(z-Y)', 'i', '(g-r)']"
   ]
  },
  {
   "cell_type": "markdown",
   "id": "3dbd890c-4149-4503-a82f-04ec745701b6",
   "metadata": {},
   "source": [
    "Defining some dictionaries to save the holoviews Points elements, the streams, the DynamicMap and the datashaded plots."
   ]
  },
  {
   "cell_type": "code",
   "execution_count": null,
   "id": "e12cb0dc-d4ac-4cd3-b6ef-e8641bc58bde",
   "metadata": {},
   "outputs": [],
   "source": [
    "mag_vs_color = {}\n",
    "box_mag_vs_color = {}\n",
    "bounds_mag_vs_color = {}\n",
    "p_mag_vs_color = {}"
   ]
  },
  {
   "cell_type": "markdown",
   "id": "c12eb2ae-bd53-49d8-b1af-cc6b1640e66a",
   "metadata": {},
   "source": [
    "Doing the plots for each band vs color and computing the elapsed time with the jupyter magic command time."
   ]
  },
  {
   "cell_type": "code",
   "execution_count": null,
   "id": "e541995f-c314-40ac-9719-4356155b641a",
   "metadata": {},
   "outputs": [],
   "source": [
    "%%time\n",
    "j=1\n",
    "for x in range((len(plots_names_color_mag)-1)):\n",
    "    if x%2 == 0:\n",
    "        ### DEFINING THE TITLES AND THE LABELS OF EACH PLOT\n",
    "        mag_name = plots_names_color_mag[x]\n",
    "        mag_name_low = mag_name.lower()\n",
    "        \n",
    "        color_name = plots_names_color_mag[x+1]\n",
    "        color_name_low = color_name.lower()\n",
    "\n",
    "        title = 'Color-Magnitude Diagram - '+mag_name+' x '+color_name\n",
    "        mag_label_name_upper = 'mag '+mag_name\n",
    "        color_label_name_upper = 'color '+color_name\n",
    "\n",
    "        ### WE WILL USE ALL THE BANDS AND COLORS NAMES IN LOWER CASE FOR THE DICTIONARIES INDEXES.\n",
    "        plot_name = mag_name_low+'_'+color_name_low\n",
    "\n",
    "        ### FOR MAGNITUDES\n",
    "        ### Defining the name of the magnitude columns as it is in the data table, and also defining the magnitude label (this will also be our holoviews dimension).\n",
    "        mag_catalog_name = 'mag_auto_'+mag_name_low+'_dered'\n",
    "        mag_label_name = 'mag '+mag_name+' plot '+str(j)      # This str(j) here is important for independence between plots.\n",
    "\n",
    "        ### Defining the magnitudes limits for exhibition in the plots.\n",
    "        mag_xlim_min = basic_stats[mag_catalog_name]['50%'] - mag_n_spread*(np.abs(basic_stats[mag_catalog_name]['50%']-basic_stats[mag_catalog_name]['25%']))\n",
    "        mag_xlim_max = basic_stats[mag_catalog_name]['50%'] + mag_n_spread*(np.abs(basic_stats[mag_catalog_name]['50%']-basic_stats[mag_catalog_name]['75%']))\n",
    "    \n",
    "        ### FOR COLORS\n",
    "        ### Defining the name of the colors columns as it is in the data table, and also defining the color label (this will also be our holoviews dimension).\n",
    "        color_catalog_name = 'mag_auto_'+color_name_low+'_dered'\n",
    "        color_label_name = 'color '+color_name+' plot '+str(j) # This str(j) here is important for independence between plots.\n",
    "\n",
    "        ### Defining the color limits for exhibition in the plots.\n",
    "        color_xlim_min = basic_stats[color_catalog_name]['50%'] - color_n_spread*(np.abs(basic_stats[color_catalog_name]['50%']-basic_stats[color_catalog_name]['25%']))\n",
    "        color_xlim_max = basic_stats[color_catalog_name]['50%'] + color_n_spread*(np.abs(basic_stats[color_catalog_name]['50%']-basic_stats[color_catalog_name]['75%']))\n",
    "\n",
    "        ### DEFINING THE POINTS ELEMENT IN HOLOVIEWS, CONTAINING THE MAGNITUDES AND COLORS.     \n",
    "        mag_vs_color[plot_name] = hv.Points((df_input[mag_catalog_name],df_input[color_catalog_name]), kdims=[mag_label_name,color_label_name])\n",
    "    \n",
    "        ### CREATING THE LINKED STREAMS INSTANCE\n",
    "        boundsxy_mag_vs_color = (0, 0, 0, 0)\n",
    "        box_mag_vs_color[plot_name] = streams.BoundsXY(source=mag_vs_color[plot_name], bounds=boundsxy_mag_vs_color)\n",
    "        bounds_mag_vs_color[plot_name] = hv.DynamicMap(lambda bounds: hv.Bounds(bounds), streams=[box_mag_vs_color[plot_name]])\n",
    "\n",
    "        ### USING DATASHADER\n",
    "        # 1) Types of cnorm -> log, linear, eq_hist. Eq_hist is the better for the color when we don't know about the incoming distribution\n",
    "        #    but is bad for the numbers in the colorbar.\n",
    "        # 2) Use clim=(0, 10000) in the opts to fix the colorbar range.\n",
    "        p_mag_vs_color[plot_name] = dynspread(rasterize(mag_vs_color[plot_name]).opts(cmap=\"Viridis\", cnorm='log'))\n",
    "        p_mag_vs_color[plot_name] = p_mag_vs_color[plot_name].opts(width=width, height=height, padding=padding, show_grid=True, xlim=(mag_xlim_min, mag_xlim_max), \n",
    "                                        ylim=(color_xlim_min, color_xlim_max), xlabel=mag_label_name_upper, ylabel=color_label_name_upper, tools=['box_select'], \n",
    "                                        xticks=5, yticks=5, title=title, toolbar='above', colorbar=True)\n",
    "        j+=1\n",
    "        \n",
    "mag_vs_color_plot = ((p_mag_vs_color['g_(g-r)'] * bounds_mag_vs_color['g_(g-r)']) + (p_mag_vs_color['r_(r-i)'] * bounds_mag_vs_color['r_(r-i)']) + \n",
    "                     (p_mag_vs_color['i_(i-z)'] * bounds_mag_vs_color['i_(i-z)']) + (p_mag_vs_color['z_(z-y)'] * bounds_mag_vs_color['z_(z-y)']) + \n",
    "                     (p_mag_vs_color['i_(g-r)'] * bounds_mag_vs_color['i_(g-r)'])).cols(2)\n",
    "\n",
    "mag_vs_color_plot"
   ]
  },
  {
   "cell_type": "markdown",
   "id": "bb7a345e-c77a-4da9-9607-f90df5cf2b3e",
   "metadata": {},
   "source": [
    "Using the box select tool in the plots above, it is possible to select a region and then, by running the line below, it is possible to see how many points falls within that region."
   ]
  },
  {
   "cell_type": "code",
   "execution_count": null,
   "id": "ee0d0e79-cb72-4f2a-ba50-7233f1273080",
   "metadata": {},
   "outputs": [],
   "source": [
    "selection_mag_vs_color = {} # Dict for saving the selections.\n",
    "\n",
    "j=1\n",
    "for x in range((len(plots_names_color_mag)-1)):\n",
    "    if x%2 == 0:\n",
    "        ### DEFINING TITLES AND LABELS\n",
    "        mag_name = plots_names_color_mag[x]\n",
    "        mag_name_low = mag_name.lower()\n",
    "        \n",
    "        color_name = plots_names_color_mag[x+1]\n",
    "        color_name_low = color_name.lower()\n",
    "        \n",
    "        plot_name = mag_name_low+'_'+color_name_low\n",
    "\n",
    "        mag_label_name = 'mag '+mag_name+' plot '+str(j)\n",
    "        color_label_name = 'color '+color_name+' plot '+str(j)\n",
    "\n",
    "        ### GETTING THE SELECTION    \n",
    "        selection_mag_vs_color[plot_name] = (mag_vs_color[plot_name].data[mag_label_name] > box_mag_vs_color[plot_name].bounds[0]) \\\n",
    "                                            & (mag_vs_color[plot_name].data[color_label_name] > box_mag_vs_color[plot_name].bounds[1]) \\\n",
    "                                            & (mag_vs_color[plot_name].data[mag_label_name] < box_mag_vs_color[plot_name].bounds[2]) \\\n",
    "                                            & (mag_vs_color[plot_name].data[color_label_name] < box_mag_vs_color[plot_name].bounds[3])\n",
    "        print('The selection box for the plot '+mag_name+' x '+color_name+' contains %i data points'%(np.sum(selection_mag_vs_color[plot_name])))\n",
    "        j+=1"
   ]
  },
  {
   "cell_type": "markdown",
   "id": "710a0f66-4d59-4d78-b4b4-070d94357ccc",
   "metadata": {},
   "source": [
    "### Color-Color Diagrams"
   ]
  },
  {
   "cell_type": "markdown",
   "id": "1d12cb09-bdfd-47d2-a43e-04a2502b0985",
   "metadata": {},
   "source": [
    "Defining some general settings for the plot."
   ]
  },
  {
   "cell_type": "code",
   "execution_count": null,
   "id": "29f6faf9-7121-4183-b1c3-22420ca7a72a",
   "metadata": {},
   "outputs": [],
   "source": [
    "height = 400\n",
    "width = 500\n",
    "padding = 0.05\n",
    "color_1_n_spread = 6  ### Number to restrict the plot interval for each quantity. The larger this number, the larger the range in the plot.\n",
    "color_2_n_spread = 6  ### Number to restrict the plot interval for each quantity. The larger this number, the larger the range in the plot.\n",
    "plots_names_color_color = ['(g-r)','(r-i)','(r-i)','(i-z)','(i-z)','(z-Y)']"
   ]
  },
  {
   "cell_type": "markdown",
   "id": "87ca0b9a-5eb0-4782-ad89-a2d989f444cb",
   "metadata": {},
   "source": [
    "Defining some dictionaries to save the holoviews Points elements, the streams, the DynamicMap and the datashaded plots."
   ]
  },
  {
   "cell_type": "code",
   "execution_count": null,
   "id": "83a8a966-6612-4ff6-91ff-ae631509a88e",
   "metadata": {},
   "outputs": [],
   "source": [
    "color_vs_color = {}\n",
    "box_color_vs_color = {}\n",
    "bounds_color_vs_color = {}\n",
    "p_color_vs_color = {}"
   ]
  },
  {
   "cell_type": "markdown",
   "id": "8574d7a8-b85d-4149-ab9a-4a8b259dbf19",
   "metadata": {},
   "source": [
    "Doing the plots for each color vs color and computing the elapsed time with the jupyter magic command time."
   ]
  },
  {
   "cell_type": "code",
   "execution_count": null,
   "id": "24bf714c-6ae7-43c5-8dd6-3c802bcc6d92",
   "metadata": {},
   "outputs": [],
   "source": [
    "%%time\n",
    "j=1\n",
    "for x in range((len(plots_names_color_color)-1)):\n",
    "    if x%2 == 0:\n",
    "        ### DEFINING THE TITLES AND THE LABELS OF EACH PLOT\n",
    "        color_1_name = plots_names_color_color[x]\n",
    "        color_1_name_low = color_1_name.lower()\n",
    "        \n",
    "        color_2_name = plots_names_color_color[x+1]\n",
    "        color_2_name_low = color_2_name.lower()\n",
    "\n",
    "        title = 'Color-Color Diagram - '+color_1_name+' x '+color_2_name\n",
    "        color_1_label_name_upper = 'color '+color_1_name\n",
    "        color_2_label_name_upper = 'color '+color_2_name\n",
    "\n",
    "        ### WE WILL USE ALL THE BANDS AND COLORS NAMES IN LOWER CASE FOR THE DICTIONARIES INDEXES.\n",
    "        plot_name = color_1_name_low+'_'+color_2_name_low\n",
    "    \n",
    "        ### FOR COLOR 1\n",
    "        ### Defining the name of the color 1 column as it is in the data table, and also defining the color 1 label (this will also be our holoviews dimension).\n",
    "        color_1_catalog_name = 'mag_auto_'+color_1_name_low+'_dered'\n",
    "        color_1_label_name = 'color '+color_1_name+' plot '+str(j) \n",
    "\n",
    "        ### Defining the color 1 limits for exhibition in the plots.\n",
    "        color_1_xlim_min = basic_stats[color_1_catalog_name]['50%'] - color_1_n_spread*(np.abs(basic_stats[color_1_catalog_name]['50%']-basic_stats[color_1_catalog_name]['25%']))\n",
    "        color_1_xlim_max = basic_stats[color_1_catalog_name]['50%'] + color_1_n_spread*(np.abs(basic_stats[color_1_catalog_name]['50%']-basic_stats[color_1_catalog_name]['75%']))\n",
    "    \n",
    "        ### FOR COLOR 2\n",
    "        ### Defining the name of the color 2 column as it is in the data table, and also defining the color 2 label (this will also be our holoviews dimension).\n",
    "        color_2_catalog_name = 'mag_auto_'+color_2_name_low+'_dered'\n",
    "        color_2_label_name = 'color '+color_2_name+' plot '+str(j)\n",
    "\n",
    "        ### Defining the color 2 limits for exhibition in the plots.\n",
    "        color_2_xlim_min = basic_stats[color_2_catalog_name]['50%'] - color_2_n_spread*(np.abs(basic_stats[color_2_catalog_name]['50%']-basic_stats[color_2_catalog_name]['25%']))\n",
    "        color_2_xlim_max = basic_stats[color_2_catalog_name]['50%'] + color_2_n_spread*(np.abs(basic_stats[color_2_catalog_name]['50%']-basic_stats[color_2_catalog_name]['75%']))\n",
    "\n",
    "\n",
    "        ### DEFINING THE POINTS ELEMENT IN HOLOVIEWS, CONTAINING COLOR 1 AND COLOR 2   \n",
    "        color_vs_color[plot_name] = hv.Points((df_input[color_1_catalog_name],df_input[color_2_catalog_name]), kdims=[color_1_label_name,color_2_label_name])\n",
    "    \n",
    "        ### CREATING THE LINKED STREAMS INSTANCE\n",
    "        boundsxy_color_vs_color = (0, 0, 0, 0)\n",
    "        box_color_vs_color[plot_name] = streams.BoundsXY(source=color_vs_color[plot_name], bounds=boundsxy_color_vs_color)\n",
    "        bounds_color_vs_color[plot_name] = hv.DynamicMap(lambda bounds: hv.Bounds(bounds), streams=[box_color_vs_color[plot_name]])\n",
    "\n",
    "        ### USING DATASHADER\n",
    "        # 1) Types of cnorm -> log, linear, eq_hist. Eq_hist is the better for the color when we don't know about the incoming distribution\n",
    "        #    but is bad for the numbers in the colorbar.\n",
    "        # 2) Use clim=(0, 10000) in the opts to fix the colorbar range.\n",
    "        p_color_vs_color[plot_name] = dynspread(rasterize(color_vs_color[plot_name]).opts(cmap=\"Viridis\", cnorm='log'))\n",
    "        p_color_vs_color[plot_name] = p_color_vs_color[plot_name].opts(width=width, height=height, padding=padding, show_grid=True, xlim=(color_1_xlim_min, color_1_xlim_max), \n",
    "                                        ylim=(color_2_xlim_min, color_2_xlim_max), xlabel=color_1_label_name_upper, ylabel=color_2_label_name_upper, tools=['box_select'], \n",
    "                                        xticks=5, yticks=5, title=title, toolbar='above', colorbar=True)\n",
    "        j+=1\n",
    "\n",
    "color_vs_color_plot = ((p_color_vs_color['(g-r)_(r-i)'] * bounds_color_vs_color['(g-r)_(r-i)']) + (p_color_vs_color['(r-i)_(i-z)'] * bounds_color_vs_color['(r-i)_(i-z)']) + \n",
    "                       (p_color_vs_color['(i-z)_(z-y)'] * bounds_color_vs_color['(i-z)_(z-y)'])).cols(2)\n",
    "\n",
    "color_vs_color_plot"
   ]
  },
  {
   "cell_type": "markdown",
   "id": "0c6ded4a-e68d-49b9-a147-aa1e3fd2f557",
   "metadata": {},
   "source": [
    "Using the box select tool in the plots above, it is possible to select a region and then, by running the line below, it is possible to see how many points falls within that region."
   ]
  },
  {
   "cell_type": "code",
   "execution_count": null,
   "id": "691a8d09-065a-4900-96a8-c4aa60c09ee7",
   "metadata": {},
   "outputs": [],
   "source": [
    "selection_color_vs_color = {} # Dict for saving the selections.\n",
    "\n",
    "j=1\n",
    "for x in range((len(plots_names_color_color)-1)):\n",
    "    if x%2 == 0:\n",
    "        ### DEFINING TITLES AND LABELS\n",
    "        color_1_name = plots_names_color_color[x]\n",
    "        color_1_name_low = color_1_name.lower()\n",
    "        \n",
    "        color_2_name = plots_names_color_color[x+1]\n",
    "        color_2_name_low = color_2_name.lower()\n",
    "        \n",
    "        plot_name = color_1_name_low+'_'+color_2_name_low\n",
    "\n",
    "        color_1_label_name = 'color '+color_1_name+' plot '+str(j)\n",
    "        color_2_label_name = 'color '+color_2_name+' plot '+str(j)\n",
    "\n",
    "        ### GETTING THE SELECTION    \n",
    "        selection_color_vs_color[plot_name] = (color_vs_color[plot_name].data[color_1_label_name] > box_color_vs_color[plot_name].bounds[0]) \\\n",
    "                                            & (color_vs_color[plot_name].data[color_2_label_name] > box_color_vs_color[plot_name].bounds[1]) \\\n",
    "                                            & (color_vs_color[plot_name].data[color_1_label_name] < box_color_vs_color[plot_name].bounds[2]) \\\n",
    "                                            & (color_vs_color[plot_name].data[color_2_label_name] < box_color_vs_color[plot_name].bounds[3])\n",
    "        print('The selection box for the plot '+color_1_name+' x '+color_2_name+' contains %i data points'%(np.sum(selection_color_vs_color[plot_name])))\n",
    "        j+=1"
   ]
  }
 ],
 "metadata": {
  "kernelspec": {
   "display_name": "hv-bokeh",
   "language": "python",
   "name": "hv-bokeh"
  },
  "language_info": {
   "codemirror_mode": {
    "name": "ipython",
    "version": 3
   },
   "file_extension": ".py",
   "mimetype": "text/x-python",
   "name": "python",
   "nbconvert_exporter": "python",
   "pygments_lexer": "ipython3",
   "version": "3.12.5"
  }
 },
 "nbformat": 4,
 "nbformat_minor": 5
}
