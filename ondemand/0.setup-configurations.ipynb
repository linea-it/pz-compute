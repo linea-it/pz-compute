{
 "cells": [
  {
   "cell_type": "markdown",
   "id": "432de3ae-2aad-4594-a449-5a53c1cdc4d6",
   "metadata": {},
   "source": [
    "<img align=\"left\" src = \"images/linea.png\" width=120 style=\"padding: 20px\"> \n",
    "<img align=\"left\" src = \"images/rubin.png\" width=140 style=\"padding: 30px\"> \n",
    "\n",
    "# Pipeline pz-compute: configure pz-compute setup\n",
    "### Photo-zs for LSST Object catalog\n",
    "\n",
    "<br><br>\n",
    "\n",
    "Notebook contributors: Julia Gschwend, Luigi Silva, Heloisa Mengisztki <br>\n",
    "Contact: [julia@linea.org.br](mailto:julia@linea.org.br) <br>\n",
    "Last verified run: **2024-Nov-08** <br>"
   ]
  },
  {
   "cell_type": "markdown",
   "id": "4d9b9a2b-1871-42af-a356-7717b08de9d7",
   "metadata": {
    "tags": []
   },
   "source": [
    "# Pipeline pz-compute\n",
    "\n",
    "The pipeline pz-compute is set up to work at LIneA's HPC environment. For those with appropriate permission, the access is done via Open OnDemand platform or from a Terminal on LIneA JupyterHub. Use the Linea shell access to run the commands \n",
    ">`that look like this`.\n",
    "\n",
    "Notice that in your firs access your terminal is going to log you in the loginapl01:\n",
    "``` shell\n",
    " (base) [your-user-name@loginapl01 ~]$ \n",
    "``` \n",
    "\n",
    "# Pre requisites\n",
    "\n",
    "#### 0. Miniconda3, \n",
    "Make sure you have miniconda installed under your $SCRATCH area. \n",
    "If not, follow the first step of this doc: [installing miniconda](https://docs.linea.org.br/processamento/uso/openondemand.html#criando-kernels-python)\n",
    "\n",
    "#### 1. Clone the pz-compute \n",
    "Clone git repo in your SCRATCH, highgly reccommend cloning using ssh.\n",
    "> `cd $SCRATCH` "
   ]
  },
  {
   "cell_type": "markdown",
   "id": "ff3b54ca-b144-4699-a94f-e57725db0586",
   "metadata": {
    "tags": []
   },
   "source": [
    "## Developer/revisor mode \n",
    "\n",
    "#### 0. Copy the file:\n",
    "\n",
    "> `cp $SCRATCH/pz-compute/scheduler_examples/slurm/setup/dev-config ~/.dev-config`"
   ]
  },
  {
   "cell_type": "markdown",
   "id": "d619fdae-39cb-4a8f-85fa-004e086db962",
   "metadata": {},
   "source": [
    "#### 1. Add the following block to your ~/.bashrc file:\n",
    "    \n",
    "```shell\n",
    "    alias pz-dev=\". ~/.dev-config\"\n",
    "```\n",
    "\n",
    "#### 2. Activating the env: \n",
    "For the first time that you run it, it will create a pz-compute-dev env, do the installing and setup for pz-compute, then send you to your scratch area. \n",
    "\n",
    "> ```pz-dev```\n",
    "\n",
    "\n",
    "Ps: make sure that your bashrc is configured to use the miniconda path intalled inside the lustre env. Once you are here, everytime you login, just need to run this command.\n",
    "\n",
    "#### 4. Create a kernel for the created env:\n",
    "\n",
    "follow the second, third and forth steps to create a kernel for pz-compute-dev env created of this doc: [creating a kernel](https://docs.linea.org.br/processamento/uso/openondemand.html#criando-kernels-python)"
   ]
  },
  {
   "cell_type": "markdown",
   "id": "e2f0332f-9ffb-4dbc-9353-ab480c20597a",
   "metadata": {
    "tags": []
   },
   "source": [
    "## Production mode \n",
    "\n",
    "### 0. Copy the file \n",
    "\n",
    ">```cp $SCRATCH/pz-compute/scheduler_examples/slurm/setup/prod-config ~/.prod-config ```\n",
    "\n",
    "### 1. Add the following block to your `~/.bashrc` file:\n",
    "    \n",
    "```shell\n",
    "alias pz-prod=\". ~/.prod-config\"\n",
    "```\n",
    "\n",
    "### 3. Activating the env:\n",
    "\n",
    ">```pz-prod```\n",
    "\n",
    "\n",
    "## By the end your bashrc should look close to this:\n",
    "\n",
    "> ``` shell\n",
    "> # Source global definitions\n",
    "> if [ -f /etc/bashrc ]; then\n",
    ">        . /etc/bashrc\n",
    "> fi\n",
    "> # >>> conda initialize >>>\n",
    "> # !! Contents within this block are managed by 'conda init' !!\n",
    "> __conda_setup=\"$('/lustre/t0/scratch/users/your.user/miniconda3/bin/conda' 'shell.bash' 'hook' 2> /dev/null)\"\n",
    "> if [ $? -eq 0 ]; then\n",
    ">     eval \"$__conda_setup\"\n",
    "> else\n",
    ">     if [ -f \"/lustre/t0/scratch/users/your.user/miniconda3/etc/profile.d/conda.sh\" ]; then\n",
    ">         . \"/lustre/t0/scratch/users/your.user/miniconda3/etc/profile.d/conda.sh\"\n",
    ">     else\n",
    ">         export PATH=\"/lustre/t0/scratch/users/your.user/miniconda3/bin:$PATH\"\n",
    ">     fi\n",
    "> fi\n",
    "> unset __conda_setup\n",
    "> # <<< conda initialize <<<\n",
    ">\n",
    "> alias pz-prod=\". ~/.prod-config\"\n",
    "> alias pz-dev=\". ~/.dev-config\"\n",
    ">```\n",
    "\n",
    "## Execution \n",
    "\n",
    "For execution, it is a good practice to create a directory to execute each pz-run, so next step is to try executing a simple run and see if the dependencies were all successfully installed.\n"
   ]
  },
  {
   "cell_type": "markdown",
   "id": "5468b580-b111-40fd-9a2f-bfdc2ed91b6c",
   "metadata": {},
   "source": [
    "# Troubleshooting"
   ]
  },
  {
   "cell_type": "markdown",
   "id": "f2d315ec-2570-4723-9026-071b2c2e6c96",
   "metadata": {},
   "source": [
    "Sometimes python has trouble dealing with dependencies versions, if at any steps you face issues, please open a ticket for helpdesk@linea.org.br or an issue on github for pz-compute."
   ]
  },
  {
   "cell_type": "markdown",
   "id": "0877930b-0caa-4b00-84fe-0966a6a0a6c3",
   "metadata": {},
   "source": [
    "If you want to try and fix them, i would recomend start by opening your terminal and running the following command: \n",
    "\n",
    "> conda list \n",
    "\n",
    "This is going to list all the packages installed in your conda env, here you need to pay attention that are some packages that are installed trough python, pip and conda. \n",
    "\n",
    "Look at the package version that is breaking and I would recommend uninstalling it and installing again or downgrading/upgrading to another version and test if it works. Pay attention because sometimes the same package can be installed using pip and conda, then they can have conflicted versions coexisting."
   ]
  }
 ],
 "metadata": {
  "kernelspec": {
   "display_name": "Python 3",
   "language": "python",
   "name": "python3"
  },
  "language_info": {
   "codemirror_mode": {
    "name": "ipython",
    "version": 3
   },
   "file_extension": ".py",
   "mimetype": "text/x-python",
   "name": "python",
   "nbconvert_exporter": "python",
   "pygments_lexer": "ipython3",
   "version": "3.6.8"
  }
 },
 "nbformat": 4,
 "nbformat_minor": 5
}
