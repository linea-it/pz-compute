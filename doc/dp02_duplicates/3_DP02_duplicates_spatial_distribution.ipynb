{
 "cells": [
  {
   "cell_type": "markdown",
   "id": "8bd35227-bbbd-4de9-a08d-b88d602f6313",
   "metadata": {},
   "source": [
    "<img align='left' src = '../images/linea.png' width=150 style='padding: 20px'> \n",
    "\n",
    "# DP02 duplicates analysis\n",
    "## Part 3 - Analysis of the spatial distribution\n",
    "\n",
    "Analysis of duplicates found in the DP02 catalog."
   ]
  },
  {
   "cell_type": "markdown",
   "id": "bf3c4dd9-452d-47d4-a883-0e2fab41592c",
   "metadata": {},
   "source": [
    "Contacts: Luigi Silva ([luigi.silva@linea.org.br](mailto:luigi.silva@linea.org.br)); Julia Gschwend ([julia@linea.org.br](mailto:julia@linea.org.br)).\n",
    "\n",
    "Last check: 04/10/2024"
   ]
  },
  {
   "cell_type": "markdown",
   "id": "66374531-4e54-4352-a511-cbf08689d14a",
   "metadata": {},
   "source": [
    "#### Acknowledgments\n",
    "\n",
    "'_This notebook used computational resources from the Associação Laboratório Interinstitucional de e-Astronomia (LIneA) with financial support from the INCT of e-Universe (Process No. 465376/2014-2)._'\n",
    "\n",
    "'_This notebook uses libraries from the LSST Interdisciplinary Network for Collaboration and Computing (LINCC) Frameworks project, such as the hipscat, hipscat_import, and lsdb libraries. The LINCC Frameworks project is supported by Schmidt Sciences. It is also based on work supported by the National Science Foundation under Grant No. AST-2003196. Additionally, it receives support from the DIRAC Institute at the Department of Astronomy of the University of Washington. The DIRAC Institute is supported by gifts from the Charles and Lisa Simonyi Fund for Arts and Sciences and the Washington Research Foundation._'"
   ]
  },
  {
   "cell_type": "markdown",
   "id": "13bdc6a4-01e6-4e8c-8e7e-5fd09d9f7571",
   "metadata": {},
   "source": [
    "# Imports and Configs"
   ]
  },
  {
   "cell_type": "markdown",
   "id": "7f4ca91a-a568-4d2a-87f5-2147fb03f0ef",
   "metadata": {},
   "source": [
    "Let us import the packages that we will need."
   ]
  },
  {
   "cell_type": "code",
   "execution_count": null,
   "id": "bfea3ff2-a828-4255-9218-4df493c014c4",
   "metadata": {},
   "outputs": [],
   "source": [
    "########################### GENERAL ##########################\n",
    "import os\n",
    "import re\n",
    "import glob\n",
    "import getpass\n",
    "import warnings\n",
    "import tables_io\n",
    "import numpy as np\n",
    "import pandas as pd\n",
    "from pathlib import Path\n",
    "############################ DASK ############################\n",
    "from dask import dataframe as dd\n",
    "from dask import delayed\n",
    "from dask.distributed import Client, performance_report\n",
    "from dask_jobqueue import SLURMCluster\n",
    "########################## HIPSCAT ###########################\n",
    "import hipscat\n",
    "from hipscat.catalog import Catalog\n",
    "from hipscat.inspection import plot_pixels\n",
    "from hipscat_import.catalog.file_readers import ParquetReader\n",
    "from hipscat_import.margin_cache.margin_cache_arguments import MarginCacheArguments\n",
    "from hipscat_import.pipeline import ImportArguments, pipeline_with_client\n",
    "############################ LSDB ############################\n",
    "import lsdb\n",
    "######################## VISUALIZATION #######################\n",
    "### BOKEH\n",
    "import bokeh\n",
    "from bokeh.io import output_notebook, show\n",
    "from bokeh.models import ColorBar, LinearColorMapper\n",
    "from bokeh.palettes import Viridis256\n",
    "\n",
    "### HOLOVIEWS\n",
    "import holoviews as hv\n",
    "from holoviews import opts\n",
    "import holoviews.operation.datashader as hd\n",
    "from holoviews.operation.datashader import rasterize, dynspread, datashade\n",
    "\n",
    "### GEOVIEWS\n",
    "import geoviews as gv\n",
    "import geoviews.feature as gf\n",
    "from cartopy import crs\n",
    "\n",
    "### DATASHADER\n",
    "import datashader as ds\n",
    "\n",
    "### MATPLOTLIB\n",
    "import matplotlib.pyplot as plt\n",
    "########################## ASTRONOMY #########################\n",
    "from astropy import units as u\n",
    "from astropy.coordinates import SkyCoord\n",
    "from astropy.units.quantity import Quantity"
   ]
  },
  {
   "cell_type": "markdown",
   "id": "8d644873-198f-4a75-8789-c5c08dcbf1aa",
   "metadata": {},
   "source": [
    "Now, let us configure the plots to be inline."
   ]
  },
  {
   "cell_type": "code",
   "execution_count": null,
   "id": "38016951-6bd4-427d-8fb2-a7825b8d8971",
   "metadata": {},
   "outputs": [],
   "source": [
    "hv.extension('bokeh')\n",
    "gv.extension('bokeh')\n",
    "output_notebook()\n",
    "%matplotlib inline"
   ]
  },
  {
   "cell_type": "markdown",
   "id": "28b90445-8415-4583-baaa-4df642ce01f9",
   "metadata": {},
   "source": [
    "Now, let us define the paths to save the logs and outputs."
   ]
  },
  {
   "cell_type": "code",
   "execution_count": null,
   "id": "87fa3152-7d29-4ba4-8597-6ba753c09aa3",
   "metadata": {},
   "outputs": [],
   "source": [
    "user = getpass.getuser()\n",
    "base_path = f'/lustre/t0/scratch/users/{user}/report_hipscat/'"
   ]
  },
  {
   "cell_type": "code",
   "execution_count": null,
   "id": "b53e900b-806e-4d16-9cb4-541752abfc10",
   "metadata": {},
   "outputs": [],
   "source": [
    "output_dir = os.path.join(base_path, 'output')\n",
    "logs_dir = os.path.join(base_path, 'logs')\n",
    "os.makedirs(output_dir, exist_ok=True)\n",
    "os.makedirs(logs_dir, exist_ok=True)"
   ]
  },
  {
   "cell_type": "markdown",
   "id": "0cd65540-36de-4bf2-9e8a-e79c2996182d",
   "metadata": {},
   "source": [
    "Then, let us define the parameters for the cluster."
   ]
  },
  {
   "cell_type": "code",
   "execution_count": null,
   "id": "44a622d2-b688-44fe-afd9-66b4cbd391a1",
   "metadata": {},
   "outputs": [],
   "source": [
    "# Configuring the SLURMCluster.\n",
    "cluster = SLURMCluster(\n",
    "    interface=\"ib0\",    # Lustre interface\n",
    "    queue='cpu_small',  # Name of the queue\n",
    "    cores=28,           # Number of logical cores per node\n",
    "    processes=7,       # Number of dask processes per node\n",
    "    memory='30GB',     # Memory per node\n",
    "    walltime='06:00:00',  # Maximum execution time\n",
    "    job_extra_directives=[\n",
    "        '--propagate',\n",
    "        f'--output={output_dir}/dask_job_%j.out',  \n",
    "        f'--error={output_dir}/dask_job_%j.err'\n",
    "    ],\n",
    ")\n",
    "\n",
    "# Scaling the cluster to use X nodes\n",
    "cluster.scale(jobs=10)\n",
    "\n",
    "# Defining the dask client\n",
    "client = Client(cluster)"
   ]
  },
  {
   "cell_type": "markdown",
   "id": "3a9c86d4-a9a2-4881-8674-4a707e943a88",
   "metadata": {},
   "source": [
    "# Getting the paths of the object catalog files"
   ]
  },
  {
   "cell_type": "markdown",
   "id": "9fbe75b1-b44d-4f71-9f48-317ff840a68e",
   "metadata": {},
   "source": [
    "Let us get a list with the paths of the parquets of the catalog."
   ]
  },
  {
   "cell_type": "code",
   "execution_count": null,
   "id": "468ed6dd-240c-4d76-a955-0351ec361378",
   "metadata": {},
   "outputs": [],
   "source": [
    "path = '/lustre/t1/cl/lsst/dp02/primary/catalogs/object/*.parq'"
   ]
  },
  {
   "cell_type": "code",
   "execution_count": null,
   "id": "e980e8d5-b032-47c6-9925-e1672d0a3612",
   "metadata": {},
   "outputs": [],
   "source": [
    "total_files = [f for f in glob.glob(path)]"
   ]
  },
  {
   "cell_type": "code",
   "execution_count": null,
   "id": "565cd483-cf0b-41aa-a6a8-b22f00aab626",
   "metadata": {},
   "outputs": [],
   "source": [
    "total_files[0:5]"
   ]
  },
  {
   "cell_type": "code",
   "execution_count": null,
   "id": "efc7c888-8cf8-4250-ab57-7b7dfb23970d",
   "metadata": {},
   "outputs": [],
   "source": [
    "len(total_files)"
   ]
  },
  {
   "cell_type": "markdown",
   "id": "36f52483-3ec6-4f4a-9926-b3a69b3c7d02",
   "metadata": {},
   "source": [
    "## Reading the catalog into a dask dataframe"
   ]
  },
  {
   "cell_type": "markdown",
   "id": "e4663bf2-eaad-452f-b5f8-205588b56c75",
   "metadata": {},
   "source": [
    "Now, let us read the files into a dask dataframe."
   ]
  },
  {
   "cell_type": "code",
   "execution_count": null,
   "id": "910a72b9-cd3c-403a-b675-91e0fc8afce0",
   "metadata": {},
   "outputs": [],
   "source": [
    "ddf = dd.read_parquet(total_files)\n",
    "\n",
    "selected_columns = ['coord_ra', 'coord_dec', 'u_cModelFlux', 'g_cModelFlux', 'r_cModelFlux', 'i_cModelFlux', \n",
    "                    'z_cModelFlux', 'y_cModelFlux', 'u_cModelFluxErr', 'g_cModelFluxErr', 'r_cModelFluxErr', 'i_cModelFluxErr', \n",
    "                    'z_cModelFluxErr', 'y_cModelFluxErr', 'detect_isPrimary']\n",
    "\n",
    "ddf_small = ddf[selected_columns]\n",
    "\n",
    "ddf_small = ddf_small.persist()"
   ]
  },
  {
   "cell_type": "markdown",
   "id": "4a7f5b08-4970-4b40-a7b9-f978c8706459",
   "metadata": {
    "tags": []
   },
   "source": [
    "# Spatial distributions of all objects, without any filter"
   ]
  },
  {
   "cell_type": "markdown",
   "id": "6c9d840b-23cb-45df-9124-9e817243bf59",
   "metadata": {},
   "source": [
    "----------------------------------------------------------------------------------------------\n",
    "#### Note\n",
    "\n",
    "In what follows, if cartopy tries to download some file from natural earth, check the path of the cartopy data directory with\n",
    "```python\n",
    "import cartopy\n",
    "print(cartopy.config['data_dir'])\n",
    "```\n",
    "Then, download the file manually to the ```shapefiles/natural_earth/physical``` folder inside this directory and unzip it.\n",
    "\n",
    "----------------------------------------------------------------------------------------------"
   ]
  },
  {
   "cell_type": "markdown",
   "id": "ba70107d-42bc-47bd-bbd5-b8a6f82d8d02",
   "metadata": {},
   "source": [
    "First of all, let us define the geoviews Points element."
   ]
  },
  {
   "cell_type": "code",
   "execution_count": null,
   "id": "16f50a58-f5c9-434e-9bb9-ee2fc9f08fbe",
   "metadata": {},
   "outputs": [],
   "source": [
    "points = gv.Points(ddf_small, kdims=['coord_ra', 'coord_dec'])"
   ]
  },
  {
   "cell_type": "markdown",
   "id": "920121b4-457a-43f9-9ef7-aefa48124fd1",
   "metadata": {
    "tags": []
   },
   "source": [
    "#### Note\n",
    "\n",
    "In what follows, if cartopy tries to download some file from natural earth, check the path of the cartopy data directory with\n",
    "```python\n",
    "import cartopy\n",
    "print(cartopy.config['data_dir'])\n",
    "```\n",
    "Then, download the file manually to the ```shapefiles/natural_earth/physical``` folder inside this directory and unzip it."
   ]
  },
  {
   "cell_type": "markdown",
   "id": "95d9e8c3-3b33-427a-a34a-fa0529c70f4a",
   "metadata": {},
   "source": [
    "## Plot using the Plate Carrée projection"
   ]
  },
  {
   "cell_type": "markdown",
   "id": "917213e2-82d6-49b1-8f03-2035aea73a35",
   "metadata": {},
   "source": [
    "Defining the title, the axis labels and the plot sizes."
   ]
  },
  {
   "cell_type": "code",
   "execution_count": null,
   "id": "b1531897-20bb-419e-ae5b-e08fb37e5758",
   "metadata": {},
   "outputs": [],
   "source": [
    "title = 'Spatial Distribution - All Objects - Plate Carrée Projection'\n",
    "height = 500\n",
    "width = 1000\n",
    "padding = 0.05"
   ]
  },
  {
   "cell_type": "markdown",
   "id": "0e072270-65c5-48ab-9c34-8935ecefbe4a",
   "metadata": {},
   "source": [
    "Making the plot with geoviews and datashader."
   ]
  },
  {
   "cell_type": "code",
   "execution_count": null,
   "id": "94afa41e-5e3a-4964-b93f-10c5472ff970",
   "metadata": {},
   "outputs": [],
   "source": [
    "Plate_Carree_rasterized_points = rasterize(points, aggregator=ds.count()).opts(cmap=\"Viridis\", cnorm='log')\n",
    "\n",
    "Plate_Carree_spread_points = dynspread(Plate_Carree_rasterized_points).opts(\n",
    "    width=width, height=height, padding=padding, title=title, toolbar='above', colorbar=True,\n",
    "    tools=['box_select'], show_grid=True, \n",
    "    invert_xaxis=True  # Inverter o eixo x\n",
    ")\n",
    "\n",
    "Plate_Carree_spread_points"
   ]
  },
  {
   "cell_type": "markdown",
   "id": "d97eebdb-92ed-468c-907c-093aed10d13e",
   "metadata": {},
   "source": [
    "## Plot using the Mollweide projection"
   ]
  },
  {
   "cell_type": "markdown",
   "id": "e47ded4a-dd6a-4cd7-ab32-d4b4fce2020b",
   "metadata": {},
   "source": [
    "Defining the title, the axis labels and the plot sizes."
   ]
  },
  {
   "cell_type": "code",
   "execution_count": null,
   "id": "973c8728-00d7-409a-a0f6-9f104e134c36",
   "metadata": {},
   "outputs": [],
   "source": [
    "title = 'Spatial Distribution - All Objects - Mollweide Projection'\n",
    "height = 500\n",
    "width = 1000\n",
    "padding = 0.05"
   ]
  },
  {
   "cell_type": "markdown",
   "id": "7f945334-ffe9-4372-bf36-fed863a90add",
   "metadata": {},
   "source": [
    "Defining the RA and DEC ticks for the Mollweide projection."
   ]
  },
  {
   "cell_type": "code",
   "execution_count": null,
   "id": "1b6cdfa0-daf3-4292-b8f4-e4489ff6c5ca",
   "metadata": {},
   "outputs": [],
   "source": [
    "longitudes = np.arange(30, 360, 30)\n",
    "latitudes = np.arange(-75, 76, 15)\n",
    "\n",
    "lon_labels = [f\"{lon}°\" for lon in longitudes]\n",
    "lon_labels.reverse()\n",
    "lat_labels = [f\"{lat}°\" for lat in latitudes]\n",
    "\n",
    "labels_data = {\n",
    "    \"lon\": list(np.flip(longitudes)) + [180] * len(latitudes),\n",
    "    \"lat\": [0] * len(longitudes) + list(latitudes),\n",
    "    \"label\": lon_labels + lat_labels,\n",
    "}\n",
    "\n",
    "df_labels = pd.DataFrame(labels_data)\n",
    "\n",
    "labels_plot = gv.Labels(df_labels, kdims=[\"lon\", \"lat\"], vdims=[\"label\"]).opts(\n",
    "    text_font_size=\"12pt\",\n",
    "    text_color=\"black\",\n",
    "    text_align='right',\n",
    "    text_baseline='bottom',\n",
    "    projection=crs.Mollweide()\n",
    ")"
   ]
  },
  {
   "cell_type": "markdown",
   "id": "8bb7c8b1-13a3-4e7f-b10f-3e7944364de3",
   "metadata": {},
   "source": [
    "Making the plot with geoviews and datashader."
   ]
  },
  {
   "cell_type": "code",
   "execution_count": null,
   "id": "dfd36f7e-767c-4250-8f82-2a6d35acac7a",
   "metadata": {},
   "outputs": [],
   "source": [
    "Mollweide_rasterized_points = rasterize(points, aggregator=ds.count()).opts(cmap=\"Viridis\", cnorm='log')\n",
    "\n",
    "Mollweide_spread_points = dynspread(Mollweide_rasterized_points).opts(\n",
    "    width=width, height=height, padding=padding, title=title, toolbar='above', colorbar=True,\n",
    "    invert_xaxis=True\n",
    ")\n",
    "\n",
    "grid = gf.grid()\n",
    "\n",
    "(Mollweide_spread_points).options(opts.Points(projection=crs.Mollweide())) * grid * labels_plot"
   ]
  },
  {
   "cell_type": "markdown",
   "id": "ebae92cb-2a05-4a54-bac3-b3ea93de490c",
   "metadata": {
    "tags": []
   },
   "source": [
    "# Spatial distributions of objects with ```detect_isPrimary==True```"
   ]
  },
  {
   "cell_type": "markdown",
   "id": "728fa601-6077-4b62-a6e4-e6f0ddf7f1db",
   "metadata": {},
   "source": [
    "The ```detect_isPrimary``` flag is true when:\n",
    "\n",
    "1) A source is located on the interior of a patch and tract (detect_isPatchInner & detect_isTractInner)\n",
    "\n",
    "2) A source is not a sky object (~merge_peak_sky for coadds or ~sky_source for single visits)\n",
    "\n",
    "3) A source is either an isolated parent that is un-modeled or deblended from a parent with multiple children (isDeblendedSource)\n",
    "\n",
    "Source: https://pipelines.lsst.io/modules/lsst.pipe.tasks/deblending-flags-overview.html"
   ]
  },
  {
   "cell_type": "markdown",
   "id": "18f80878-4ae9-42cd-a663-6d2ccc1d1dc0",
   "metadata": {},
   "source": [
    "First of all, let us define the filtered dask dataframe."
   ]
  },
  {
   "cell_type": "code",
   "execution_count": null,
   "id": "1ff0ebf7-9124-4118-98d4-a14151cafead",
   "metadata": {},
   "outputs": [],
   "source": [
    "ddf_small_filtered = ddf_small[ddf_small['detect_isPrimary']==True]"
   ]
  },
  {
   "cell_type": "markdown",
   "id": "85e90743-044f-4b8c-90e1-e7071f871026",
   "metadata": {},
   "source": [
    "Next, let us define the geoviews Points element."
   ]
  },
  {
   "cell_type": "code",
   "execution_count": null,
   "id": "d7f70570-c9d8-487d-9649-36c35cb2f1df",
   "metadata": {},
   "outputs": [],
   "source": [
    "points_filtered = gv.Points(ddf_small_filtered, kdims=['coord_ra', 'coord_dec'])"
   ]
  },
  {
   "cell_type": "markdown",
   "id": "15c4052a-5ac1-4ff8-9c2d-6aea800ec0fd",
   "metadata": {},
   "source": [
    "#### Note\n",
    "\n",
    "In what follows, if cartopy tries to download some file from natural earth, check the path of the cartopy data directory with\n",
    "```python\n",
    "import cartopy\n",
    "print(cartopy.config['data_dir'])\n",
    "```\n",
    "Then, download the file manually to the ```shapefiles/natural_earth/physical``` folder inside this directory and unzip it."
   ]
  },
  {
   "cell_type": "markdown",
   "id": "3f0d6f5f-1118-4fb5-92b7-532057c95feb",
   "metadata": {},
   "source": [
    "## Plot using the Plate Carrée projection"
   ]
  },
  {
   "cell_type": "markdown",
   "id": "4d0f3f45-0340-46c1-a5dc-b34da62a48b0",
   "metadata": {},
   "source": [
    "Defining the title, the axis labels and the plot sizes."
   ]
  },
  {
   "cell_type": "code",
   "execution_count": null,
   "id": "8e69d8f2-8464-4ffa-85a6-2f2b9384bee4",
   "metadata": {},
   "outputs": [],
   "source": [
    "title = 'Spatial Distribution - detect_isPrimary==True - Plate Carrée Projection'\n",
    "height = 500\n",
    "width = 1000\n",
    "padding = 0.05"
   ]
  },
  {
   "cell_type": "markdown",
   "id": "0539bf49-a410-4dc3-aa1f-d7b6f4366e40",
   "metadata": {},
   "source": [
    "Making the plot with geoviews and datashader."
   ]
  },
  {
   "cell_type": "code",
   "execution_count": null,
   "id": "bcbe96de-17c4-4d84-8b42-d236ebe9acc5",
   "metadata": {},
   "outputs": [],
   "source": [
    "Plate_Carree_rasterized_points_filtered = rasterize(points_filtered, aggregator=ds.count()).opts(cmap=\"Viridis\", cnorm='log')\n",
    "\n",
    "Plate_Carree_spread_points_filtered = dynspread(Plate_Carree_rasterized_points_filtered).opts(\n",
    "    width=width, height=height, padding=padding, title=title, toolbar='above', colorbar=True,\n",
    "    tools=['box_select'], show_grid=True, \n",
    "    invert_xaxis=True  # Inverter o eixo x\n",
    ")\n",
    "\n",
    "Plate_Carree_spread_points_filtered"
   ]
  },
  {
   "cell_type": "markdown",
   "id": "0e63064c-4624-49a2-8522-2f4fdb2bbbbc",
   "metadata": {},
   "source": [
    "## Plot using the Mollweide projection"
   ]
  },
  {
   "cell_type": "markdown",
   "id": "1f0907c4-d1ac-4511-a23e-a9bd1023e2e6",
   "metadata": {},
   "source": [
    "Defining the title, the axis labels and the plot sizes."
   ]
  },
  {
   "cell_type": "code",
   "execution_count": null,
   "id": "2b843a3c-97a1-4ee3-9e8f-d0770df2146e",
   "metadata": {},
   "outputs": [],
   "source": [
    "title = 'Spatial Distribution - detect_isPrimary==True - Mollweide Projection'\n",
    "height = 500\n",
    "width = 1000\n",
    "padding = 0.05"
   ]
  },
  {
   "cell_type": "markdown",
   "id": "59617917-3d18-40e2-a538-ced75963b171",
   "metadata": {},
   "source": [
    "Defining the RA and DEC ticks for the Mollweide projection."
   ]
  },
  {
   "cell_type": "code",
   "execution_count": null,
   "id": "e32a6d43-4837-464d-9768-2d63314657c1",
   "metadata": {},
   "outputs": [],
   "source": [
    "longitudes = np.arange(30, 360, 30)\n",
    "latitudes = np.arange(-75, 76, 15)\n",
    "\n",
    "lon_labels = [f\"{lon}°\" for lon in longitudes]\n",
    "lon_labels.reverse()\n",
    "lat_labels = [f\"{lat}°\" for lat in latitudes]\n",
    "\n",
    "labels_data = {\n",
    "    \"lon\": list(np.flip(longitudes)) + [180] * len(latitudes),\n",
    "    \"lat\": [0] * len(longitudes) + list(latitudes),\n",
    "    \"label\": lon_labels + lat_labels,\n",
    "}\n",
    "\n",
    "df_labels = pd.DataFrame(labels_data)\n",
    "\n",
    "labels_plot = gv.Labels(df_labels, kdims=[\"lon\", \"lat\"], vdims=[\"label\"]).opts(\n",
    "    text_font_size=\"12pt\",\n",
    "    text_color=\"black\",\n",
    "    text_align='right',\n",
    "    text_baseline='bottom',\n",
    "    projection=crs.Mollweide()\n",
    ")"
   ]
  },
  {
   "cell_type": "markdown",
   "id": "c7379c09-dede-4d65-83e1-af6615d97bd9",
   "metadata": {},
   "source": [
    "Making the plot with geoviews and datashader."
   ]
  },
  {
   "cell_type": "code",
   "execution_count": null,
   "id": "2a6c892b-81e7-4cdf-8e28-7f7646a2c4c4",
   "metadata": {},
   "outputs": [],
   "source": [
    "Mollweide_rasterized_points_filtered = rasterize(points_filtered, aggregator=ds.count()).opts(cmap=\"Viridis\", cnorm='log')\n",
    "\n",
    "Mollweide_spread_points_filtered = dynspread(Mollweide_rasterized_points_filtered).opts(\n",
    "    width=width, height=height, padding=padding, title=title, toolbar='above', colorbar=True,\n",
    "    invert_xaxis=True\n",
    ")\n",
    "\n",
    "grid = gf.grid()\n",
    "\n",
    "(Mollweide_spread_points_filtered).options(opts.Points(projection=crs.Mollweide())) * grid * labels_plot"
   ]
  },
  {
   "cell_type": "markdown",
   "id": "105c6d71-356b-430b-8362-6f8f8841a72e",
   "metadata": {
    "tags": []
   },
   "source": [
    "# Closing the client and cluster"
   ]
  },
  {
   "cell_type": "code",
   "execution_count": null,
   "id": "65cc4f7b-bcd9-40f5-b6fc-2d9f71a24a2e",
   "metadata": {},
   "outputs": [],
   "source": [
    "# Fechando o client\n",
    "client.close()\n",
    "cluster.close()"
   ]
  }
 ],
 "metadata": {
  "kernelspec": {
   "display_name": "ondemand-kernel",
   "language": "python",
   "name": "ondemand-kernel"
  },
  "language_info": {
   "codemirror_mode": {
    "name": "ipython",
    "version": 3
   },
   "file_extension": ".py",
   "mimetype": "text/x-python",
   "name": "python",
   "nbconvert_exporter": "python",
   "pygments_lexer": "ipython3",
   "version": "3.12.5"
  }
 },
 "nbformat": 4,
 "nbformat_minor": 5
}
