{
 "cells": [
  {
   "cell_type": "markdown",
   "id": "3502450f-0ad0-4916-88ac-6dbd5e269604",
   "metadata": {},
   "source": [
    "<img align=\"left\" src = \"images/linea.png\" width=120 style=\"padding: 20px\"> \n",
    "<img align=\"left\" src = \"images/rubin.png\" width=140 style=\"padding: 30px\"> \n",
    "\n",
    "# PZ Compute - E2E Notebook \n",
    "## Photo-zs for LSST DP0.2 Object catalog\n",
    "\n"
   ]
  },
  {
   "cell_type": "markdown",
   "id": "55755ddc-2bac-4acc-bbef-eca403802d98",
   "metadata": {},
   "source": [
    "Notebook contributors: Julia Gschwend, Luigi Silva, Heloisa Mengisztki <br>\n",
    "Contact: [julia@linea.org.br](mailto:julia@linea.org.br) <br>\n",
    "Last verified run: **2024-Nov-08** <br>"
   ]
  },
  {
   "cell_type": "markdown",
   "id": "17152e67-232f-4a54-8f6f-ee57bec5b0e1",
   "metadata": {},
   "source": [
    "### README - Disclaimer\n",
    "This notebook is an alternative front-end for the pipeline Photo-z Compute, originally developed for command line execution on LIneA's HPC environment. It is meant to be used by the \"photo-z experts\" in charge of the production tasks related to the Brazilian in-kind contribution to LSST. It should not be considered as a source of documentation or user guide. \n",
    "\n",
    "After each complete execution, this notebook must be exported and saved as HTML file to serve as an execution report for future provenance tracking. Additional process metadata and provenance info are available in the `provenance_info.yaml` file attached. "
   ]
  },
  {
   "cell_type": "markdown",
   "id": "5c2bb938-26f6-497f-9950-c0b07047787e",
   "metadata": {
    "tags": []
   },
   "source": [
    "### Table of contents \n",
    "\n",
    "1. Pre-processing: data preparation, photo-z training and validation \n",
    "2. Photo-z Compute \n",
    "3. Post-processing: analize results and performance  \n",
    "\n",
    "\n",
    "Each one of these steps was carefuly explored in separate notebooks. This notebook contains only the final decisions regarding sample selection and configuration choices.   \n",
    "\n",
    "--- "
   ]
  },
  {
   "cell_type": "markdown",
   "id": "4b60d108-1ddb-45cd-a744-3ba59f01400b",
   "metadata": {},
   "source": [
    "Setup:"
   ]
  },
  {
   "cell_type": "code",
   "execution_count": null,
   "id": "e67c4c73-275e-4c7e-8326-b141ad974670",
   "metadata": {},
   "outputs": [],
   "source": [
    "import os "
   ]
  },
  {
   "cell_type": "markdown",
   "id": "2ff0acd8-0396-4a00-8d89-1abcbb65fa7c",
   "metadata": {},
   "source": [
    "# 1. Pre-processing \n",
    "\n",
    "## 1.1 Create Skinny tables \n",
    "\n",
    "** Input data\n",
    "\n",
    "The very first input data of this sequence is the original LSST Object catalog for DP0.2, stored in Lustre system at: \n",
    "\n",
    "`/lustre/t1/cl/lsst/dp02/primary/catalogs/object/` \n",
    "\n",
    "Filename pattern: `objectTable_tract_xxxx_DC2_2_2i_runs_DP0_2_v23_0_1_PREOPS-905_step3_x_2022xxxxTxxxxxxZ.parq`"
   ]
  },
  {
   "cell_type": "markdown",
   "id": "65287f8f-8229-4757-b3b2-9c9802453d10",
   "metadata": {},
   "source": [
    "**Column Selection** \n",
    "\n",
    "Skinny tables are a subset of the [LSST Object catalog](https://sdm-schemas.lsst.io/dp02.html#Object) that includes only the columns of interest for photo-z algorithms, with ready-to-use data, i.e.: fluxes converted into deredded magnitudes.  \n",
    "\n",
    "Columns included in the skinny tables: \n",
    "\n",
    "| column name | data type |  description |\n",
    "| ---         | ---       |  ---         |\n",
    "| objectId\t  | int  \t  | Unique identifier | \n",
    "| coord_ra\t  | float64\t  | Fiducial ICRS Right Ascension of centroid (degrees)|\n",
    "| coord_dec   |\tfloat64\t  | Fiducial ICRS Declination of centroid (degrees)| \n",
    "| detect_isPrimary\t| boolean\t| True if source has no children and is in the inner region of a coadd patch and is in the inner region of a coadd tract and is not a sky source | \n",
    "| mag_{u, g, r, i, z, y} | float64 | {u, g, r, i, z, y}-band magnitude converted from final cmodel fit flux measurements | \n",
    "| magerr_{u, g, r, i, z, y} | float64 | {u, g, r, i, z, y}-band magnitude errors converted from final cmodel fit flux error measurements | \n",
    "\n",
    "\n",
    "Data cleaning to reduce the number of rows in the catalog is recommended when using the pipeline to create value-added catalogs for science cases. It must not be applied on the production runs when creating official data products to be delivered as part of the in-kind contribution.    "
   ]
  },
  {
   "cell_type": "code",
   "execution_count": null,
   "id": "de4e8e22-0adf-49db-a071-be6b902aadac",
   "metadata": {},
   "outputs": [],
   "source": [
    "os.system("
   ]
  },
  {
   "cell_type": "markdown",
   "id": "c517038f-1231-4335-b581-27ccf48ba7a9",
   "metadata": {},
   "source": [
    "### Basic QA of skinny tables "
   ]
  },
  {
   "cell_type": "code",
   "execution_count": null,
   "id": "eaf0b0c1-8d5b-4497-a3e9-6b010e5cc9e0",
   "metadata": {},
   "outputs": [],
   "source": []
  },
  {
   "cell_type": "markdown",
   "id": "6a0caaf0-9180-46b2-b0c8-199d799f60f8",
   "metadata": {},
   "source": [
    "## 1.2 Create Training and Test Sets \n",
    "\n",
    "\n",
    "### Representative spectroscopic sample \n",
    "\n",
    "A true-z sample randomly selected from the DC2 simulation to mimic a representative spectroscopic sample regarding the color-magnitude-redshift space. \n",
    "\n",
    "Split the sample into two random subsets, with 70% of the galaxies designated for training and 30% for tests by adding an extra column `test`: \n",
    "* `test=0`: galaxies included in the **training** procedure\n",
    "* `test=1`: galaxies included in the **test** procedure, mandatorily excluded from the training procedure \n",
    "\n"
   ]
  },
  {
   "cell_type": "code",
   "execution_count": null,
   "id": "20de284e-fe9d-42b4-a2c8-fe04cdd4ead0",
   "metadata": {},
   "outputs": [],
   "source": []
  },
  {
   "cell_type": "markdown",
   "id": "4192dc12-27bf-4741-8e60-e570440179a4",
   "metadata": {},
   "source": [
    "#### Basic QA of the representative training set "
   ]
  },
  {
   "cell_type": "code",
   "execution_count": null,
   "id": "27bc4e17-75bc-417c-b5b8-e401a0272449",
   "metadata": {},
   "outputs": [],
   "source": []
  },
  {
   "cell_type": "markdown",
   "id": "c32d5ec3-fa75-4700-aadf-8263041ee52c",
   "metadata": {},
   "source": [
    "### Realistic spectroscopic sample (TBD)\n",
    "\n",
    "A true-z sample arbitrarily selected from the DC2 simulation to mimic realistic spectroscopic sample regarding the color-magnitude-redshift space, based on current spectroscopic data available from the literature . \n",
    "\n",
    "\n"
   ]
  },
  {
   "cell_type": "code",
   "execution_count": null,
   "id": "87c61c05-8c3a-4974-9763-a013b1b20e47",
   "metadata": {},
   "outputs": [],
   "source": []
  },
  {
   "cell_type": "markdown",
   "id": "cf98631c-3d87-44c1-ba84-b90cab8bed44",
   "metadata": {},
   "source": [
    "#### Basic QA of the realistic training set "
   ]
  },
  {
   "cell_type": "code",
   "execution_count": null,
   "id": "0b010715-b669-4fea-b41c-5386d5f29d62",
   "metadata": {},
   "outputs": [],
   "source": []
  },
  {
   "cell_type": "markdown",
   "id": "f109f543-d0b4-4734-a21b-696d7757818b",
   "metadata": {},
   "source": [
    "## 1.3 Train the photo-z algorithm  \n",
    "\n",
    "Train the photo-z algorithm with RAIL (`rail_inform`). Available options: BPZ, FlexZBoost, GPz, LePHARE,and  TPZ.  \n"
   ]
  },
  {
   "cell_type": "code",
   "execution_count": null,
   "id": "944b0b23-5287-4902-82f4-53ba32aa8b64",
   "metadata": {},
   "outputs": [],
   "source": []
  },
  {
   "cell_type": "code",
   "execution_count": null,
   "id": "336d7cee-c5e2-41bc-aad5-635e22a96564",
   "metadata": {},
   "outputs": [],
   "source": []
  },
  {
   "cell_type": "code",
   "execution_count": null,
   "id": "d4af7418-29a2-47f3-94d9-6f37dcdd1f72",
   "metadata": {},
   "outputs": [],
   "source": []
  },
  {
   "cell_type": "markdown",
   "id": "85663883-845a-4432-821b-c8662c0bd8c5",
   "metadata": {},
   "source": [
    "## 1.4 Photo-z Validation    \n",
    "\n",
    "### PZ estimates for the Test Set\n",
    "\n",
    "Run `rail_estimate` module to produce the photo-z estimates (PDFs) for the Test Set. "
   ]
  },
  {
   "cell_type": "code",
   "execution_count": null,
   "id": "0d65e292-ab10-4a63-b9f6-a1487546afb7",
   "metadata": {},
   "outputs": [],
   "source": []
  },
  {
   "cell_type": "markdown",
   "id": "e720b20c-6a88-49d2-8e3c-4bfb2e5077a9",
   "metadata": {},
   "source": [
    "### PZ validation results\n",
    "\n",
    "#### Metrics and plots \n",
    "\n",
    "Run `rail_evaluate` module to compute PDF metrics. "
   ]
  },
  {
   "cell_type": "code",
   "execution_count": null,
   "id": "da29f0ae-19ef-406c-b7bd-606024a514d3",
   "metadata": {},
   "outputs": [],
   "source": []
  },
  {
   "cell_type": "markdown",
   "id": "217b0e87-bc94-47fb-a7cb-43cb94c1a099",
   "metadata": {},
   "source": [
    "#### PZ Validation conclusions \n",
    "\n",
    "Quality assessment, comparison with science requirements. "
   ]
  },
  {
   "cell_type": "code",
   "execution_count": null,
   "id": "f0089887-aa2d-4789-95a6-6ef0e45ab26c",
   "metadata": {},
   "outputs": [],
   "source": []
  },
  {
   "cell_type": "markdown",
   "id": "486d38a4-847a-4b37-ac4a-c68d5a0785a5",
   "metadata": {},
   "source": [
    "# 2. Photo-z Compute \n",
    "\n",
    "## Submit pipeline to Apollo cluster \n",
    "\n",
    "## Real-time monitoring  "
   ]
  },
  {
   "cell_type": "code",
   "execution_count": null,
   "id": "7d282952-935d-49e3-a307-3e73b60859c5",
   "metadata": {},
   "outputs": [],
   "source": []
  },
  {
   "cell_type": "code",
   "execution_count": null,
   "id": "f97eae09-06b4-413d-8850-32a1ee087c39",
   "metadata": {},
   "outputs": [],
   "source": [
    "\n"
   ]
  },
  {
   "cell_type": "markdown",
   "id": "369fd28c-0899-48a6-ad21-28b19b697445",
   "metadata": {},
   "source": [
    "# 3. Post-processing"
   ]
  },
  {
   "cell_type": "code",
   "execution_count": null,
   "id": "43e31846-704a-4c6d-b8b0-bf67afdc222a",
   "metadata": {},
   "outputs": [],
   "source": []
  },
  {
   "cell_type": "markdown",
   "id": "89263a61-5f42-4de8-8bf9-7bd78e4478d6",
   "metadata": {},
   "source": [
    "## Performance evaluation "
   ]
  },
  {
   "cell_type": "code",
   "execution_count": null,
   "id": "80294cc4-315d-4e16-bd81-1a55f968ee51",
   "metadata": {},
   "outputs": [],
   "source": []
  },
  {
   "cell_type": "markdown",
   "id": "20448fcd-eb7f-4052-a790-7440c360282e",
   "metadata": {},
   "source": [
    "## PZ Estimates - QA of final results "
   ]
  },
  {
   "cell_type": "code",
   "execution_count": null,
   "id": "9fa29fa0-ce48-4f9a-b832-9ca3520fd60f",
   "metadata": {},
   "outputs": [],
   "source": []
  },
  {
   "cell_type": "code",
   "execution_count": null,
   "id": "7a36238b-541d-4907-b89b-f453712f2c4e",
   "metadata": {},
   "outputs": [],
   "source": []
  }
 ],
 "metadata": {
  "kernelspec": {
   "display_name": "pz_compute",
   "language": "python",
   "name": "pz_compute"
  },
  "language_info": {
   "codemirror_mode": {
    "name": "ipython",
    "version": 3
   },
   "file_extension": ".py",
   "mimetype": "text/x-python",
   "name": "python",
   "nbconvert_exporter": "python",
   "pygments_lexer": "ipython3",
   "version": "3.10.14"
  }
 },
 "nbformat": 4,
 "nbformat_minor": 5
}
