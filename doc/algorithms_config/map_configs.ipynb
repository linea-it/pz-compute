{
 "cells": [
  {
   "cell_type": "markdown",
   "id": "8089c144-2208-4a82-96b9-c7e2a519ea03",
   "metadata": {
    "tags": []
   },
   "source": [
    "<img align=\"left\" src = https://linea.org.br/wp-content/themes/LIneA/imagens/logo-header.jpg width=130 style=\"padding: 20px\"> \n",
    "\n",
    "# Map the configuration parameters for PZ-Compute algorithms\n",
    "\n",
    "   **Contact**: Heloisa da S. Mengisztki, Julia Gschwend<br>\n",
    "   **Last verified run**: 2024-june <br><br><br>\n",
    "\n",
    "Notebook created to map the configurations used to run RAIL and Pz-Compute for FlexZboost, BPZ and TPZ algorithms."
   ]
  },
  {
   "cell_type": "markdown",
   "id": "0cc8300a-4a5a-447b-be86-adadb1e24395",
   "metadata": {
    "tags": []
   },
   "source": [
    "# Rail Core - SHARED_PARAMS"
   ]
  },
  {
   "cell_type": "markdown",
   "id": "d6f55694-63cf-483b-9002-167a9aee5051",
   "metadata": {},
   "source": [
    "[Shared Params code](https://github.com/LSSTDESC/rail_base/blob/main/src/rail/core/common_params.py)"
   ]
  },
  {
   "cell_type": "code",
   "execution_count": 5,
   "id": "95e61e6f-f6d9-4e9f-b3dd-56c3a9036170",
   "metadata": {},
   "outputs": [],
   "source": [
    "from rail.estimation.estimator import CatEstimator, CatInformer\n",
    "from rail.core.common_params import SHARED_PARAMS"
   ]
  },
  {
   "cell_type": "code",
   "execution_count": 45,
   "id": "2c4687e2-19a9-4c76-af36-d7619c57a02f",
   "metadata": {
    "tags": []
   },
   "outputs": [],
   "source": [
    "#help(CatInformer)\n",
    "#help(CatEstimator)\n",
    "\n",
    "# estimate(SHARED_PARAMS + [especificos])"
   ]
  },
  {
   "cell_type": "code",
   "execution_count": 4,
   "id": "87648099-1c84-4c6b-9414-569dc2a2035a",
   "metadata": {
    "tags": []
   },
   "outputs": [
    {
     "data": {
      "text/plain": [
       "StageConfig{hdf5_groupname:photometry,zmin:0.0,zmax:3.0,nzbins:301,dz:0.01,nondetect_val:99.0,bands:['mag_u_lsst', 'mag_g_lsst', 'mag_r_lsst', 'mag_i_lsst', 'mag_z_lsst', 'mag_y_lsst'],err_bands:['mag_err_u_lsst', 'mag_err_g_lsst', 'mag_err_r_lsst', 'mag_err_i_lsst', 'mag_err_z_lsst', 'mag_err_y_lsst'],mag_limits:{'mag_u_lsst': 27.79, 'mag_g_lsst': 29.04, 'mag_r_lsst': 29.06, 'mag_i_lsst': 28.62, 'mag_z_lsst': 27.98, 'mag_y_lsst': 27.05},ref_band:mag_i_lsst,redshift_col:redshift,calculated_point_estimates:[],}"
      ]
     },
     "execution_count": 4,
     "metadata": {},
     "output_type": "execute_result"
    }
   ],
   "source": [
    "SHARED_PARAMS"
   ]
  },
  {
   "cell_type": "markdown",
   "id": "7f1ed4d1-a596-4efd-80c9-a8a3093fb364",
   "metadata": {
    "tags": []
   },
   "source": [
    "| Parâmetro                 | Type  | Default      | Descrição                                                                   |\n",
    "|---------------------------|-------|--------------|-----------------------------------------------------|\n",
    "| hdf5_groupname            | str   | \"\"           | name of hdf5 group for data, if None, then set to ''                         |\n",
    "| zmin                      | float | 0.0          | The minimum redshift of the z grid                                           |\n",
    "| zmax                      | float | 3.0          | The maximum redshift of the z grid                                           \n",
    "| nzbins                    | int   | 301          | The number of gridpoints in the z grid                                   |\n",
    "| dz                        | float | 0.01         | delta z in grid                                                          |\n",
    "| nondetect_val             | float | 99.0         | value to be replaced with magnitude limit for non detects      |\n",
    "| bands                     | array | [\"mag_u_lsst\", \"mag_g_lsst\", \"mag_r_lsst\", \"mag_i_lsst\", \"mag_z_lsst\", \"mag_y_lsst\"]      | Names of columns for magnitgude by filter band|\n",
    "| err_bands                 | array | [\"mag_err_u_lsst\", \"mag_err_g_lsst\", \"mag_err_r_lsst\", \"mag_err_i_lsst\", \"mag_err_z_lsst\", \"mag_err_y_lsst\"]|Names of columns for magnitgude errors by filter band |\n",
    "| mag_limits                | dict | {mag_u_lsst:27.79, mag_g_lsst:29.04, mag_r_lsst:29.06, mag_i_lsst:28.62, mag_z_lsst:27.98, mag_y_lsst:27.05}| Limiting magnitdues by filter|\n",
    "| ref_band                  | str   | \"mag_i_lsst\" | band to use in addition to colors                         |\n",
    "| redshift_col              | str   | \"redshift\"   | name of redshift column                                           |\n",
    "| calculated_point_estimates| array | []           | List of strings defining which point estimates to automatically calculate using `qp.Ensemble`.Options include, 'mean', 'mode', 'median'.|\n",
    "| recompute_point_estimates | bool  | False        | Force recomputation of point estimates |"
   ]
  },
  {
   "cell_type": "markdown",
   "id": "8a00d97b-f063-4efd-963c-35b87eccfd0b",
   "metadata": {
    "jp-MarkdownHeadingCollapsed": true,
    "tags": []
   },
   "source": [
    "# FlexZBoost\n",
    "\n",
    "- [fzboost repository](https://github.com/LSSTDESC/rail_flexzboost/blob/main/src/rail/estimation/algos/flexzboost.py)\n",
    "- [FlexCode](https://github.com/lee-group-cmu/FlexCode)"
   ]
  },
  {
   "cell_type": "markdown",
   "id": "b0aef972-b893-4c3e-ae3e-b32347382847",
   "metadata": {
    "jp-MarkdownHeadingCollapsed": true,
    "tags": []
   },
   "source": [
    "## Inform Params\n",
    "\n",
    "| Parâmetro        | Tipo  | Padrão | Descrição                                           |\n",
    "|------------------|-------|--------|-----------------------------------------------------|\n",
    "| retrain_full     | bool  | True   | if True, re-run the fit with the full training set, including data set aside for bump/sharpen validation.  If False, only use the subset defined via trainfrac fraction |\n",
    "| trainfrac        | float | 0.75   | fraction of training data to use for training (rest used for bump thresh and sharpening determination)|\n",
    "| seed             | int   | 1138   | Random number seed                                  |\n",
    "| bumpmin          | float | 0.02   | minimum value in grid of thresholds checked to optimize removal of spurious small bumps |\n",
    "| bumpmax          | float | 0.35   | max value in grid checked for removal of small bumps |\n",
    "| nbump            | int   | 20     | number of grid points in bumpthresh grid search     |\n",
    "| sharpmin         | float | 0.7    | min value in grid checked in optimal sharpening parameter fit |\n",
    "| sharpmax         | float | 2.1    | max value in grid checked in optimal sharpening parameter fit |\n",
    "| nsharp           | int   | 15     | number of search points in sharpening fit |\n",
    "| max_basis        | int   | 35     | maximum number of basis funcitons to use in density estimate |\n",
    "| basis_system     | str   | 'cosine' | type of basis sytem to use with flexcode |\n",
    "| regression_params| dict  | {'max_depth': 8, 'objective': 'reg:squarederror'}| dictionary of options passed to flexcode, includes max_depth (int), and objective, which should be set  to reg:squarederror\n",
    "| zmin                      | float | 0.0          | SHARED_PARAMS |\n",
    "| zmax                      | float | 3.0          | SHARED_PARAMS |\n",
    "| nzbins                    | int   | 301          | SHARED_PARAMS |\n",
    "| nondetect_val             | float | 99.0         | SHARED_PARAMS |\n",
    "| bands                     | array | [\"mag_u_lsst\", \"mag_g_lsst\", \"mag_r_lsst\", \"mag_i_lsst\", \"mag_z_lsst\", \"mag_y_lsst\"]      | SHARED_PARAMS |\n",
    "| err_bands                 | array | [\"mag_err_u_lsst\", \"mag_err_g_lsst\", \"mag_err_r_lsst\", \"mag_err_i_lsst\", \"mag_err_z_lsst\", \"mag_err_y_lsst\"]| SHARED_PARAMS |\n",
    "| mag_limits                | dict  | {mag_u_lsst:27.79, mag_g_lsst:29.04, mag_r_lsst:29.06, mag_i_lsst:28.62, mag_z_lsst:27.98, mag_y_lsst:27.05}| SHARED_PARAMS |\n",
    "| ref_band                  | str   | \"mag_i_lsst\" | SHARED_PARAMS |\n",
    "| redshift_col              | str   | \"redshift\"   | SHARED_PARAMS |"
   ]
  },
  {
   "cell_type": "markdown",
   "id": "b647cb0b-0f2e-4b43-b98b-bb840edd637f",
   "metadata": {
    "tags": []
   },
   "source": [
    "## Estimate Params\n",
    "\n",
    "For flexzboost the inform parameters are more siginificant to obtain different results then the estimate parameters\n",
    "\n",
    "| Parâmetro                 | Type  | Default      | Descrição                                   |\n",
    "|---------------------------|-------|--------------|---------------------------------------------|                                 \n",
    "| qp_representation         | str   | \"interp\"     | qp generator to use. `interp or flexzboost` |\n",
    "| nzbins                    | int   | 301          | SHARED_PARAMS |\n",
    "| nondetect_val             | float | 99.0         | SHARED_PARAMS |\n",
    "| bands                     | array | [\"mag_u_lsst\", \"mag_g_lsst\", \"mag_r_lsst\", \"mag_i_lsst\", \"mag_z_lsst\", \"mag_y_lsst\"]      | SHARED_PARAMS |\n",
    "| err_bands                 | array | [\"mag_err_u_lsst\", \"mag_err_g_lsst\", \"mag_err_r_lsst\", \"mag_err_i_lsst\", \"mag_err_z_lsst\", \"mag_err_y_lsst\"]| SHARED_PARAMS |\n",
    "| mag_limits                | dict  | {mag_u_lsst:27.79, mag_g_lsst:29.04, mag_r_lsst:29.06, mag_i_lsst:28.62, mag_z_lsst:27.98, mag_y_lsst:27.05}| SHARED_PARAMS |\n",
    "| ref_band                  | str   | \"mag_i_lsst\" | SHARED_PARAMS |"
   ]
  },
  {
   "cell_type": "markdown",
   "id": "74700c36-ed0e-46ee-a7fc-bd76be5c8d16",
   "metadata": {
    "tags": []
   },
   "source": [
    "# Bpz\n",
    "\n",
    "- [bpz-lite repository](https://github.com/LSSTDESC/rail_bpz/blob/main/src/rail/estimation/algos/bpz_lite.py)\n",
    "- [Benitez (2000)](https://ui.adsabs.harvard.edu/abs/2000ApJ...536..571B/abstract)\n",
    "- [Coe et al. (2006)](https://ui.adsabs.harvard.edu/abs/2006AJ....132..926C/abstract)\n"
   ]
  },
  {
   "cell_type": "markdown",
   "id": "71de6d0e-b256-45a7-9e15-c4de074696a9",
   "metadata": {
    "tags": []
   },
   "source": [
    "## Inform Params\n",
    "\n",
    "| Parâmetro        | Tipo  | Padrão            | Descrição                                           |\n",
    "|------------------|-------|-------------------|-------------------------------------------|\n",
    "| data_path        | str   | \"None\"            | data_path (str): file path to the SED FILTER and AB directories. If left to default `None` it will use the install directory for rail + rail/examples_data/estimation_data/data |\n",
    "| columns_file     | str   | \"test_bpz.columns\"| name of the file specifying the columns |\n",
    "| spectra_file     | str   | \"CWWSB4.list\"     | name of the file specifying the list of SEDs to use |\n",
    "| m0               | float | 20.0              | reference apparent mag used in prior param |\n",
    "| nt_array         | list  | [1, 2, 3]         | list of integer number of templates per 'broad type' must be in same order as the template set and must sum to the same number as the # of templates in the spectra file |\n",
    "| mmin             | float | 18.0              | lowest apparent mag in ref band lower values ignored |\n",
    "| mmax             | float | 29.0              | highest apparent mag in ref band higher values ignored |\n",
    "| init_kt          | float | 0.3               | initial guess for kt in training |\n",
    "| init_zo          | float | 0.4               | initial guess for z0 in training |\n",
    "| init_alpha       | float | 1.8               | initial guess for alpha in training |\n",
    "| init_km          | float | 0.1               | initial guess for km in training |\n",
    "| type_file        | str   | \"\"                | name of file with the broad type fits for the training data |\n",
    "| zmin                      | float | 0.0          | SHARED_PARAMS |\n",
    "| zmax                      | float | 3.0          | SHARED_PARAMS |\n",
    "| nzbins                    | int   | 301          | SHARED_PARAMS |\n",
    "| nondetect_val             | float | 99.0         | SHARED_PARAMS |\n",
    "| bands                     | array | [\"mag_u_lsst\", \"mag_g_lsst\", \"mag_r_lsst\", \"mag_i_lsst\", \"mag_z_lsst\", \"mag_y_lsst\"]      | SHARED_PARAMS |\n",
    "| err_bands                 | array | [\"mag_err_u_lsst\", \"mag_err_g_lsst\", \"mag_err_r_lsst\", \"mag_err_i_lsst\", \"mag_err_z_lsst\", \"mag_err_y_lsst\"]| SHARED_PARAMS |\n",
    "| mag_limits                | dict | {mag_u_lsst:27.79, mag_g_lsst:29.04, mag_r_lsst:29.06, mag_i_lsst:28.62, mag_z_lsst:27.98, mag_y_lsst:27.05}| SHARED_PARAMS |\n",
    "| ref_band                  | str   | \"mag_i_lsst\" | SHARED_PARAMS |\n",
    "| redshift_col              | str   | \"redshift\"   | SHARED_PARAMS | "
   ]
  },
  {
   "cell_type": "markdown",
   "id": "140a84e4-f268-48c5-9405-5007f8e1bf9c",
   "metadata": {},
   "source": [
    "## Estimate Params\n",
    "\n",
    "| Parâmetro         | Type  | Default      | Descrição                                           |\n",
    "|-------------------|-------|--------------|-----------------------------------------------------|                                 \n",
    "| dz                | float | 0.01         | delta z in grid |\n",
    "| unobserved_val    | float | -99.0        | value to be replaced with zero flux and given large errors for non-observed filters |\n",
    "| data_path         | str   | \"None\"       | data_path (str): file path to the SED, FILTER, and AB directories.  If left to default `None` it will use the install directory for rail + ../examples_data/estimation_data/data |\n",
    "| columns_file      | str   | \"test_bpz.columns | | name of the file specifying the columns |\n",
    "| spectra_file      | str   | \"CWWSB4.list\"| name of the file specifying the list of SEDs to use |\n",
    "| madau_flag        | str   | \"no\"         | set to 'yes' or 'no' to set whether to include intergalactic Madau reddening when constructing model fluxes |\n",
    "| no_prior          | bool  | \"False\"      | set to True if you want to run with no prior |\n",
    "| p_min             | float | 0.005        | BPZ sets all values of the PDF that are below p_min*peak_value to 0.0, p_min controls that fractional cutoff |\n",
    "| gauss_kernel      | float | 0.0          | gauss_kernel (float): BPZ convolves the PDF with a kernel if this is set to a non-zero number |\n",
    "| zp_errors         | list  | [0.01, 0.01, 0.01, 0.01, 0.01, 0.01] | BPZ adds these values in quadrature to the photometric errors |\n",
    "| mag_err_min       | float | 0.005        | a minimum floor for the magnitude errors to prevent a large chi^2 for very very bright objects |\n",
    "| zmin              | float | 0.0          | SHARED_PARAMS |\n",
    "| zmax              | float | 3.0          | SHARED_PARAMS |\n",
    "| nzbins            | int   | 301          | SHARED_PARAMS |\n",
    "| nondetect_val     | float | 99.0         | SHARED_PARAMS |\n",
    "| bands             | array | [\"mag_u_lsst\", \"mag_g_lsst\", \"mag_r_lsst\", \"mag_i_lsst\", \"mag_z_lsst\", \"mag_y_lsst\"]      | SHARED_PARAMS |\n",
    "| err_bands         | array | [\"mag_err_u_lsst\", \"mag_err_g_lsst\", \"mag_err_r_lsst\", \"mag_err_i_lsst\", \"mag_err_z_lsst\", \"mag_err_y_lsst\"]| SHARED_PARAMS |\n",
    "| mag_limits        | dict | {mag_u_lsst:27.79, mag_g_lsst:29.04, mag_r_lsst:29.06, mag_i_lsst:28.62, mag_z_lsst:27.98, mag_y_lsst:27.05}| SHARED_PARAMS |\n",
    "| ref_band          | str   | \"mag_i_lsst\" | SHARED_PARAMS |\n",
    "| redshift_col      | str   | \"redshift\"   | SHARED_PARAMS |\n"
   ]
  },
  {
   "cell_type": "markdown",
   "id": "0bf36598-92e3-4ed2-ae02-9c5ad6cfbdba",
   "metadata": {
    "jp-MarkdownHeadingCollapsed": true,
    "tags": []
   },
   "source": [
    "# Tpz\n",
    "\n",
    "- [tpz repository](https://github.com/LSSTDESC/rail_bpz/blob/main/src/rail/estimation/algos/bpz_lite.py)\n",
    "- [Carrasco Kind, M., & Brunner, R. J. (2013)](https://ui.adsabs.harvard.edu/abs/2013MNRAS.432.1483C/abstract)"
   ]
  },
  {
   "cell_type": "markdown",
   "id": "d3e24849-116b-40e8-872e-4cce7f8d4bbf",
   "metadata": {
    "jp-MarkdownHeadingCollapsed": true,
    "tags": []
   },
   "source": [
    "## Inform Params\n",
    "\n",
    "| Parâmetro                 | Type  | Default       | Descrição                                           |\n",
    "|---------------------------|-------|---------------|-----------------------------------------------------|                                 \n",
    "| seed                      | int   | 8758          | random seed | |\n",
    "| use_atts                  | list  | [\"mag_u_lsst\", \"mag_g_lsst\", \"mag_r_lsst\", \"mag_i_lsst\", \"mag_z_lsst\", \"mag_y_lsst\"] | attributes to use in training trees | |\n",
    "| err_dict                  | dict  | {mag_u_lsst:\"mag_err_u_lsst\", mag_g_lsst:\"mag_err_g_lsst\", mag_r_lsst:\"mag_err_r_lsst\", mag_i_lsst:\"mag_err_i_lsst\", mag_z_lsst:\"mag_err_z_lsst\", mag_y_lsst:\"mag_err_y_lsst\", redshift:None} | dictionary that contains the columns that will be used to predict as the keys and the errors associated with that column as the values. If a column does not havea an associated error its value should be `None` | |\n",
    "| nrandom                   | int   | 8             | number of random bootstrap samples of training data to create | |\n",
    "| ntrees                    | int   | 5             | number of trees to create | |\n",
    "| minleaf                   | int   | 5             | minimum number in terminal leaf | |\n",
    "| natt                      | int   | 3             | number of attributes to split for TPZ | |\n",
    "| sigmafactor               | float | 3.0           | Gaussian smoothing with kernel Sigma1*Resolution | |\n",
    "| rmsfactor                 | float | 0.02          | RMS for zconf calculation | |\n",
    "| tree_strategy             | str   | native        | which decision tree function to use when constructing the forest, valid choices are 'native' or 'sklearn'.  If 'native', use the trees written for TPZ 'sklearn' then use sklearn's DecisionTreeRegressor |\n",
    "| zmin                      | float | 0.0           | SHARED_PARAMS |\n",
    "| zmax                      | float | 3.0           | SHARED_PARAMS |\n",
    "| nzbins                    | int   | 301           | SHARED_PARAMS |\n",
    "| nondetect_val             | float | 99.0          | SHARED_PARAMS |\n",
    "| bands                     | array | [\"mag_u_lsst\", \"mag_g_lsst\", \"mag_r_lsst\", \"mag_i_lsst\", \"mag_z_lsst\", \"mag_y_lsst\"]      | SHARED_PARAMS |\n",
    "| err_bands                 | array | [\"mag_err_u_lsst\", \"mag_err_g_lsst\", \"mag_err_r_lsst\", \"mag_err_i_lsst\", \"mag_err_z_lsst\", \"mag_err_y_lsst\"]| SHARED_PARAMS |\n",
    "| mag_limits                | dict | {mag_u_lsst:27.79, mag_g_lsst:29.04, mag_r_lsst:29.06, mag_i_lsst:28.62, mag_z_lsst:27.98, mag_y_lsst:27.05}| SHARED_PARAMS |\n",
    "| redshift_col              | str   | \"redshift\"    | SHARED_PARAMS | "
   ]
  },
  {
   "cell_type": "markdown",
   "id": "c11d61f2-967d-4362-bb3a-319072a63694",
   "metadata": {},
   "source": [
    "## Estimate Params\n",
    "\n",
    "| Parâmetro                 | Type  | Default      | Descrição                                           |\n",
    "|---------------------------|-------|--------------|-----------------------------------------------------|                                 \n",
    "| test_err_dict             | dict  | def_err_dict | dictionary that contains the columns that will be used to predict as the keys and the errors associated with that column as the values. If a column does not havea an associated error its value shoule be `None` |\n",
    "| nondetect_val             | float | 99.0         | SHARED_PARAMS |\n",
    "| mag_limits                | dict  | {mag_u_lsst:27.79, mag_g_lsst:29.04, mag_r_lsst:29.06, mag_i_lsst:28.62, mag_z_lsst:27.98, mag_y_lsst:27.05} | SHARED_PARAMS |"
   ]
  },
  {
   "cell_type": "markdown",
   "id": "570c9a36-fcd7-4070-96d1-448e9049cab7",
   "metadata": {
    "jp-MarkdownHeadingCollapsed": true,
    "tags": []
   },
   "source": [
    "# Read Yaml File"
   ]
  },
  {
   "cell_type": "code",
   "execution_count": 25,
   "id": "4a61d5dc-0787-4882-a48e-a212b582c330",
   "metadata": {
    "tags": []
   },
   "outputs": [],
   "source": [
    "import yaml\n",
    "\n",
    "def load_config(config_file):\n",
    "    with open(config_file, 'r') as file:\n",
    "        config = yaml.safe_load(file)\n",
    "    return config"
   ]
  },
  {
   "cell_type": "code",
   "execution_count": 47,
   "id": "c6ba2d00-830c-4641-94e5-03951c9a33e5",
   "metadata": {
    "tags": []
   },
   "outputs": [],
   "source": [
    "config_file = '<pz-cpmpute-path>/fzboost_settings_for_notebook.yaml' \n",
    "config = load_config(config_file)"
   ]
  },
  {
   "cell_type": "code",
   "execution_count": 48,
   "id": "fbb797ab-b760-4ff1-bb7c-dd13f1d64a13",
   "metadata": {
    "tags": []
   },
   "outputs": [],
   "source": [
    "common = config['common']\n",
    "fzboost = config['estimate']\n",
    "fzboost_inform = config['inform']"
   ]
  },
  {
   "cell_type": "code",
   "execution_count": 53,
   "id": "2688f25e-eb93-4ff2-8c27-395583ab9672",
   "metadata": {
    "tags": []
   },
   "outputs": [
    {
     "data": {
      "text/plain": [
       "{'zmin': 0.0,\n",
       " 'zmax': 3.0,\n",
       " 'redshift_col': 'redshift',\n",
       " 'nzbins': 301,\n",
       " 'nondetect_val': 99.0,\n",
       " 'mag_limits': {'mag_u_lsst': 27.79,\n",
       "  'mag_g_lsst': 29.04,\n",
       "  'mag_r_lsst': 29.06,\n",
       "  'mag_i_lsst': 28.62,\n",
       "  'mag_z_lsst': 27.98,\n",
       "  'mag_y_lsst': 27.05},\n",
       " 'bands': ['mag_u_lsst',\n",
       "  'mag_g_lsst',\n",
       "  'mag_r_lsst',\n",
       "  'mag_i_lsst',\n",
       "  'mag_z_lsst',\n",
       "  'mag_y_lsst'],\n",
       " 'err_bands': ['mag_err_u_lsst',\n",
       "  'mag_err_g_lsst',\n",
       "  'mag_err_r_lsst',\n",
       "  'mag_err_i_lsst',\n",
       "  'mag_err_z_lsst',\n",
       "  'mag_err_y_lsst'],\n",
       " 'ref_band': 'mag_i_lsst'}"
      ]
     },
     "execution_count": 53,
     "metadata": {},
     "output_type": "execute_result"
    }
   ],
   "source": [
    "common"
   ]
  },
  {
   "cell_type": "code",
   "execution_count": 52,
   "id": "a7c9b2f9-c56f-4af6-8da1-70fb1b18281c",
   "metadata": {
    "tags": []
   },
   "outputs": [
    {
     "data": {
      "text/plain": [
       "{'retrain_full:': True,\n",
       " 'trainfrac': 0.75,\n",
       " 'seed': 1138,\n",
       " 'bumpmin': 0.02,\n",
       " 'bumpmax': 0.35,\n",
       " 'nbump': 20,\n",
       " 'sharpmin': 0.7,\n",
       " 'sharpmax': 2.1,\n",
       " 'nsharp': 15,\n",
       " 'max_basis': 35,\n",
       " 'basis_system': 'cosine',\n",
       " 'regression_params': ['string1',\n",
       "  'string2',\n",
       "  'string3',\n",
       "  'string4',\n",
       "  'string5',\n",
       "  'string6']}"
      ]
     },
     "execution_count": 52,
     "metadata": {},
     "output_type": "execute_result"
    }
   ],
   "source": [
    "fzboost_inform"
   ]
  },
  {
   "cell_type": "code",
   "execution_count": 51,
   "id": "95c0503e-5bb3-43fe-835b-f1aa0b6faf65",
   "metadata": {
    "tags": []
   },
   "outputs": [
    {
     "data": {
      "text/plain": [
       "{'qp_representation': 'interp'}"
      ]
     },
     "execution_count": 51,
     "metadata": {},
     "output_type": "execute_result"
    }
   ],
   "source": [
    "fzboost"
   ]
  }
 ],
 "metadata": {
  "kernelspec": {
   "display_name": "rail_env",
   "language": "python",
   "name": "rail_env"
  },
  "language_info": {
   "codemirror_mode": {
    "name": "ipython",
    "version": 3
   },
   "file_extension": ".py",
   "mimetype": "text/x-python",
   "name": "python",
   "nbconvert_exporter": "python",
   "pygments_lexer": "ipython3",
   "version": "3.12.3"
  }
 },
 "nbformat": 4,
 "nbformat_minor": 5
}
