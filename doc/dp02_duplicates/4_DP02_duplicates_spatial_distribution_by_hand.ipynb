{
 "cells": [
  {
   "cell_type": "markdown",
   "id": "95c39e9a-a601-40d5-b77e-dff606ca8571",
   "metadata": {},
   "source": [
    "<img align='left' src = '../images/linea.png' width=150 style='padding: 20px'> \n",
    "\n",
    "# DP02 duplicates analysis\n",
    "## Part 4 - Spatial distribution - Generating by hand in the cluster \n",
    "\n",
    "Analysis of duplicates found in the DP02 catalog.\n",
    "\n",
    "<br> \n",
    "<br>"
   ]
  },
  {
   "cell_type": "markdown",
   "id": "a6939f3b-1a2b-4c83-8304-7fb8b4979b58",
   "metadata": {},
   "source": [
    "Contact: Luigi Silva ([luigi.lcsilva@linea.org.br](mailto:luigi.lcsilva@linea.org.br))"
   ]
  },
  {
   "cell_type": "markdown",
   "id": "6d9dd449-c148-4cf8-bce6-b6ffc058a1d8",
   "metadata": {},
   "source": [
    "Last check: October 7, 2024."
   ]
  },
  {
   "cell_type": "markdown",
   "id": "39a50fcb-36ef-4d8f-88a2-ff03d1e1c27e",
   "metadata": {},
   "source": [
    "#### Acknowledgments\n",
    "\n",
    "'_This notebook used computational resources from the Associação Laboratório Interinstitucional de e-Astronomia (LIneA) with financial support from the INCT of e-Universe (Process No. 465376/2014-2)._'\n",
    "\n",
    "'_This notebook uses libraries from the LSST Interdisciplinary Network for Collaboration and Computing (LINCC) Frameworks project, such as the hipscat, hipscat_import, and lsdb libraries. The LINCC Frameworks project is supported by Schmidt Sciences. It is also based on work supported by the National Science Foundation under Grant No. AST-2003196. Additionally, it receives support from the DIRAC Institute at the Department of Astronomy of the University of Washington. The DIRAC Institute is supported by gifts from the Charles and Lisa Simonyi Fund for Arts and Sciences and the Washington Research Foundation._'"
   ]
  },
  {
   "cell_type": "markdown",
   "id": "12661c77-71fa-468d-8656-e4a8f192b2cd",
   "metadata": {},
   "source": [
    "# Inputs and configs"
   ]
  },
  {
   "cell_type": "markdown",
   "id": "e0790ad0-f790-4d66-b355-b3fa8c68e23a",
   "metadata": {},
   "source": [
    "Let us import the packages that we will need."
   ]
  },
  {
   "cell_type": "code",
   "execution_count": null,
   "id": "819054eb-dfb2-4d11-94bf-0a46b8e9f4c8",
   "metadata": {
    "tags": []
   },
   "outputs": [],
   "source": [
    "# General\n",
    "import os\n",
    "import sys\n",
    "import math\n",
    "import numpy as np\n",
    "import pandas as pd\n",
    "\n",
    "# Bokeh\n",
    "import bokeh\n",
    "from bokeh.io import output_notebook\n",
    "\n",
    "# Holoviews\n",
    "import holoviews as hv\n",
    "from holoviews import opts\n",
    "\n",
    "# Geoviews\n",
    "import geoviews as gv\n",
    "import geoviews.feature as gf\n",
    "from geoviews.operation import project\n",
    "import cartopy.crs as ccrs"
   ]
  },
  {
   "cell_type": "markdown",
   "id": "040636f2-b62e-48de-aa75-3da43f1bd792",
   "metadata": {},
   "source": [
    "Let us set the number of rows that pandas will display."
   ]
  },
  {
   "cell_type": "code",
   "execution_count": null,
   "id": "d5195c7c-4456-4018-be1f-999b1fea9e24",
   "metadata": {
    "tags": []
   },
   "outputs": [],
   "source": [
    "pd.set_option('display.max_rows', 10)"
   ]
  },
  {
   "cell_type": "markdown",
   "id": "be9cfa61-85a6-4541-831b-26914b1311a6",
   "metadata": {},
   "source": [
    "Now, let us configure the plots to use bokeh and to be inline."
   ]
  },
  {
   "cell_type": "code",
   "execution_count": null,
   "id": "06797a9d-aac7-4577-8239-1d96cdcf4a65",
   "metadata": {
    "tags": []
   },
   "outputs": [],
   "source": [
    "hv.extension('bokeh')"
   ]
  },
  {
   "cell_type": "code",
   "execution_count": null,
   "id": "69a1b862-091d-4048-8c26-a7915dcf4ed1",
   "metadata": {
    "tags": []
   },
   "outputs": [],
   "source": [
    "gv.extension('bokeh')"
   ]
  },
  {
   "cell_type": "code",
   "execution_count": null,
   "id": "a8e25646-e514-43c5-8f5e-1d8ea30a0cd2",
   "metadata": {
    "tags": []
   },
   "outputs": [],
   "source": [
    "output_notebook()"
   ]
  },
  {
   "cell_type": "code",
   "execution_count": null,
   "id": "5bc6bc75-d2e7-46bc-a120-65bfc9c3d2b2",
   "metadata": {
    "tags": []
   },
   "outputs": [],
   "source": [
    "%matplotlib inline"
   ]
  },
  {
   "cell_type": "markdown",
   "id": "3bfb1d8e-fb4c-4b61-ba28-729f50ea753b",
   "metadata": {},
   "source": [
    "# Spatial distribution"
   ]
  },
  {
   "cell_type": "markdown",
   "id": "2d98a2cf-9ffc-4cf2-879f-9dce0ea57bf3",
   "metadata": {},
   "source": [
    "In the following subsections, we will read the data of the 2D histogram corresponding to the **spatial distribution of objects**, considering their distribution in the sky according to their Right Ascension (R.A.) and Declination (DEC) coordinates, and we will make two plots for each considered case.\n",
    "\n",
    "The first plot uses the **equidistant cylindrical projection (Plate Carrée projection)**, in which the lines corresponding to R.A. are equally spaced vertical straight lines, and the lines corresponding to DEC are equally spaced horizontal straight lines. This projection distorts areas and shapes, especially at high declinations.\n",
    "\n",
    "The second plot uses the **Mollweide projection**, an equal-area, pseudocylindrical map projection. The Mollweide projection preserves area; however, it distorts shapes, especially near the edges of the sky map. The central meridian and the celestial equator are straight lines, while other lines of R.A. and DEC are represented as curves.\n",
    "\n",
    "The plots will also have a **colorbar** corresponding to the counts of objects per R.A. and DEC bin of the 2D histogram."
   ]
  },
  {
   "cell_type": "markdown",
   "id": "c55c158f-9d9e-413e-93e8-b590110712b3",
   "metadata": {},
   "source": [
    "## First case - All the objects without any filter"
   ]
  },
  {
   "cell_type": "markdown",
   "id": "85420921-b3dd-4e29-873e-6d335f8f245c",
   "metadata": {},
   "source": [
    "### Reading the data"
   ]
  },
  {
   "cell_type": "markdown",
   "id": "c313412f-e844-42c6-a26f-5d1a6351a2b7",
   "metadata": {},
   "source": [
    "Below we can see the output Parquet file structure. The line 0 (type \"histogram_ra_dec\") contains the counts of the 2D histogram in the \"values\" column, and the line 1 (type \"bins_ra_dec\") contains the R.A. bin edges (\"ra_bins\") and DEC bin edges (\"dec_bins\") in the \"values\" column."
   ]
  },
  {
   "cell_type": "code",
   "execution_count": null,
   "id": "ae27ee57-5596-420f-ba89-69987deb1222",
   "metadata": {
    "tags": []
   },
   "outputs": [],
   "source": [
    "### Reading the Parquet file and showing the dataframe.\n",
    "df_spatial_dist = pd.read_parquet('output/histo_2d_ra_dec.parquet', engine='fastparquet')\n",
    "df_spatial_dist"
   ]
  },
  {
   "cell_type": "markdown",
   "id": "caded6b2-8827-47b3-9a97-3131d7df06e8",
   "metadata": {},
   "source": [
    "We have to convert the lists to numpy arrays."
   ]
  },
  {
   "cell_type": "code",
   "execution_count": null,
   "id": "d69407cd-781c-40d4-ae0d-4271ab665fb2",
   "metadata": {
    "tags": []
   },
   "outputs": [],
   "source": [
    "### Generating new dataframes from the original one, containing the counts, the R.A. bin edges and the DEC bin edges, and converting\n",
    "### these dataframes to numpy arrays.\n",
    "histogram_ra_dec = np.array(df_spatial_dist['values'][0])\n",
    "bins_ra = np.array(df_spatial_dist['values'][1]['ra_bins'])\n",
    "bins_dec = np.array(df_spatial_dist['values'][1]['dec_bins'])"
   ]
  },
  {
   "cell_type": "markdown",
   "id": "c8909e2f-c6da-49f4-b3d7-d7eaeee929d8",
   "metadata": {},
   "source": [
    "Now, we show some information about the R.A. bins, DEC bins and the 2D histogram counts."
   ]
  },
  {
   "cell_type": "code",
   "execution_count": null,
   "id": "02314396-2a91-46db-90b6-572204dd215a",
   "metadata": {
    "tags": []
   },
   "outputs": [],
   "source": [
    "### Printing the information.\n",
    "print(\"INFO - R.A. BINS\")\n",
    "print(f\"Min. edge: {bins_ra.min():.2f} | Max. edge: {bins_ra.max():.2f} | Step: {bins_ra[1]-bins_ra[0]:.2f} | Shape: {bins_ra.shape} \\n\")\n",
    "print(\"INFO - DEC BINS\")\n",
    "print(f\"Min. edge: {bins_dec.min():.2f} | Max. edge: {bins_dec.max():.2f} | Step: {bins_dec[1]-bins_dec[0]:.2f} | Shape: {bins_dec.shape} \\n\") \n",
    "print(\"INFO- 2D HISTOGRAM COUNTS\")\n",
    "print(f\"Min. count: {histogram_ra_dec.min()} | Max. count: {histogram_ra_dec.max()} | Shape: {histogram_ra_dec.shape}\")"
   ]
  },
  {
   "cell_type": "markdown",
   "id": "a77e74de-145e-4967-8af5-e96cf2af593f",
   "metadata": {},
   "source": [
    "### Spatial distribution plot"
   ]
  },
  {
   "cell_type": "markdown",
   "id": "2c89053d-08e7-4428-af49-c24c2b3969a8",
   "metadata": {},
   "source": [
    "----------------------------------------------------------------------------------------------\n",
    "#### Note\n",
    "\n",
    "In what follows, if cartopy tries to download some file from natural earth, check the path of the cartopy data directory with\n",
    "```python\n",
    "import cartopy\n",
    "print(cartopy.config['data_dir'])\n",
    "```\n",
    "Then, download the file manually to the ```shapefiles/natural_earth/physical``` folder inside this directory and unzip it.\n",
    "\n",
    "----------------------------------------------------------------------------------------------"
   ]
  },
  {
   "cell_type": "markdown",
   "id": "aa2c3788-0426-4cdd-a9a6-2ca0b12e6b85",
   "metadata": {},
   "source": [
    "Before making the plots, we must perform some tasks:\n",
    "\n",
    "1. Change the 0 values in the 2D histogram counts array to NaN values, so that they appear white in the plot.\n",
    "2. Compute the centers of the bins.\n",
    "3. For the Plate Carrée projection, change the R.A. coordinates so that they belong to the range $[−180^{\\circ},180^{\\circ})$. This is necessary for inverting the x-axis in the plot, a widely used convention. We must also adjust the 2D histogram counts accordingly, so that they agree with the new R.A. range.\n",
    "4. For the Mollweide projection, invert the R.A. coordinates by doing $360^{\\circ} - x$ for all $x$ in the R.A. values. This is just computational artifice, which is necessary for inverting the x-axis in the plot. However, in the final plot, the R.A. and DEC ticks will be correctly showed in the original range, $[0^{\\circ},360^{\\circ})$. Again, we must also adjust the 2D histogram counts accordingly.\n",
    "5. Transpose the 2D histogram counts arrays so that they become compatible with HoloViews/GeoViews."
   ]
  },
  {
   "cell_type": "code",
   "execution_count": null,
   "id": "e59c755e-b571-4648-8643-931bd7ca9307",
   "metadata": {
    "tags": []
   },
   "outputs": [],
   "source": [
    "### Changing the 0 values to NaN values.\n",
    "histogram_ra_dec_NaN = histogram_ra_dec.astype(float)\n",
    "histogram_ra_dec_NaN[histogram_ra_dec_NaN == 0] = np.nan\n",
    "\n",
    "### Getting the bins centers.\n",
    "bins_ra_centers = (bins_ra[1:] + bins_ra[:-1])/2\n",
    "bins_dec_centers = (bins_dec[1:] + bins_dec[:-1])/2\n",
    "\n",
    "### Plate Carrée projection - Changing the R.A. coordinates to the range [-180,180), and changing the 2d histogram counts accordingly.\n",
    "bins_ra_centers_180_range = np.where(bins_ra_centers >= 180, bins_ra_centers - 360, bins_ra_centers)\n",
    "sorted_indices_180_range = np.argsort(bins_ra_centers_180_range)\n",
    "histogram_ra_dec_180_range = histogram_ra_dec_NaN[sorted_indices_180_range, :]\n",
    "bins_ra_centers_180_range = bins_ra_centers_180_range[sorted_indices_180_range]\n",
    "\n",
    "### Mollweide projection - Inverting the R.A. values (360 - values), and changing the 2d histogram counts accordingly.\n",
    "bins_ra_centers_inverted = np.where(bins_ra_centers <= 360, 360 - bins_ra_centers, bins_ra_centers)\n",
    "sorted_indices_inverted = np.argsort(bins_ra_centers_inverted)\n",
    "histogram_ra_dec_inverted = histogram_ra_dec_NaN[sorted_indices_inverted, :]\n",
    "bins_ra_centers_inverted = bins_ra_centers_inverted[sorted_indices_inverted]\n",
    "\n",
    "### Transposing the histogram arrays for the holoviews plots.\n",
    "histogram_ra_dec_180_range_transpose = histogram_ra_dec_180_range.T\n",
    "histogram_ra_dec_inverted_transpose = histogram_ra_dec_inverted.T"
   ]
  },
  {
   "cell_type": "markdown",
   "id": "c1f4cfb6-fe97-4dd3-8aa1-7014fd57adbf",
   "metadata": {},
   "source": [
    "After these tasks, we are ready to make the spatial distribution plots.\n",
    "\n",
    "First, the Plate Carrée projection plot. In this plot, **the R.A. values are in the $[−180^{\\circ},180^{\\circ})$ range**, where the negative values corresponds to values greater than $180^{\\circ}$ in the original range, $[0^{\\circ}, 360^{\\circ})$."
   ]
  },
  {
   "cell_type": "code",
   "execution_count": null,
   "id": "80af0fc8-f317-4fc0-a709-bfc07f40b9eb",
   "metadata": {
    "tags": []
   },
   "outputs": [],
   "source": [
    "### Creating the image using holoviews.\n",
    "hv_image_ra_dec = hv.Image((bins_ra_centers_180_range, bins_dec_centers, histogram_ra_dec_180_range_transpose), [f'R.A.', f'DEC'], f'Counts')\n",
    "\n",
    "### Adjusting the image options.\n",
    "hv_image_ra_dec = hv_image_ra_dec.opts(\n",
    "    opts.Image(cmap='viridis', cnorm='linear', colorbar=True, width=1000, height=500,\n",
    "               xlim=(180, -180), ylim=(-90, 90), tools=['hover'], clim=(10, np.nanmax(histogram_ra_dec_180_range_transpose)),\n",
    "               title=f'Spatial Distribution of Objects - All Objects - Plate Carrée Projection', show_grid=True)\n",
    ")\n",
    "\n",
    "# Showing the graph.\n",
    "hv_image_ra_dec"
   ]
  },
  {
   "cell_type": "markdown",
   "id": "30414ebc-8ad7-45ad-8a40-881bb4577138",
   "metadata": {},
   "source": [
    "Second, the Mollweide projection plot. In this plot, **the R.A. values are in the original $[0^{\\circ},360^{\\circ})$ range**. Unfortunately, the bokeh 'hover' tool does not work with this projection."
   ]
  },
  {
   "cell_type": "code",
   "execution_count": null,
   "id": "09247c5d-5757-4117-964e-a81d036af7fb",
   "metadata": {
    "tags": []
   },
   "outputs": [],
   "source": [
    "### Generating the R.A. and DEC ticks\n",
    "longitudes = np.arange(30, 360, 30)\n",
    "latitudes = np.arange(-75, 76, 15)\n",
    "\n",
    "lon_labels = [f\"{lon}°\" for lon in longitudes]\n",
    "lat_labels = [f\"{lat}°\" for lat in latitudes]\n",
    "\n",
    "labels_data = {\n",
    "    \"lon\": list(np.flip(longitudes)) + [-180] * len(latitudes),\n",
    "    \"lat\": [0] * len(longitudes) + list(latitudes),\n",
    "    \"label\": lon_labels + lat_labels,\n",
    "}\n",
    "\n",
    "df_labels = pd.DataFrame(labels_data)\n",
    "\n",
    "labels_plot = gv.Labels(df_labels, kdims=[\"lon\", \"lat\"], vdims=[\"label\"]).opts(\n",
    "    text_font_size=\"12pt\",\n",
    "    text_color=\"black\",\n",
    "    text_align='right',\n",
    "    text_baseline='bottom',\n",
    "    projection=ccrs.Mollweide()\n",
    ")\n",
    "\n",
    "### Creating the image using holoviews.\n",
    "gv_image_ra_dec = gv.Image((bins_ra_centers_inverted, bins_dec_centers, histogram_ra_dec_inverted_transpose), [f'R.A.', f'DEC'], f'Counts')\n",
    "\n",
    "### Doing the Mollweide projection.\n",
    "gv_image_ra_dec_projected = gv.operation.project(gv_image_ra_dec, projection=ccrs.Mollweide())\n",
    "\n",
    "### Generating the grid lines.\n",
    "grid = gf.grid().opts(\n",
    "    opts.Feature(projection=ccrs.Mollweide(), scale='110m', color='black')\n",
    ")\n",
    "\n",
    "### Adjusting the image options.\n",
    "gv_image_ra_dec_projected = gv_image_ra_dec_projected.opts(cmap='viridis', cnorm='linear', colorbar=True, width=1000, height=500, \n",
    "                                                           clim=(10, np.nanmax(histogram_ra_dec_inverted_transpose)), \n",
    "                                                           title='Spatial Distribution of Objects - All Objects - Mollweide Projection', \n",
    "                                                           projection=ccrs.Mollweide(),  global_extent=True)\n",
    "\n",
    "### Showing the plot.\n",
    "combined_plot = gv_image_ra_dec_projected * grid * labels_plot\n",
    "combined_plot"
   ]
  },
  {
   "cell_type": "markdown",
   "id": "facb46d4-0a2d-482a-a50f-e83bdf86cc10",
   "metadata": {},
   "source": [
    "## Second case - Objects with ```detect_isPrimary == True```"
   ]
  },
  {
   "cell_type": "markdown",
   "id": "9d08ba23-a7a8-498a-b1a8-bd0161f355bd",
   "metadata": {},
   "source": [
    "The ```detect_isPrimary``` flag is true when:\n",
    "\n",
    "1) A source is located on the interior of a patch and tract (detect_isPatchInner & detect_isTractInner)\n",
    "\n",
    "2) A source is not a sky object (~merge_peak_sky for coadds or ~sky_source for single visits)\n",
    "\n",
    "3) A source is either an isolated parent that is un-modeled or deblended from a parent with multiple children (isDeblendedSource)\n",
    "\n",
    "Source: https://pipelines.lsst.io/modules/lsst.pipe.tasks/deblending-flags-overview.html"
   ]
  },
  {
   "cell_type": "markdown",
   "id": "1e4bc6c8-22f0-4a11-adc7-8fd62e23706d",
   "metadata": {},
   "source": [
    "### Reading the data"
   ]
  },
  {
   "cell_type": "markdown",
   "id": "850d0514-7e12-435e-acbd-073a29ed1646",
   "metadata": {},
   "source": [
    "Below we can see the output Parquet file structure. The line 0 (type \"histogram_ra_dec\") contains the counts of the 2D histogram in the \"values\" column, and the line 1 (type \"bins_ra_dec\") contains the R.A. bin edges (\"ra_bins\") and DEC bin edges (\"dec_bins\") in the \"values\" column."
   ]
  },
  {
   "cell_type": "code",
   "execution_count": null,
   "id": "116d5dfa-f8ff-4484-a4c2-ec27d9c33734",
   "metadata": {},
   "outputs": [],
   "source": [
    "### Reading the Parquet file and showing the dataframe.\n",
    "df_spatial_dist_detect_isPrimary_true = pd.read_parquet('output/histo_2d_ra_dec_detect_isPrimary_true.parquet', engine='fastparquet')\n",
    "df_spatial_dist_detect_isPrimary_true"
   ]
  },
  {
   "cell_type": "markdown",
   "id": "74e1c7bb-97eb-45df-8e44-0140c254f6fd",
   "metadata": {},
   "source": [
    "We have to convert the lists to numpy arrays."
   ]
  },
  {
   "cell_type": "code",
   "execution_count": null,
   "id": "23c87f58-34c4-4461-97de-85d4e0b4da59",
   "metadata": {},
   "outputs": [],
   "source": [
    "### Generating new dataframes from the original one, containing the counts, the R.A. bin edges and the DEC bin edges, and converting\n",
    "### these dataframes to numpy arrays.\n",
    "histogram_ra_dec_detect_isPrimary_true = np.array(df_spatial_dist_detect_isPrimary_true['values'][0])\n",
    "bins_ra_detect_isPrimary_true = np.array(df_spatial_dist_detect_isPrimary_true['values'][1]['ra_bins'])\n",
    "bins_dec_detect_isPrimary_true = np.array(df_spatial_dist_detect_isPrimary_true['values'][1]['dec_bins'])"
   ]
  },
  {
   "cell_type": "markdown",
   "id": "f9f3ea68-44bd-46d4-9723-e961c8c088dd",
   "metadata": {},
   "source": [
    "Now, we show some information about the R.A. bins, DEC bins and the 2D histogram counts."
   ]
  },
  {
   "cell_type": "code",
   "execution_count": null,
   "id": "4ac86d42-00e0-45dc-9751-3872d0fa0dee",
   "metadata": {},
   "outputs": [],
   "source": [
    "### Printing the information.\n",
    "print(\"INFO - R.A. BINS\")\n",
    "print(f\"Min. edge: {bins_ra_detect_isPrimary_true.min():.2f} | Max. edge: {bins_ra_detect_isPrimary_true.max():.2f} | Step: {bins_ra_detect_isPrimary_true[1]-bins_ra_detect_isPrimary_true[0]:.2f} | Shape: {bins_ra_detect_isPrimary_true.shape} \\n\")\n",
    "print(\"INFO - DEC BINS\")\n",
    "print(f\"Min. edge: {bins_dec_detect_isPrimary_true .min():.2f} | Max. edge: {bins_dec_detect_isPrimary_true .max():.2f} | Step: {bins_dec_detect_isPrimary_true [1]-bins_dec_detect_isPrimary_true [0]:.2f} | Shape: {bins_dec_detect_isPrimary_true .shape} \\n\") \n",
    "print(\"INFO- 2D HISTOGRAM COUNTS\")\n",
    "print(f\"Min. count: {histogram_ra_dec_detect_isPrimary_true.min()} | Max. count: {histogram_ra_dec_detect_isPrimary_true.max()} | Shape: {histogram_ra_dec_detect_isPrimary_true.shape}\")"
   ]
  },
  {
   "cell_type": "markdown",
   "id": "bf9fb28e-ced3-45da-8ce4-e83fd3af19c6",
   "metadata": {},
   "source": [
    "### Spatial distribution plot"
   ]
  },
  {
   "cell_type": "markdown",
   "id": "8726632b-f929-4d78-b2fd-fffecaf2ab36",
   "metadata": {},
   "source": [
    "Before making the plots, we must perform some tasks:\n",
    "\n",
    "1. Change the 0 values in the 2D histogram counts array to NaN values, so that they appear white in the plot.\n",
    "2. Compute the centers of the bins.\n",
    "3. For the Plate Carrée projection, change the R.A. coordinates so that they belong to the range $[−180^{\\circ},180^{\\circ})$. This is necessary for inverting the x-axis in the plot, a widely used convention. We must also adjust the 2D histogram counts accordingly, so that they agree with the new R.A. range.\n",
    "4. For the Mollweide projection, invert the R.A. coordinates by doing $360^{\\circ} - x$ for all $x$ in the R.A. values. This is just computational artifice, which is necessary for inverting the x-axis in the plot. However, in the final plot, the R.A. and DEC ticks will be correctly showed in the original range, $[0^{\\circ},360^{\\circ})$. Again, we must also adjust the 2D histogram counts accordingly.\n",
    "5. Transpose the 2D histogram counts arrays so that they become compatible with HoloViews/GeoViews."
   ]
  },
  {
   "cell_type": "code",
   "execution_count": null,
   "id": "bbf7b1d7-f6a8-49e9-abf5-b6780528a1f9",
   "metadata": {},
   "outputs": [],
   "source": [
    "### Changing the 0 values to NaN values.\n",
    "histogram_ra_dec_NaN_detect_isPrimary_true = histogram_ra_dec_detect_isPrimary_true.astype(float)\n",
    "histogram_ra_dec_NaN_detect_isPrimary_true[histogram_ra_dec_NaN_detect_isPrimary_true == 0] = np.nan\n",
    "\n",
    "### Getting the bins centers.\n",
    "bins_ra_centers_detect_isPrimary_true = (bins_ra_detect_isPrimary_true[1:] + bins_ra_detect_isPrimary_true[:-1])/2\n",
    "bins_dec_centers_detect_isPrimary_true = (bins_dec_detect_isPrimary_true[1:] + bins_dec_detect_isPrimary_true[:-1])/2\n",
    "\n",
    "### Plate Carrée projection - Changing the R.A. coordinates to the range [-180,180), and changing the 2d histogram counts accordingly.\n",
    "bins_ra_centers_180_range_detect_isPrimary_true = np.where(bins_ra_centers_detect_isPrimary_true >= 180, bins_ra_centers_detect_isPrimary_true - 360, bins_ra_centers_detect_isPrimary_true)\n",
    "sorted_indices_180_range_detect_isPrimary_true = np.argsort(bins_ra_centers_180_range_detect_isPrimary_true)\n",
    "histogram_ra_dec_180_range_detect_isPrimary_true = histogram_ra_dec_NaN_detect_isPrimary_true[sorted_indices_180_range_detect_isPrimary_true, :]\n",
    "bins_ra_centers_180_range_detect_isPrimary_true = bins_ra_centers_180_range_detect_isPrimary_true[sorted_indices_180_range_detect_isPrimary_true]\n",
    "\n",
    "### Mollweide projection - Inverting the R.A. values (360 - values), and changing the 2d histogram counts accordingly.\n",
    "bins_ra_centers_inverted_detect_isPrimary_true = np.where(bins_ra_centers_detect_isPrimary_true <= 360, 360 - bins_ra_centers_detect_isPrimary_true, bins_ra_centers_detect_isPrimary_true)\n",
    "sorted_indices_inverted_detect_isPrimary_true = np.argsort(bins_ra_centers_inverted_detect_isPrimary_true)\n",
    "histogram_ra_dec_inverted_detect_isPrimary_true = histogram_ra_dec_NaN_detect_isPrimary_true[sorted_indices_inverted_detect_isPrimary_true, :]\n",
    "bins_ra_centers_inverted_detect_isPrimary_true = bins_ra_centers_inverted_detect_isPrimary_true[sorted_indices_inverted_detect_isPrimary_true]\n",
    "\n",
    "### Transposing the histogram arrays for the holoviews plots.\n",
    "histogram_ra_dec_180_range_transpose_detect_isPrimary_true = histogram_ra_dec_180_range_detect_isPrimary_true.T\n",
    "histogram_ra_dec_inverted_transpose_detect_isPrimary_true = histogram_ra_dec_inverted_detect_isPrimary_true.T"
   ]
  },
  {
   "cell_type": "markdown",
   "id": "f6a34b53-170b-4de7-99a7-52aeb5bded81",
   "metadata": {},
   "source": [
    "After these tasks, we are ready to make the spatial distribution plots.\n",
    "\n",
    "First, the Plate Carrée projection plot. In this plot, **the R.A. values are in the $[−180^{\\circ},180^{\\circ})$ range**, where the negative values corresponds to values greater than $180^{\\circ}$ in the original range, $[0^{\\circ}, 360^{\\circ})$."
   ]
  },
  {
   "cell_type": "code",
   "execution_count": null,
   "id": "6e766764-61c0-41fe-9bb2-3b3c028a56d9",
   "metadata": {},
   "outputs": [],
   "source": [
    "### Creating the image using holoviews.\n",
    "hv_image_ra_dec_detect_isPrimary_true = hv.Image((bins_ra_centers_180_range_detect_isPrimary_true, bins_dec_centers_detect_isPrimary_true, histogram_ra_dec_180_range_transpose_detect_isPrimary_true), [f'R.A.', f'DEC'], f'Counts')\n",
    "\n",
    "### Adjusting the image options.\n",
    "hv_image_ra_dec_detect_isPrimary_true = hv_image_ra_dec_detect_isPrimary_true.opts(\n",
    "    opts.Image(cmap='viridis', cnorm='linear', colorbar=True, width=1000, height=500,\n",
    "               xlim=(180, -180), ylim=(-90, 90), tools=['hover'], clim=(10, np.nanmax(histogram_ra_dec_180_range_transpose_detect_isPrimary_true)),\n",
    "               title=f'Spatial Distribution of Objects - detect_isPrimary==True - Plate Carrée Projection', show_grid=True)\n",
    ")\n",
    "\n",
    "# Showing the graph.\n",
    "hv_image_ra_dec_detect_isPrimary_true"
   ]
  },
  {
   "cell_type": "markdown",
   "id": "11ba42bb-c626-4d99-95ca-ba621badec03",
   "metadata": {},
   "source": [
    "Second, the Mollweide projection plot. In this plot, **the R.A. values are in the original $[0^{\\circ},360^{\\circ})$ range**. Unfortunately, the bokeh 'hover' tool does not work with this projection."
   ]
  },
  {
   "cell_type": "code",
   "execution_count": null,
   "id": "03eb2aa6-8ee0-499e-9154-1ecd7b335363",
   "metadata": {},
   "outputs": [],
   "source": [
    "### Generating the R.A. and DEC ticks\n",
    "longitudes = np.arange(30, 360, 30)\n",
    "latitudes = np.arange(-75, 76, 15)\n",
    "\n",
    "lon_labels = [f\"{lon}°\" for lon in longitudes]\n",
    "lat_labels = [f\"{lat}°\" for lat in latitudes]\n",
    "\n",
    "labels_data = {\n",
    "    \"lon\": list(np.flip(longitudes)) + [-180] * len(latitudes),\n",
    "    \"lat\": [0] * len(longitudes) + list(latitudes),\n",
    "    \"label\": lon_labels + lat_labels,\n",
    "}\n",
    "\n",
    "df_labels = pd.DataFrame(labels_data)\n",
    "\n",
    "labels_plot = gv.Labels(df_labels, kdims=[\"lon\", \"lat\"], vdims=[\"label\"]).opts(\n",
    "    text_font_size=\"12pt\",\n",
    "    text_color=\"black\",\n",
    "    text_align='right',\n",
    "    text_baseline='bottom',\n",
    "    projection=ccrs.Mollweide()\n",
    ")\n",
    "\n",
    "### Creating the image using holoviews.\n",
    "gv_image_ra_dec_detect_isPrimary_true = gv.Image((bins_ra_centers_inverted_detect_isPrimary_true, bins_dec_centers_detect_isPrimary_true, histogram_ra_dec_inverted_transpose_detect_isPrimary_true), [f'R.A.', f'DEC'], f'Counts')\n",
    "\n",
    "### Doing the Mollweide projection.\n",
    "gv_image_ra_dec_projected_detect_isPrimary_true = gv.operation.project(gv_image_ra_dec_detect_isPrimary_true, projection=ccrs.Mollweide())\n",
    "\n",
    "### Generating the grid lines.\n",
    "grid = gf.grid().opts(\n",
    "    opts.Feature(projection=ccrs.Mollweide(), scale='110m', color='black')\n",
    ")\n",
    "\n",
    "### Adjusting the image options.\n",
    "gv_image_ra_dec_projected_detect_isPrimary_true = gv_image_ra_dec_projected_detect_isPrimary_true.opts(cmap='viridis', cnorm='linear', colorbar=True, width=1000, height=500, \n",
    "                                                           clim=(10, np.nanmax(histogram_ra_dec_inverted_transpose_detect_isPrimary_true)), \n",
    "                                                           title='Spatial Distribution of Objects - detect_isPrimary==True - Mollweide Projection', \n",
    "                                                           projection=ccrs.Mollweide(),  global_extent=True)\n",
    "\n",
    "### Showing the plot.\n",
    "combined_plot = gv_image_ra_dec_projected_detect_isPrimary_true * grid * labels_plot\n",
    "combined_plot"
   ]
  }
 ],
 "metadata": {
  "kernelspec": {
   "display_name": "ondemand-kernel",
   "language": "python",
   "name": "ondemand-kernel"
  },
  "language_info": {
   "codemirror_mode": {
    "name": "ipython",
    "version": 3
   },
   "file_extension": ".py",
   "mimetype": "text/x-python",
   "name": "python",
   "nbconvert_exporter": "python",
   "pygments_lexer": "ipython3",
   "version": "3.12.5"
  }
 },
 "nbformat": 4,
 "nbformat_minor": 5
}
