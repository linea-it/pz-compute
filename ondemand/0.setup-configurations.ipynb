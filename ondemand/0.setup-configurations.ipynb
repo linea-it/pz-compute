{
 "cells": [
  {
   "cell_type": "markdown",
   "id": "432de3ae-2aad-4594-a449-5a53c1cdc4d6",
   "metadata": {},
   "source": [
    "<img align=\"left\" src = \"images/linea.png\" width=120 style=\"padding: 20px\"> \n",
    "<img align=\"left\" src = \"images/rubin.png\" width=140 style=\"padding: 30px\"> \n",
    "\n",
    "# Pipeline pz-compute: Setup Configuration\n",
    "### Photo-zs for the LSST Object Catalog\n",
    "\n",
    "<br><br>\n",
    "\n",
    "Notebook Contributors: Heloisa Mengisztki, Julia Gschwend, Luigi Silva <br>\n",
    "Contact: [heloisasmengisztki@gmail.com](mailto:heloisasmengisztki@gmail.com), [julia@linea.org.br](mailto:julia@linea.org.br), [luigi.silva@linea.org.br](mailto:luigi.silva@linea.org.br) <br>\n",
    "Last Verified Run: **2024-Nov-08** <br>"
   ]
  },
  {
   "cell_type": "markdown",
   "id": "37c9776a-da6c-4239-9a52-1c174f72ea70",
   "metadata": {
    "tags": []
   },
   "source": [
    "# Instructions"
   ]
  },
  {
   "cell_type": "markdown",
   "id": "4d9b9a2b-1871-42af-a356-7717b08de9d7",
   "metadata": {
    "tags": []
   },
   "source": [
    "The pz-compute pipeline is set up to run in LIneA's HPC environment. Those with appropriate permissions can access it via the Open OnDemand platform or from a terminal on LIneA JupyterHub.\n",
    "\n",
    "To execute commands, use the LIneA shell access, running commands that look like this:\n",
    ">`that look like this`\n",
    "\n",
    "On your first login, your terminal will connect you to loginapl01:\n",
    "``` shell\n",
    " (base) [your-user-name@loginapl01 ~]$ \n",
    "``` "
   ]
  },
  {
   "cell_type": "markdown",
   "id": "132a0770-6bd5-4729-90cd-e5291168effe",
   "metadata": {
    "tags": []
   },
   "source": [
    "# Prerequisites"
   ]
  },
  {
   "cell_type": "markdown",
   "id": "99877e73-bb2f-45c2-bb77-02dd55299850",
   "metadata": {},
   "source": [
    "### 0. Miniconda3 \n",
    "Make sure you have Miniconda installed in your $SCRATCH area.\n",
    "If not, follow the first step of this documentation: [Installing Miniconda](https://docs.linea.org.br/processamento/uso/openondemand.html#criando-kernels-python).\n",
    "\n",
    "### 1. Clone the pz-compute repository \n",
    "Clone the Git repository in your $SCRATCH area. It is highly recommended to use SSH for cloning.\n",
    "> `cd $SCRATCH` \n",
    "\n",
    "> `git clone git@github.com:linea-it/pz-compute.git`\n",
    "or\n",
    "> `git clone https://github.com/linea-it/pz-compute.git`"
   ]
  },
  {
   "cell_type": "markdown",
   "id": "a21807eb-959d-49a8-988f-04918db4a258",
   "metadata": {
    "tags": []
   },
   "source": [
    "# Developer/Revisor Mode "
   ]
  },
  {
   "cell_type": "markdown",
   "id": "d619fdae-39cb-4a8f-85fa-004e086db962",
   "metadata": {},
   "source": [
    "### 0. Copy the file\n",
    "Run the following command to copy the configuration file:\n",
    "> `cp $SCRATCH/pz-compute/scheduler_examples/slurm/setup/dev-config ~/.dev-config`\n",
    "\n",
    "### 1. Add the following block to your ```~/.bashrc``` file\n",
    "Open your ```~/.bashrc``` file and add the following alias:\n",
    "    \n",
    "```shell\n",
    "    alias pz-dev=\". ~/.dev-config\"\n",
    "```\n",
    "\n",
    "### 2. Activate the environment\n",
    "The first time you run this command, it will create the pz-compute-dev environment, install all dependencies, set up pz-compute, and navigate to your $SCRATCH area. \n",
    "\n",
    "> ```pz-dev```\n",
    "\n",
    "Note: Ensure that your .bashrc file is configured to use the Miniconda installation inside the Lustre environment. After this setup, every time you log in, you only need to run the pz-dev command.\n",
    "\n",
    "### 3. Create a kernel for the newly created environment\n",
    "Follow the second, third, and fourth steps in this documentation to create a Jupyter kernel for the pz-compute-dev environment: [Creating a Kernel](https://docs.linea.org.br/processamento/uso/openondemand.html#criando-kernels-python)"
   ]
  },
  {
   "cell_type": "markdown",
   "id": "5b64aa85-1aa4-4eed-8b22-2c0fdd26de81",
   "metadata": {
    "tags": []
   },
   "source": [
    "# Production Mode "
   ]
  },
  {
   "cell_type": "markdown",
   "id": "44730006-be39-4552-83f8-ae645da7bd90",
   "metadata": {},
   "source": [
    "### 0. Copy the file\n",
    "Run the following command to copy the configuration file:\n",
    "\n",
    ">```cp $SCRATCH/pz-compute/scheduler_examples/slurm/setup/prod-config ~/.prod-config ```\n",
    "\n",
    "### 1. Add the following block to your ```~/.bashrc``` file\n",
    "Open your ```~/.bashrc``` file and add the following alias:\n",
    "    \n",
    "```shell\n",
    "alias pz-prod=\". ~/.prod-config\"\n",
    "```\n",
    "\n",
    "### 2. Activate the environment\n",
    "Run the following command to activate the pz-prod environment:\n",
    "\n",
    ">```pz-prod```"
   ]
  },
  {
   "cell_type": "markdown",
   "id": "1430342b-1ae0-47f3-a75c-6fdb781431eb",
   "metadata": {},
   "source": [
    "# Final ```~/.bashrc``` Configuration"
   ]
  },
  {
   "cell_type": "markdown",
   "id": "e2f0332f-9ffb-4dbc-9353-ab480c20597a",
   "metadata": {
    "tags": []
   },
   "source": [
    "By the end of this setup, your .bashrc file should look similar to this:\n",
    "\n",
    " ``` shell\n",
    " # Source global definitions\n",
    " if [ -f /etc/bashrc ]; then\n",
    "        . /etc/bashrc\n",
    " fi\n",
    " # >>> conda initialize >>>\n",
    " # !! Contents within this block are managed by 'conda init' !!\n",
    " __conda_setup=\"$('/lustre/t0/scratch/users/your.user/miniconda3/bin/conda' 'shell.bash' 'hook' 2> /dev/null)\"\n",
    " if [ $? -eq 0 ]; then\n",
    "     eval \"$__conda_setup\"\n",
    " else\n",
    "     if [ -f \"/lustre/t0/scratch/users/your.user/miniconda3/etc/profile.d/conda.sh\" ]; then\n",
    "         . \"/lustre/t0/scratch/users/your.user/miniconda3/etc/profile.d/conda.sh\"\n",
    "     else\n",
    "         export PATH=\"/lustre/t0/scratch/users/your.user/miniconda3/bin:$PATH\"\n",
    "     fi\n",
    "  fi\n",
    " unset __conda_setup\n",
    " # <<< conda initialize <<<\n",
    "\n",
    " alias pz-prod=\". ~/.prod-config\"\n",
    " alias pz-dev=\". ~/.dev-config\"\n",
    "```"
   ]
  },
  {
   "cell_type": "markdown",
   "id": "82aa5f8d-1dc2-45dd-8d1e-19aa83ba0bc2",
   "metadata": {},
   "source": [
    "# Execution"
   ]
  },
  {
   "cell_type": "markdown",
   "id": "c5a176e3-e3c9-40fb-b39f-d26e1b1f8e99",
   "metadata": {},
   "source": [
    "It is good practice to create a separate directory for each pz-run execution. The next step is to run a simple test to verify that all dependencies have been successfully installed."
   ]
  },
  {
   "cell_type": "markdown",
   "id": "5468b580-b111-40fd-9a2f-bfdc2ed91b6c",
   "metadata": {
    "tags": []
   },
   "source": [
    "# Troubleshooting"
   ]
  },
  {
   "cell_type": "markdown",
   "id": "0877930b-0caa-4b00-84fe-0966a6a0a6c3",
   "metadata": {},
   "source": [
    "Sometimes, Python has trouble handling dependency versions. If you encounter any issues at any step, please open a ticket at helpdesk@linea.org.br or create an issue on GitHub for [pz-compute](https://github.com/linea-it/pz-compute/tree/ondemand-notebooks).\n",
    "\n",
    "If you want to try fixing the issue yourself, I recommend starting by opening your terminal and running the following command: \n",
    "\n",
    "> conda list \n",
    "\n",
    "This will list all the packages installed in your Conda environment. Pay attention to the fact that some packages are installed through Python, pip, and Conda.\n",
    "\n",
    "Identify the package version that is causing the issue. I recommend uninstalling and reinstalling it or downgrading/upgrading to a different version to see if it works. Be careful, as sometimes the same package can be installed via both pip and Conda, leading to conflicting versions coexisting.\n",
    "\n",
    "Here are some packages I encountered issues with and the versions I used to fix them:\n",
    "\n",
    "```\n",
    "pip install scipy==1.14.1\n",
    "pip install mpi==1.0\n",
    "pip intall pyarrow==18.1.0  \n",
    "conda install mpi4py==3.1.4 \n",
    "```"
   ]
  }
 ],
 "metadata": {
  "kernelspec": {
   "display_name": "Python 3",
   "language": "python",
   "name": "python3"
  },
  "language_info": {
   "codemirror_mode": {
    "name": "ipython",
    "version": 3
   },
   "file_extension": ".py",
   "mimetype": "text/x-python",
   "name": "python",
   "nbconvert_exporter": "python",
   "pygments_lexer": "ipython3",
   "version": "3.6.8"
  }
 },
 "nbformat": 4,
 "nbformat_minor": 5
}
