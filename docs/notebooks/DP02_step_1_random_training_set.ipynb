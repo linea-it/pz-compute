{
 "cells": [
  {
   "cell_type": "markdown",
   "id": "4a30b592-3b97-42af-a5f5-3d34948abfd5",
   "metadata": {},
   "source": [
    "<img align=\"left\" src = \"images/linea.png\" width=140 style=\"padding: 20px\"> \n",
    "<img align=\"left\" src = \"images/rubin.png\" width=180 style=\"padding: 30px\"> \n",
    "\n",
    "# PZ Compute \n",
    "## Photo-zs for DP0.2 Objects catalog"
   ]
  },
  {
   "cell_type": "markdown",
   "id": "40034b70-4d4b-4f61-a459-5b7f67b9565b",
   "metadata": {
    "execution": {
     "iopub.execute_input": "2024-07-08T19:40:19.924238Z",
     "iopub.status.busy": "2024-07-08T19:40:19.923326Z",
     "iopub.status.idle": "2024-07-08T19:40:19.928637Z",
     "shell.execute_reply": "2024-07-08T19:40:19.927834Z",
     "shell.execute_reply.started": "2024-07-08T19:40:19.924213Z"
    }
   },
   "source": [
    "Contact: [Julia Gschwend](mailto:julia@linea.org.br)\n",
    "\n",
    "Last verified run: **10-Jul-2024**\n",
    "\n",
    "\n",
    "# Step 1a - Make a random training set using RSP TAP Service \n",
    "**Contributors:** Andreia Dourado, Julia Gschwend, Yago Lopes, Bruno Moraes. \n",
    "\n",
    "\n",
    "This section was developed based on the example notebook by Melissa Graham example notebook [simple_pz_training_set.ipynb](https://github.com/rubin-dp0/delegate-contributions-dp02/blob/9a020e68d04884f47d0f358c46af961daa0d8318/photoz/Training_Set_Creation/simple_pz_training_set.ipynb) and [discussion in Rubin Community Forum](https://community.lsst.org/t/adql-question-selecting-a-random-subset-of-objects-in-dp0/8022). \n",
    "\n",
    "It is set up to be executed on the [Rubin Science Platform](https://data.lsst.cloud/) and requires data right to access LSST data. \n"
   ]
  },
  {
   "cell_type": "markdown",
   "id": "d25f5c54-f9d1-47c4-933a-1a6a2a14a286",
   "metadata": {},
   "source": [
    "Import packages and define parameters "
   ]
  },
  {
   "cell_type": "code",
   "execution_count": null,
   "id": "43731085-6afb-4382-a1b2-e008500e721e",
   "metadata": {},
   "outputs": [],
   "source": [
    "import matplotlib.pyplot as plt\n",
    "import numpy as np\n",
    "import pandas as pd\n",
    "import tables_io\n",
    "import random\n",
    "import os\n",
    "import astropy.units as u\n",
    "from astropy.io import fits\n",
    "from astropy.table import Table\n",
    "from astropy.coordinates import SkyCoord\n",
    "from dustmaps.sfd import SFDQuery\n",
    "\n",
    "from lsst.rsp import get_tap_service, retrieve_query\n",
    "%matplotlib inline"
   ]
  },
  {
   "cell_type": "markdown",
   "id": "e3c36b4a-31fc-4e1f-ad70-a079eec1d060",
   "metadata": {},
   "source": [
    "### Random selection \n",
    "\n",
    "**Query `objectId` using TAP service** \n",
    "\n",
    "To select random galaxies from the whole catalog, the strategy adopted is to query only the column `objectId`, perform a random selection on the resulting array using Pandas, then query the training set columns from the database, only for the pre-selected objects. See discussion on the Community Forum [here](https://community.lsst.org/t/adql-question-selecting-a-random-subset-of-objects-in-dp0/8022). \n",
    "\n",
    "To reduce the size of the `objectId` array and avoid selecting useless objects, S/N and blending cuts are applied to this first query:  `i-band $S/N > 5` and `detect_isPrimary = 1`.  \n",
    "\n",
    "```sql \n",
    "SELECT objectId  FROM dp02_dc2_catalogs.Object \n",
    "    WHERE detect_isPrimary=1 \n",
    "    AND scisql_nanojanskyToAbMagSigma(i_cModelFlux, i_cModelFluxErr) < 0.2 \n",
    "```\n",
    "\n",
    "Select a subsample limited to 500k objects as example (one should query the entire object catalog to obtain a real random sample).  "
   ]
  },
  {
   "cell_type": "code",
   "execution_count": null,
   "id": "3da10ef0-1457-47ff-ab62-e37319559d12",
   "metadata": {},
   "outputs": [],
   "source": [
    "service = get_tap_service(\"tap\")\n",
    "query = \"SELECT TOP 500000 objectId FROM dp02_dc2_catalogs.Object WHERE detect_isPrimary=1 AND scisql_nanojanskyToAbMagSigma(i_cModelFlux, i_cModelFluxErr) < 0.2\" "
   ]
  },
  {
   "cell_type": "markdown",
   "id": "223beac4-0e81-478c-8ef6-a533058ea75b",
   "metadata": {},
   "source": [
    "Synchronous query"
   ]
  },
  {
   "cell_type": "code",
   "execution_count": null,
   "id": "526c154c-c919-462b-845b-37d0ad6a9f50",
   "metadata": {},
   "outputs": [],
   "source": [
    "results = service.search(query).to_table().to_pandas()\n",
    "results"
   ]
  },
  {
   "cell_type": "markdown",
   "id": "8ffc44bc-380a-4739-b682-e3b7494581f1",
   "metadata": {
    "execution": {
     "iopub.execute_input": "2024-07-09T00:00:20.588372Z",
     "iopub.status.busy": "2024-07-09T00:00:20.587673Z",
     "iopub.status.idle": "2024-07-09T00:00:20.592555Z",
     "shell.execute_reply": "2024-07-09T00:00:20.591862Z",
     "shell.execute_reply.started": "2024-07-09T00:00:20.588346Z"
    }
   },
   "source": [
    "Asynchronous query"
   ]
  },
  {
   "cell_type": "code",
   "execution_count": null,
   "id": "938c4381-c79b-4007-a3cf-8d4648353b39",
   "metadata": {},
   "outputs": [],
   "source": [
    "#job = service.submit_job(query)\n",
    "#print('Job URL is', job.url)\n",
    "#print('Job phase is', job.phase)"
   ]
  },
  {
   "cell_type": "code",
   "execution_count": null,
   "id": "451ffedd-3dd8-494c-a389-9803694b7dd8",
   "metadata": {
    "tags": []
   },
   "outputs": [],
   "source": [
    "#job.run()"
   ]
  },
  {
   "cell_type": "code",
   "execution_count": null,
   "id": "90349b8b-3050-450c-9cbe-71598ae4727e",
   "metadata": {},
   "outputs": [],
   "source": [
    "#print('Job phase is', job.phase)"
   ]
  },
  {
   "cell_type": "code",
   "execution_count": null,
   "id": "cf502053-fd11-4735-9a35-eb0d2f5d5239",
   "metadata": {},
   "outputs": [],
   "source": [
    "#%%time\n",
    "#job.wait(phases=['COMPLETED', 'ERROR'])\n",
    "#print('Job phase is', job.phase)"
   ]
  },
  {
   "cell_type": "code",
   "execution_count": null,
   "id": "dad259da-f9d3-47d0-95ae-df678d5260d5",
   "metadata": {
    "tags": []
   },
   "outputs": [],
   "source": [
    "#job.raise_if_error()"
   ]
  },
  {
   "cell_type": "code",
   "execution_count": null,
   "id": "264ba345-c08a-44da-a27a-eca3e8eed6e7",
   "metadata": {
    "tags": []
   },
   "outputs": [],
   "source": [
    "#results = job.fetch_result().to_table().to_pandas()"
   ]
  },
  {
   "cell_type": "markdown",
   "id": "af383d6e-d477-4b80-8064-f3ddb48c11d9",
   "metadata": {},
   "source": [
    "Clean up"
   ]
  },
  {
   "cell_type": "code",
   "execution_count": null,
   "id": "71a3c843-aafe-43b7-a6fb-79b125b716dc",
   "metadata": {},
   "outputs": [],
   "source": [
    "#job.delete()"
   ]
  },
  {
   "cell_type": "code",
   "execution_count": null,
   "id": "1f3e62e8-b7ec-428b-b0a0-33151529ebc1",
   "metadata": {
    "tags": []
   },
   "outputs": [],
   "source": [
    "#dp02_size = 278_318_455\n",
    "dp02_size = 500_000\n",
    "assert len(results) == dp02_size"
   ]
  },
  {
   "cell_type": "markdown",
   "id": "a960926c-3c04-4051-a555-1b68715b7d0d",
   "metadata": {},
   "source": [
    "Store `objectId` array in a CSV file "
   ]
  },
  {
   "cell_type": "code",
   "execution_count": null,
   "id": "5dace1a4-c7b6-40a8-a85e-6cb1c966fdda",
   "metadata": {},
   "outputs": [],
   "source": [
    "results.to_csv('objectIds_500k_galaxies_sn_max_5.csv')\n",
    "#async_results.to_csv('objectIds_all_galaxies_sn_max_5.csv')"
   ]
  },
  {
   "cell_type": "markdown",
   "id": "75d4f5fb-5c0b-419c-aa92-7a02307ed0bf",
   "metadata": {},
   "source": [
    "**Select a random fraction of objects with Pandas**"
   ]
  },
  {
   "cell_type": "code",
   "execution_count": null,
   "id": "44f58fd9-97ef-463d-a786-550e11792bef",
   "metadata": {},
   "outputs": [],
   "source": [
    "training_set_size = 100_000 # approximate desired training set size\n",
    "random_fraction = training_set_size/dp02_size \n",
    "print(f\"Training set is a random fraction of: {random_fraction*100:.2f} percent\") "
   ]
  },
  {
   "cell_type": "code",
   "execution_count": null,
   "id": "0981d6d9-efba-4fcd-bbd5-25272902a9c2",
   "metadata": {},
   "outputs": [],
   "source": [
    "rsp_user = 'gschwend' # replace with RSP username \n",
    "#filename = f'/home/{rsp_user}/WORK/pz-compute/docs/notebooks/objectIds_all_galaxies_sn_max_5.csv'\n",
    "filename = f'/home/{rsp_user}/WORK/pz-compute/docs/notebooks/objectIds_500k_galaxies_sn_max_5.csv'\n",
    "random.seed(4321) # choose a seed if you want to reproduce the same random selection later \n",
    "random_ids = pd.read_csv(filename, \n",
    "           skiprows=lambda x: x > 0 and random.random() > random_fraction) "
   ]
  },
  {
   "cell_type": "code",
   "execution_count": null,
   "id": "93650f99-2e47-4982-98e0-e99a4b5e2edf",
   "metadata": {},
   "outputs": [],
   "source": [
    "random_ids"
   ]
  },
  {
   "cell_type": "markdown",
   "id": "fe1a7bbc-b860-45c7-98f3-105128d797ba",
   "metadata": {},
   "source": [
    "### Query training set columns \n",
    "\n",
    "To query the training set columns, i.e., observables and true redshifts, it is necessary to join the list of random `objectId's` previously selected with both `Object` and `TruthSummary` tables. See the complete list of columns present in each table on [DM's DP0 Schema browser page](https://dm.lsst.org/sdm_schemas/browser/dp02.html).  "
   ]
  },
  {
   "cell_type": "markdown",
   "id": "a0b5464b-57d1-45df-b8db-87ef6b336045",
   "metadata": {},
   "source": [
    "To avoid reaching memory limits on RSP, split the data to obtain ~20,000 objects in each query.  "
   ]
  },
  {
   "cell_type": "code",
   "execution_count": null,
   "id": "10f06669-0610-409a-a1d1-d0e01bb2634f",
   "metadata": {},
   "outputs": [],
   "source": [
    "query_limit = 20_000\n",
    "n_times = int(training_set_size/query_limit)\n",
    "print(f\"The query to retrieve the training set columns must be done in {n_times} parts, then the results will be concatenated.\")  "
   ]
  },
  {
   "cell_type": "markdown",
   "id": "75bb05f4-0a96-4a35-b68a-affadeed5878",
   "metadata": {},
   "source": [
    "Prepare the set of files with random selection for each query run"
   ]
  },
  {
   "cell_type": "code",
   "execution_count": null,
   "id": "518abbdd-e305-4743-bbb4-c0f7aa0fcfc3",
   "metadata": {},
   "outputs": [],
   "source": [
    "for i in range(n_times):\n",
    "    start_idx = i * query_limit\n",
    "    end_idx = (i + 1) * query_limit\n",
    "    part_random_ids = random_ids.iloc[start_idx:end_idx]\n",
    "    part_random_ids.to_csv(f'random_objectId_part_{i+1}.csv', index=False)"
   ]
  },
  {
   "cell_type": "markdown",
   "id": "7b2b6602-6412-42c8-99e9-d009c9adc9f1",
   "metadata": {},
   "source": [
    "Execute the queries in sequence (this cell takes ~25 minutes to run). "
   ]
  },
  {
   "cell_type": "code",
   "execution_count": null,
   "id": "bd470f05-f3d3-40b0-95bf-eb2e7e9f6d61",
   "metadata": {},
   "outputs": [],
   "source": [
    "%%time\n",
    "for i in range(n_times):\n",
    "    # Writting the objectIds in the query format\n",
    "    random_ids = pd.read_csv(f'random_objectId_part_{i+1}.csv')['objectId']\n",
    "    ids = np.squeeze(random_ids.values)\n",
    "    str_ids = str(tuple(ids))\n",
    "    \n",
    "    query = '\\n'.join(['SELECT obj.objectId, obj.coord_ra as ra, obj.coord_dec as dec, ts.redshift, ',  \n",
    "                       'scisql_nanojanskyToAbMag(obj.u_cModelFlux) as mag_u, ', \n",
    "                       'scisql_nanojanskyToAbMag(obj.g_cModelFlux) as mag_g, ', \n",
    "                       'scisql_nanojanskyToAbMag(obj.r_cModelFlux) as mag_r, ', \n",
    "                       'scisql_nanojanskyToAbMag(obj.i_cModelFlux) as mag_i, ', \n",
    "                       'scisql_nanojanskyToAbMag(obj.z_cModelFlux) as mag_z, ', \n",
    "                       'scisql_nanojanskyToAbMag(obj.y_cModelFlux) as mag_y, ', \n",
    "                       'scisql_nanojanskyToAbMagSigma(obj.u_calibFlux, obj.u_calibFluxErr) as magerr_u, ', \n",
    "                       'scisql_nanojanskyToAbMagSigma(obj.g_calibFlux, obj.g_calibFluxErr) as magerr_g, ', \n",
    "                       'scisql_nanojanskyToAbMagSigma(obj.r_calibFlux, obj.r_calibFluxErr) as magerr_r, ', \n",
    "                       'scisql_nanojanskyToAbMagSigma(obj.i_calibFlux, obj.i_calibFluxErr) as magerr_i, ', \n",
    "                       'scisql_nanojanskyToAbMagSigma(obj.z_calibFlux, obj.z_calibFluxErr) as magerr_z, ', \n",
    "                       'scisql_nanojanskyToAbMagSigma(obj.y_calibFlux, obj.y_calibFluxErr) as magerr_y ',\n",
    "            'FROM dp02_dc2_catalogs.MatchesTruth AS mt ',\n",
    "            'JOIN dp02_dc2_catalogs.TruthSummary AS ts ',\n",
    "            'ON mt.id_truth_type=ts.id_truth_type ',\n",
    "            'JOIN dp02_dc2_catalogs.Object AS obj ',\n",
    "            'ON mt.match_objectId=obj.objectId ', \n",
    "            'WHERE obj.objectId IN'+str_ids,\n",
    "            'AND ts.truth_type=1 ',\n",
    "            'AND obj.detect_isPrimary=1'])\n",
    "    \n",
    "    results = service.search(query).to_table().to_pandas()\n",
    "    results.to_csv(f\"random_training_set_part_{i+1}.csv\")"
   ]
  },
  {
   "cell_type": "markdown",
   "id": "17723e4b-104b-4201-b2d2-9f5ec521c98b",
   "metadata": {},
   "source": [
    "**Concatenate results and remove partial files**"
   ]
  },
  {
   "cell_type": "code",
   "execution_count": null,
   "id": "676f585a-b047-4e41-80f1-c8d08dddd284",
   "metadata": {},
   "outputs": [],
   "source": [
    "training_set = pd.DataFrame()\n",
    "for i in range(n_times):\n",
    "    df = pd.read_csv(f\"random_training_set_part_{i+1}.csv\")\n",
    "    training_set = pd.concat([training_set, df], axis=0).reset_index(drop=True)\n",
    "    #os.system(f\"rm random_training_set_part_{i+1}.csv\")\n",
    "    #os.system(f\"rm random_objectId_part_{i+1}.csv\")"
   ]
  },
  {
   "cell_type": "markdown",
   "id": "d0c36c15-e295-418f-b01e-70d259f1cebf",
   "metadata": {},
   "source": [
    "Check training set dataframe"
   ]
  },
  {
   "cell_type": "code",
   "execution_count": null,
   "id": "31568be9-b727-43ac-8d88-3f91bfe728a5",
   "metadata": {},
   "outputs": [],
   "source": [
    "training_set.describe()"
   ]
  },
  {
   "cell_type": "markdown",
   "id": "953f966a-486b-4830-8923-85441f5d1583",
   "metadata": {},
   "source": [
    "### Save training set file"
   ]
  },
  {
   "cell_type": "markdown",
   "id": "56372f7d-4963-4112-8a56-8c5af66b380e",
   "metadata": {},
   "source": [
    "**Data cleaning and extinction correction** \n"
   ]
  },
  {
   "cell_type": "markdown",
   "id": "b8ef6fdb-74db-47ff-ba78-1b059ad9b8b4",
   "metadata": {
    "execution": {
     "iopub.execute_input": "2024-07-10T14:25:34.904451Z",
     "iopub.status.busy": "2024-07-10T14:25:34.903653Z",
     "iopub.status.idle": "2024-07-10T14:25:34.909606Z",
     "shell.execute_reply": "2024-07-10T14:25:34.908732Z",
     "shell.execute_reply.started": "2024-07-10T14:25:34.904423Z"
    }
   },
   "source": [
    "Apply extinction correction on the magnitudes\n",
    "\n",
    "See Sam Schmidt's example notebooks[Derive_A_EBV_coefficients.ipynb](https://github.com/LSSTDESC/DC2-analysis/blob/master/contributed/Derive_A_EBV_coefficients.ipynb) and [DC2_object_deredden.ipynb](https://github.com/LSSTDESC/DC2-analysis/blob/master/contributed/DC2_object_deredden.ipynb), and Jeff Carlin's notebook [Milky_Way_halo_density.ipynb](https://github.com/rubin-dp0/delegate-contributions-dp02/blob/main/MWhalo_density/Milky_Way_halo_density.ipynb) on [DP0.2 delegates's contributions repository](https://github.com/rubin-dp0/delegate-contributions-dp02) for reference. "
   ]
  },
  {
   "cell_type": "code",
   "execution_count": null,
   "id": "a94a7522-6163-4718-b95f-9a0ac49955a9",
   "metadata": {
    "tags": []
   },
   "outputs": [],
   "source": [
    "# A_lamba/E(B-V) values for LSST filters \n",
    "band_a_ebv = np.array([4.81,3.64,2.70,2.06,1.58,1.31])"
   ]
  },
  {
   "cell_type": "code",
   "execution_count": null,
   "id": "2cf446eb-7235-47ff-9ca3-2dd121a7668d",
   "metadata": {
    "tags": []
   },
   "outputs": [],
   "source": [
    "# dustmaps expects coordinates in Astropy \"SkyCoord\" format \n",
    "coords = c = SkyCoord(training_set['ra'], training_set['dec'], unit = 'deg',frame='icrs')"
   ]
  },
  {
   "cell_type": "code",
   "execution_count": null,
   "id": "c4c2ad32-1b5d-4c15-a7e8-d7da993c13d5",
   "metadata": {},
   "outputs": [],
   "source": [
    "sfd = SFDQuery()\n",
    "ebv = sfd(coords)\n",
    "#training.add_column(ebvvec, name='ebv')"
   ]
  },
  {
   "cell_type": "code",
   "execution_count": null,
   "id": "aba8b9b3-8353-4a83-9124-0e3044a62f84",
   "metadata": {},
   "outputs": [],
   "source": [
    "ebv"
   ]
  },
  {
   "cell_type": "code",
   "execution_count": null,
   "id": "309657a7-351d-40bb-a2e8-42f8d71c078c",
   "metadata": {},
   "outputs": [],
   "source": [
    "training_set['mag_u'] = training_set['mag_u'] - ebv*band_a_ebv[0]\n",
    "training_set['mag_g'] = training_set['mag_g'] - ebv*band_a_ebv[1]\n",
    "training_set['mag_r'] = training_set['mag_r'] - ebv*band_a_ebv[2]\n",
    "training_set['mag_i'] = training_set['mag_i'] - ebv*band_a_ebv[3]\n",
    "training_set['mag_z'] = training_set['mag_z'] - ebv*band_a_ebv[4]\n",
    "training_set['mag_y'] = training_set['mag_y'] - ebv*band_a_ebv[4]"
   ]
  },
  {
   "cell_type": "code",
   "execution_count": null,
   "id": "ab702800-3c4d-4256-8688-1d04ab69a620",
   "metadata": {},
   "outputs": [],
   "source": [
    "ug0 = training_set['mag_u'] - training_set['mag_g']\n",
    "gr0 = training_set['mag_g'] - training_set['mag_r']\n",
    "ri0 = training_set['mag_r'] - training_set['mag_i']\n",
    "iz0 = training_set['mag_i'] - training_set['mag_z']"
   ]
  },
  {
   "cell_type": "code",
   "execution_count": null,
   "id": "7473f80d-a478-4112-b203-f2b1f46e37f4",
   "metadata": {},
   "outputs": [],
   "source": [
    "plt.figure(figsize=(12,6))\n",
    "plt.subplot(2,3,1)\n",
    "plt.hist(training_set['mag_u'], bins=50)\n",
    "plt.subplot(2,3,2)\n",
    "plt.hist(training_set['mag_g'], bins=50)\n",
    "plt.subplot(2,3,3)\n",
    "plt.hist(training_set['mag_r'], bins=50)\n",
    "plt.subplot(2,3,4)\n",
    "plt.hist(training_set['mag_i'], bins=50)\n",
    "plt.subplot(2,3,5)\n",
    "plt.hist(training_set['mag_z'], bins=50)\n",
    "plt.subplot(2,3,6)\n",
    "plt.hist(training_set['mag_y'], bins=50)\n",
    "plt.subplots_adjust()"
   ]
  },
  {
   "cell_type": "code",
   "execution_count": null,
   "id": "52732c55-76b7-4ada-8748-09088b9fc927",
   "metadata": {},
   "outputs": [],
   "source": [
    "plt.scatter(training_set.z, training_set.mag_i, s=10)\n",
    "plt.xlabel(\"true redshift\",fontsize=14)\n",
    "plt.ylabel(\"mag i\",fontsize=14)"
   ]
  },
  {
   "cell_type": "code",
   "execution_count": null,
   "id": "21e9125f-a805-4cd4-b50f-26285ed142e2",
   "metadata": {},
   "outputs": [],
   "source": [
    "plt.figure(figsize=(12,3))\n",
    "plt.subplot(1,3,1)\n",
    "plt.scatter(training_set.mag_g, ug0, s=10)\n",
    "plt.xlabel(\"g\",fontsize=14)\n",
    "plt.ylabel(\"u-g\",fontsize=14)\n",
    "plt.subplot(1,3,2)\n",
    "plt.scatter(training_set.mag_r, gr0, s=10)\n",
    "plt.xlabel(\"r\",fontsize=14)\n",
    "plt.ylabel(\"g-r\",fontsize=14)\n",
    "plt.subplot(1,3,3)\n",
    "plt.scatter(training_set.mag_i,ri0,s=10)\n",
    "plt.xlabel(\"i\",fontsize=14)\n",
    "plt.ylabel(\"r-i\",fontsize=14)\n",
    "plt.subplots_adjust()"
   ]
  },
  {
   "cell_type": "code",
   "execution_count": null,
   "id": "4093c9d8-12d0-49f3-a8e4-a8db1081520a",
   "metadata": {},
   "outputs": [],
   "source": [
    "plt.figure(figsize=(12,3))\n",
    "plt.subplot(1,3,1)\n",
    "plt.scatter(ug0,gr0,s=10)\n",
    "plt.xlabel(\"u-g\",fontsize=14)\n",
    "plt.ylabel(\"g-r\",fontsize=14)\n",
    "plt.subplot(1,3,2)\n",
    "plt.scatter(gr0,ri0,s=10)\n",
    "plt.xlabel(\"g-r\",fontsize=14)\n",
    "plt.ylabel(\"r-i\",fontsize=14)\n",
    "plt.subplot(1,3,3)\n",
    "plt.scatter(ri0,iz0,s=10)\n",
    "plt.xlabel(\"r-i\",fontsize=14)\n",
    "plt.ylabel(\"i-z\",fontsize=14)\n",
    "plt.subplots_adjust()"
   ]
  },
  {
   "cell_type": "code",
   "execution_count": null,
   "id": "ee63968b-3429-4019-867c-5cc38cf8351e",
   "metadata": {},
   "outputs": [],
   "source": []
  },
  {
   "cell_type": "markdown",
   "id": "8288458f-d6bc-4d81-bc9c-f454e355b332",
   "metadata": {},
   "source": [
    "Remove magnitude and color extreme outliers "
   ]
  },
  {
   "cell_type": "code",
   "execution_count": null,
   "id": "c27e8e59-7081-4ab2-8cac-92c135b95ad8",
   "metadata": {},
   "outputs": [],
   "source": [
    "training_set.query('(mag_g - mag_r) < 8 & (mag_r - mag_i) < 6', inplace=True) "
   ]
  },
  {
   "cell_type": "markdown",
   "id": "104449c8-4dad-4de5-89d0-abb8c8c8e039",
   "metadata": {},
   "source": [
    "Save training set in various file formats "
   ]
  },
  {
   "cell_type": "code",
   "execution_count": null,
   "id": "a8a0b8ec-b7b3-49e4-89a4-6152066e680e",
   "metadata": {},
   "outputs": [],
   "source": [
    "training_set.to_csv('dp02_random_training_set.csv') \n",
    "training_set.to_hdf('dp02_random_training_set.hdf5', key='photometry') \n",
    "training_set.to_parquet('dp02_random_training_set.pq') "
   ]
  },
  {
   "cell_type": "code",
   "execution_count": null,
   "id": "493a65d6-6c88-44c4-a93c-e10b61e1e53c",
   "metadata": {},
   "outputs": [],
   "source": []
  },
  {
   "cell_type": "markdown",
   "id": "c471b309-5692-440d-80fa-7b87e653327d",
   "metadata": {},
   "source": [
    "### Final sample characterization \n"
   ]
  },
  {
   "cell_type": "code",
   "execution_count": null,
   "id": "5d13588f-d417-4150-bf05-fa63eff900fd",
   "metadata": {},
   "outputs": [],
   "source": [
    "training_set = tables_io.read('dp02_random_training_set.pq')\n",
    "training_set"
   ]
  },
  {
   "cell_type": "markdown",
   "id": "45d3764f-a1a3-4947-a168-e81a4bc65e8c",
   "metadata": {
    "execution": {
     "iopub.execute_input": "2024-05-16T18:12:21.131897Z",
     "iopub.status.busy": "2024-05-16T18:12:21.131074Z",
     "iopub.status.idle": "2024-05-16T18:12:21.136304Z",
     "shell.execute_reply": "2024-05-16T18:12:21.135513Z",
     "shell.execute_reply.started": "2024-05-16T18:12:21.131870Z"
    }
   },
   "source": [
    "On-sky spatial distribuition"
   ]
  },
  {
   "cell_type": "code",
   "execution_count": null,
   "id": "812af995-2408-4b81-972e-5c74f6262f87",
   "metadata": {},
   "outputs": [],
   "source": [
    "plt.scatter(training_set['ra'],training_set['dec'],s=1)\n",
    "plt.colorbar()"
   ]
  },
  {
   "cell_type": "markdown",
   "id": "a4d4634e-d777-490f-83e4-bbd13749c744",
   "metadata": {
    "execution": {
     "iopub.execute_input": "2024-07-08T19:40:19.924238Z",
     "iopub.status.busy": "2024-07-08T19:40:19.923326Z",
     "iopub.status.idle": "2024-07-08T19:40:19.928637Z",
     "shell.execute_reply": "2024-07-08T19:40:19.927834Z",
     "shell.execute_reply.started": "2024-07-08T19:40:19.924213Z"
    }
   },
   "source": [
    "# Step 1b - Make a random training set using IDAC-BR file system   \n",
    "**Contributors:** Julia Gschwend, Luigi Silva, Heloisa Mengisztki, Cristiano Singulani.  \n",
    "\n",
    "\n",
    "This section aims to reproduce the same procedure as section 1a, but retrieving data from the DP0.2 object catalog stored in parquet files on the Brazilian IDAC file system. \n",
    "\n",
    "It is set up to be executed on LIneA's JuputerHub or OnDemand services, and also requires data right to access LSST data. "
   ]
  },
  {
   "cell_type": "code",
   "execution_count": null,
   "id": "b3236d96-ecef-4701-b885-81420d4cc2b7",
   "metadata": {},
   "outputs": [],
   "source": []
  }
 ],
 "metadata": {
  "kernelspec": {
   "display_name": "LSST",
   "language": "python",
   "name": "lsst"
  },
  "language_info": {
   "codemirror_mode": {
    "name": "ipython",
    "version": 3
   },
   "file_extension": ".py",
   "mimetype": "text/x-python",
   "name": "python",
   "nbconvert_exporter": "python",
   "pygments_lexer": "ipython3",
   "version": "3.11.7"
  }
 },
 "nbformat": 4,
 "nbformat_minor": 5
}
