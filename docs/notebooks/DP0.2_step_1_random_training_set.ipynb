{
 "cells": [
  {
   "cell_type": "markdown",
   "id": "40034b70-4d4b-4f61-a459-5b7f67b9565b",
   "metadata": {
    "execution": {
     "iopub.execute_input": "2024-07-08T19:40:19.924238Z",
     "iopub.status.busy": "2024-07-08T19:40:19.923326Z",
     "iopub.status.idle": "2024-07-08T19:40:19.928637Z",
     "shell.execute_reply": "2024-07-08T19:40:19.927834Z",
     "shell.execute_reply.started": "2024-07-08T19:40:19.924213Z"
    }
   },
   "source": [
    "TO DO: header\n",
    "\n",
    "Authors: Andreia Dourado, Julia Gschwend, Bruno Moraes\n",
    "\n",
    "Notebook adapted from Melissa Graham example notebook \\<details later\\> and [discussion in Rubin Community Forum](https://community.lsst.org/t/adql-question-selecting-a-random-subset-of-objects-in-dp0/8022). \n",
    "\n",
    "rename notebook dp0.2 to dp02\n",
    "\n",
    "This notebook is set up to be executed on the [Rubin Science Platform](https://data.lsst.cloud/)\n"
   ]
  },
  {
   "cell_type": "markdown",
   "id": "d25f5c54-f9d1-47c4-933a-1a6a2a14a286",
   "metadata": {},
   "source": [
    "#### Importing packages"
   ]
  },
  {
   "cell_type": "code",
   "execution_count": null,
   "id": "43731085-6afb-4382-a1b2-e008500e721e",
   "metadata": {},
   "outputs": [],
   "source": [
    "import matplotlib.pyplot as plt\n",
    "import numpy as np\n",
    "import pandas as pd\n",
    "import random\n",
    "from lsst.rsp import get_tap_service, retrieve_query"
   ]
  },
  {
   "cell_type": "code",
   "execution_count": null,
   "id": "331b6c9b-357e-4dc2-943f-b761b83a58e2",
   "metadata": {},
   "outputs": [],
   "source": [
    "pd.set_option('display.max_rows', 20)\n",
    "%matplotlib inline\n",
    "service = get_tap_service(\"tap\")"
   ]
  },
  {
   "cell_type": "markdown",
   "id": "e3c36b4a-31fc-4e1f-ad70-a079eec1d060",
   "metadata": {},
   "source": [
    "### Query \n",
    "\n",
    "https://dm.lsst.org/sdm_schemas/browser/dp02.html "
   ]
  },
  {
   "cell_type": "code",
   "execution_count": null,
   "id": "afb57517-027b-456f-83a9-fd18f5660984",
   "metadata": {},
   "outputs": [],
   "source": [
    "pd.set_option('display.max_rows', 20)\n",
    "%matplotlib inline\n",
    "service = get_tap_service('tap')"
   ]
  },
  {
   "cell_type": "code",
   "execution_count": null,
   "id": "33379749-5ffd-4329-a896-de1c0ce37a4f",
   "metadata": {},
   "outputs": [],
   "source": [
    "#query = ' '.join(['SELECT obj.objectId ', \n",
    "        #', ts.ra, ts.dec, ',\n",
    "        #'i_cModelFlux, i_cModelFluxErr, scisql_nanojanskyToAbMag(i_cModelFlux) as mag_i, ',  \n",
    "        #'scisql_nanojanskyToAbMagSigma(i_cModelFlux, i_cModelFluxErr) as magerr_i ',  \n",
    "        #'FROM dp02_dc2_catalogs.MatchesTruth AS mt ',\n",
    "        #'JOIN dp02_dc2_catalogs.TruthSummary AS ts ',\n",
    "        #'ON mt.id_truth_type=ts.id_truth_type ',\n",
    "        #'JOIN dp02_dc2_catalogs.Object AS obj ',\n",
    "        #'ON mt.match_objectId=obj.objectId ', \n",
    "        #'WHERE obj.detect_isPrimary=1 AND scisql_nanojanskyToAbMagSigma(i_cModelFlux, i_cModelFluxErr) < 0.2',\n",
    "        #'AND ts.truth_type=1 ',\n",
    "        #'AND obj.detect_isPrimary=1'])"
   ]
  },
  {
   "cell_type": "code",
   "execution_count": null,
   "id": "70ab2234-346e-4896-98b4-6b8ab53d162f",
   "metadata": {},
   "outputs": [],
   "source": [
    "esta query leva x tempo"
   ]
  },
  {
   "cell_type": "code",
   "execution_count": null,
   "id": "ac9fe505-83cd-41c3-9560-248173ba0567",
   "metadata": {},
   "outputs": [],
   "source": [
    "%%time\n",
    "query = \"SELECT objectId  FROM dp02_dc2_catalogs.Object WHERE detect_isPrimary=1 AND scisql_nanojanskyToAbMagSigma(i_cModelFlux, i_cModelFluxErr) < 0.2\"\n",
    "results = service.search(query)\n",
    "df = service.search(query).to_table().to_pandas()\n",
    "#df"
   ]
  },
  {
   "cell_type": "markdown",
   "id": "4e21871f-1e21-430f-afc8-6ecb459d9956",
   "metadata": {},
   "source": [
    "Save the result to a file for general use later:\n"
   ]
  },
  {
   "cell_type": "code",
   "execution_count": null,
   "id": "54d59b64-e063-45da-866e-8ae8ebfc6fb6",
   "metadata": {},
   "outputs": [],
   "source": [
    "df.to_csv('objectIds_all_galaxies_sn_max_5.csv')\n"
   ]
  },
  {
   "cell_type": "code",
   "execution_count": null,
   "id": "15817a9c-17ef-431d-93ab-e0133c48a661",
   "metadata": {},
   "outputs": [],
   "source": [
    "%%time\n",
    "query = \"SELECT objectId, scisql_nanojanskyToAbMagSigma(i_cModelFlux, i_cModelFluxErr) as magerr, detect_isPrimary FROM dp02_dc2_catalogs.Object limit 5\"\n",
    "results = service.search(query)\n",
    "df = service.search(query).to_table().to_pandas()"
   ]
  },
  {
   "cell_type": "code",
   "execution_count": null,
   "id": "4c7349cb-97b9-4bfd-a1f3-8a266d934b48",
   "metadata": {},
   "outputs": [],
   "source": [
    "%%time\n",
    "query = \"SELECT objectId, scisql_nanojanskyToAbMagSigma(i_cModelFlux, i_cModelFluxErr) as magerr  FROM dp02_dc2_catalogs.Object WHERE detect_isPrimary=1\"\n",
    "results = service.search(query)\n",
    "df = service.search(query).to_table().to_pandas()"
   ]
  },
  {
   "cell_type": "code",
   "execution_count": null,
   "id": "2f005367-1ef6-4330-916b-79bc097d05d0",
   "metadata": {},
   "outputs": [],
   "source": [
    "#df"
   ]
  },
  {
   "cell_type": "markdown",
   "id": "8cd8013e-d293-4d3a-9a6a-8f1db98be82c",
   "metadata": {},
   "source": [
    "Save the result to a file for general use later:\n"
   ]
  },
  {
   "cell_type": "code",
   "execution_count": null,
   "id": "2ac0717a-55ab-422a-ab3d-75f8d52a0031",
   "metadata": {},
   "outputs": [],
   "source": [
    "df.to_csv('objectIds_all_galaxies.csv')\n"
   ]
  },
  {
   "cell_type": "markdown",
   "id": "abcbac4f-ea11-4a15-9d82-66eb2d8742a4",
   "metadata": {},
   "source": [
    "select $S/N > 5$"
   ]
  },
  {
   "cell_type": "code",
   "execution_count": null,
   "id": "b749dcd4-03bf-45b8-94ad-3c8ee3102960",
   "metadata": {},
   "outputs": [],
   "source": []
  },
  {
   "cell_type": "code",
   "execution_count": null,
   "id": "2dfdc46d-42d1-4234-966b-5104e989ea9f",
   "metadata": {},
   "outputs": [],
   "source": []
  },
  {
   "cell_type": "code",
   "execution_count": null,
   "id": "a7440f26-5fc5-4719-bb88-f5c6014bf2ec",
   "metadata": {},
   "outputs": [],
   "source": [
    "# %%time\n",
    "# query = '\\n'.join(['SELECT mt.id_truth_type, mt.match_objectId, obj.objectId, ts.ra, ts.dec, ts.redshift,scisql_nanojanskyToAbMag(obj.u_cModelFlux) as mag_u, scisql_nanojanskyToAbMag(obj.g_cModelFlux) as mag_g, scisql_nanojanskyToAbMag(obj.r_cModelFlux) as mag_r, scisql_nanojanskyToAbMag(obj.i_cModelFlux) as mag_i, scisql_nanojanskyToAbMag(obj.z_cModelFlux) as mag_z,scisql_nanojanskyToAbMag(obj.y_cModelFlux) as mag_y, scisql_nanojanskyToAbMagSigma(u_calibFlux, u_calibFluxErr) as magerr_u, scisql_nanojanskyToAbMagSigma(g_calibFlux, g_calibFluxErr) as magerr_g, scisql_nanojanskyToAbMagSigma(r_calibFlux, r_calibFluxErr) as magerr_r, scisql_nanojanskyToAbMagSigma(i_calibFlux, i_calibFluxErr) as magerr_i, scisql_nanojanskyToAbMagSigma(z_calibFlux, z_calibFluxErr) as magerr_z, scisql_nanojanskyToAbMagSigma(y_calibFlux, y_calibFluxErr) as magerr_y ',\n",
    "#         'FROM dp02_dc2_catalogs.MatchesTruth AS mt ',\n",
    "#         'JOIN dp02_dc2_catalogs.TruthSummary AS ts ',\n",
    "#         'ON mt.id_truth_type=ts.id_truth_type ',\n",
    "#         'JOIN dp02_dc2_catalogs.Object AS obj ',\n",
    "#         'ON mt.match_objectId=obj.objectId ', \n",
    "#         'WHERE obj.objectId IN'+obj_ids,\n",
    "#         'AND ts.truth_type=1 ',\n",
    "#         'AND obj.detect_isPrimary=1'])\n"
   ]
  },
  {
   "cell_type": "markdown",
   "id": "75d4f5fb-5c0b-419c-aa92-7a02307ed0bf",
   "metadata": {},
   "source": [
    "##### 2.1 Selecting a random objectIds fraction"
   ]
  },
  {
   "cell_type": "code",
   "execution_count": null,
   "id": "e140f22a-3971-470f-b88d-f46189039b6c",
   "metadata": {},
   "outputs": [],
   "source": [
    "rsp_user = 'gschwend'\n",
    "#replace \n",
    "filename = f'/scratch/{rsp_user}/WORK/pz-compute/objectIds_all_galaxies_sn_max_5.csv'\n",
    "random.seed(4321)\n",
    "random_ids = pd.read_csv(filename, \n",
    "           skiprows=lambda x: x > 0 and random.random() >=0.006) "
   ]
  },
  {
   "cell_type": "code",
   "execution_count": null,
   "id": "e0f72580-55cb-482b-9131-432a90e457e5",
   "metadata": {},
   "outputs": [],
   "source": [
    "len(random_ids)"
   ]
  },
  {
   "cell_type": "code",
   "execution_count": null,
   "id": "a639ac09-13d1-49b4-aecc-ba48b8d800ec",
   "metadata": {},
   "outputs": [],
   "source": [
    "random_ids.to_csv('random_ids1.csv')"
   ]
  },
  {
   "cell_type": "markdown",
   "id": "f2eb431b-7fff-42ec-9042-e683faa71b1c",
   "metadata": {},
   "source": [
    "Due to a limit of data that can be obtained on RSP, it was possible to obtain 50000 objects in each query. The following steps were repeated until to obtain all data. "
   ]
  },
  {
   "cell_type": "markdown",
   "id": "9c08a5ba-dacc-4748-9caa-6efb285a0043",
   "metadata": {},
   "source": [
    "#### 2.2 Writting the objectIds in the query format"
   ]
  },
  {
   "cell_type": "code",
   "execution_count": null,
   "id": "bd470f05-f3d3-40b0-95bf-eb2e7e9f6d61",
   "metadata": {},
   "outputs": [],
   "source": [
    "ids = np.squeeze((random_ids.values)[50000:100000])\n",
    "len(ids)"
   ]
  },
  {
   "cell_type": "code",
   "execution_count": null,
   "id": "533b9e51-d3b0-42a9-bb26-d49ba549d4f3",
   "metadata": {},
   "outputs": [],
   "source": [
    "obj_ids = str(tuple(ids))"
   ]
  },
  {
   "cell_type": "markdown",
   "id": "fe1a7bbc-b860-45c7-98f3-105128d797ba",
   "metadata": {},
   "source": [
    "#### 2.3 JOIN Object table and TruthSummary table"
   ]
  },
  {
   "cell_type": "code",
   "execution_count": null,
   "id": "31a04972-39fa-47b7-be7c-2000b651c661",
   "metadata": {},
   "outputs": [],
   "source": [
    "%%time\n",
    "query = '\\n'.join(['SELECT mt.id_truth_type, mt.match_objectId, obj.objectId, ts.ra, ts.dec, ts.redshift,scisql_nanojanskyToAbMag(obj.u_cModelFlux) as mag_u, scisql_nanojanskyToAbMag(obj.g_cModelFlux) as mag_g, scisql_nanojanskyToAbMag(obj.r_cModelFlux) as mag_r, scisql_nanojanskyToAbMag(obj.i_cModelFlux) as mag_i, scisql_nanojanskyToAbMag(obj.z_cModelFlux) as mag_z,scisql_nanojanskyToAbMag(obj.y_cModelFlux) as mag_y, scisql_nanojanskyToAbMagSigma(u_calibFlux, u_calibFluxErr) as magerr_u, scisql_nanojanskyToAbMagSigma(g_calibFlux, g_calibFluxErr) as magerr_g, scisql_nanojanskyToAbMagSigma(r_calibFlux, r_calibFluxErr) as magerr_r, scisql_nanojanskyToAbMagSigma(i_calibFlux, i_calibFluxErr) as magerr_i, scisql_nanojanskyToAbMagSigma(z_calibFlux, z_calibFluxErr) as magerr_z, scisql_nanojanskyToAbMagSigma(y_calibFlux, y_calibFluxErr) as magerr_y ',\n",
    "        'FROM dp02_dc2_catalogs.MatchesTruth AS mt ',\n",
    "        'JOIN dp02_dc2_catalogs.TruthSummary AS ts ',\n",
    "        'ON mt.id_truth_type=ts.id_truth_type ',\n",
    "        'JOIN dp02_dc2_catalogs.Object AS obj ',\n",
    "        'ON mt.match_objectId=obj.objectId ', \n",
    "        'WHERE obj.objectId IN'+obj_ids,\n",
    "        'AND ts.truth_type=1 ',\n",
    "        'AND obj.detect_isPrimary=1'])\n",
    "\n",
    "#print(query)\n",
    "#print(' ')\n",
    "#results = service.search(query).to_table().to_pandas()#converte para tabela astropy e depois pra pandas dataframe\n",
    "#print('len(results) = ', len(results))"
   ]
  },
  {
   "cell_type": "markdown",
   "id": "d17e895c-46d7-49b4-bc93-3002e3d6f298",
   "metadata": {},
   "source": [
    "Due to a time limit imposed on synchronous query, it was suggested the following asynchronous query:"
   ]
  },
  {
   "cell_type": "code",
   "execution_count": null,
   "id": "36aa22ff-5308-46c1-b76c-edcf324b6ed2",
   "metadata": {},
   "outputs": [],
   "source": [
    "job = service.submit_job(query)\n",
    "print('Job URL is', job.url)\n",
    "print('Job phase is', job.phase)"
   ]
  },
  {
   "cell_type": "markdown",
   "id": "74380894-0fe6-4f50-bb1a-204eb2459bb6",
   "metadata": {},
   "source": [
    "This run take about 20 minutes."
   ]
  },
  {
   "cell_type": "code",
   "execution_count": null,
   "id": "38b55897-3e98-42c9-96f8-010baf58eac1",
   "metadata": {},
   "outputs": [],
   "source": [
    "%%time\n",
    "job.run()"
   ]
  },
  {
   "cell_type": "code",
   "execution_count": null,
   "id": "aec11b6f-44cd-4d51-9969-7489367270f0",
   "metadata": {},
   "outputs": [],
   "source": [
    "print('Job phase is now ', job.phase) "
   ]
  },
  {
   "cell_type": "code",
   "execution_count": null,
   "id": "c1bd3e32-13da-450b-af1c-aac978bbad7a",
   "metadata": {},
   "outputs": [],
   "source": [
    "print(job.url)\n",
    "retrieved_job = retrieve_query(job.url)\n",
    "retrieved_results = retrieved_job.fetch_result().to_table().to_pandas()"
   ]
  },
  {
   "cell_type": "code",
   "execution_count": null,
   "id": "412377a0-6290-4a80-8fb8-1238cbb74335",
   "metadata": {},
   "outputs": [],
   "source": [
    "len(retrieved_results)"
   ]
  },
  {
   "cell_type": "code",
   "execution_count": null,
   "id": "b537adfa-d205-4877-b0e6-e5001852b60a",
   "metadata": {},
   "outputs": [],
   "source": [
    "async_results.to_csv(\"random_data_1.csv\")"
   ]
  },
  {
   "cell_type": "markdown",
   "id": "45d3764f-a1a3-4947-a168-e81a4bc65e8c",
   "metadata": {
    "execution": {
     "iopub.execute_input": "2024-05-16T18:12:21.131897Z",
     "iopub.status.busy": "2024-05-16T18:12:21.131074Z",
     "iopub.status.idle": "2024-05-16T18:12:21.136304Z",
     "shell.execute_reply": "2024-05-16T18:12:21.135513Z",
     "shell.execute_reply.started": "2024-05-16T18:12:21.131870Z"
    }
   },
   "source": [
    "On-sky spatial distribuition"
   ]
  },
  {
   "cell_type": "code",
   "execution_count": null,
   "id": "14fdeb8b-5336-4e1f-9800-34a8f80eaa4d",
   "metadata": {},
   "outputs": [],
   "source": [
    "plt.scatter(async_results['ra'],async_results['dec'], c=async_results['redshift'],cmap='turbo',s=1)\n",
    "plt.colorbar()"
   ]
  },
  {
   "cell_type": "markdown",
   "id": "c471b309-5692-440d-80fa-7b87e653327d",
   "metadata": {},
   "source": [
    "#### 4. Final sample"
   ]
  },
  {
   "cell_type": "markdown",
   "id": "11b96c69-76c9-4216-97f9-5eb35f728f1a",
   "metadata": {},
   "source": [
    "Join all query results in only data frame:"
   ]
  },
  {
   "cell_type": "code",
   "execution_count": null,
   "id": "6d0e4a3d-82d0-4256-a846-24a2e3119e3a",
   "metadata": {},
   "outputs": [],
   "source": [
    "num = #quantidade de queries rodadas + 1 \n",
    "filenames = [\"DadosRandom\" + str(i) + \".csv\" for i in range(1, num)] "
   ]
  },
  {
   "cell_type": "code",
   "execution_count": null,
   "id": "0f62f802-400c-442f-af7a-82a457946030",
   "metadata": {},
   "outputs": [],
   "source": [
    "data = pd.DataFrame()\n",
    "for filename in filenames:\n",
    "    df = pd.read_csv(filename)\n",
    "    pd.concat([data, df])"
   ]
  },
  {
   "cell_type": "code",
   "execution_count": null,
   "id": "3a29b727-4d6a-4d48-a4d7-9d9a78929024",
   "metadata": {},
   "outputs": [],
   "source": [
    "data_specz=data[['objectId','ra','dec','redshift']]"
   ]
  },
  {
   "cell_type": "markdown",
   "id": "063f6886-71ec-4135-bd2f-abde033fa22c",
   "metadata": {},
   "source": [
    "On-sky spatial distribuition"
   ]
  },
  {
   "cell_type": "code",
   "execution_count": null,
   "id": "c213f717-6990-492f-895a-6720b90a882f",
   "metadata": {},
   "outputs": [],
   "source": [
    "plt.scatter(data_specz['ra'],data_specz['dec'], c=data_specz['redshift'],cmap='turbo',s=1)\n",
    "plt.colorbar()"
   ]
  },
  {
   "cell_type": "code",
   "execution_count": null,
   "id": "cffba70f-da08-456f-8f2c-33e24fd97fed",
   "metadata": {},
   "outputs": [],
   "source": [
    "data_specz.to_csv(\"specz_data.csv\")"
   ]
  },
  {
   "cell_type": "code",
   "execution_count": null,
   "id": "afeec6d8-fc66-48c7-9c3c-08629616fc1a",
   "metadata": {},
   "outputs": [],
   "source": [
    "data.to_csv('random_data.csv') "
   ]
  }
 ],
 "metadata": {
  "kernelspec": {
   "display_name": "LSST",
   "language": "python",
   "name": "lsst"
  },
  "language_info": {
   "codemirror_mode": {
    "name": "ipython",
    "version": 3
   },
   "file_extension": ".py",
   "mimetype": "text/x-python",
   "name": "python",
   "nbconvert_exporter": "python",
   "pygments_lexer": "ipython3",
   "version": "3.11.7"
  }
 },
 "nbformat": 4,
 "nbformat_minor": 5
}
