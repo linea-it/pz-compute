{
 "cells": [
  {
   "cell_type": "markdown",
   "id": "95c39e9a-a601-40d5-b77e-dff606ca8571",
   "metadata": {},
   "source": [
    "<img align='left' src = '../images/linea.png' width=150 style='padding: 20px'> \n",
    "\n",
    "# DP02 duplicates analysis\n",
    "## Part 5 - Conclusions \n",
    "\n",
    "Analysis of duplicates found in the DP02 catalog.\n",
    "\n",
    "<br> \n",
    "<br>"
   ]
  },
  {
   "cell_type": "markdown",
   "id": "a6939f3b-1a2b-4c83-8304-7fb8b4979b58",
   "metadata": {},
   "source": [
    "Contact: Luigi Silva ([luigi.lcsilva@linea.org.br](mailto:luigi.lcsilva@linea.org.br))"
   ]
  },
  {
   "cell_type": "markdown",
   "id": "6d9dd449-c148-4cf8-bce6-b6ffc058a1d8",
   "metadata": {},
   "source": [
    "Last check: October 10, 2024."
   ]
  },
  {
   "cell_type": "markdown",
   "id": "39a50fcb-36ef-4d8f-88a2-ff03d1e1c27e",
   "metadata": {},
   "source": [
    "#### Acknowledgments\n",
    "\n",
    "'_This notebook used computational resources from the Associação Laboratório Interinstitucional de e-Astronomia (LIneA) with financial support from the INCT of e-Universe (Process No. 465376/2014-2)._'\n",
    "\n",
    "'_This notebook uses libraries from the LSST Interdisciplinary Network for Collaboration and Computing (LINCC) Frameworks project, such as the hipscat, hipscat_import, and lsdb libraries. The LINCC Frameworks project is supported by Schmidt Sciences. It is also based on work supported by the National Science Foundation under Grant No. AST-2003196. Additionally, it receives support from the DIRAC Institute at the Department of Astronomy of the University of Washington. The DIRAC Institute is supported by gifts from the Charles and Lisa Simonyi Fund for Arts and Sciences and the Washington Research Foundation._'"
   ]
  },
  {
   "cell_type": "markdown",
   "id": "a9bcc007-af10-4ad4-9958-afd65d929e8b",
   "metadata": {},
   "source": [
    "# Conclusions"
   ]
  },
  {
   "cell_type": "markdown",
   "id": "b4720dcd-b8d5-40ec-b8cb-d521deebbfb7",
   "metadata": {},
   "source": [
    "After the analysis, we can conclude that the duplicates are not actual physical issues, such as real duplicated sources. Instead, the apparent duplication of the sources is a result of the survey's approach to preserving as much information as possible in the table. For example, we have data from:\n",
    "\n",
    "* Both the parent and child sources, due to deblending;\n",
    "* Multiple observations of the same object in different patches, in the overlap area;\n",
    "* Multiple observations of the same object in different tracts, in the overlap area;\n",
    "* Additionally, there is information about sources that are simply simulated background noise.\n",
    "\n",
    "Therefore, if we want to eliminate all these illusory duplicates and focus only on deblended objects, excluding background noise, and considering a single observation of each source in a specific patch/tract, we must use the ```detect_isPrimary flag```.\n",
    "\n",
    "More information can be found at:\n",
    "* [Filtering for unique deblended sources with the detect_isPrimary flag](https://pipelines.lsst.io/getting-started/multiband-analysis.html#filtering-for-unique-deblended-sources-with-the-detect-isprimary-flag)\n",
    "* [Deblending flags overview](https://pipelines.lsst.io/modules/lsst.pipe.tasks/deblending-flags-overview.html)\n"
   ]
  }
 ],
 "metadata": {
  "kernelspec": {
   "display_name": "ondemand-kernel",
   "language": "python",
   "name": "ondemand-kernel"
  },
  "language_info": {
   "codemirror_mode": {
    "name": "ipython",
    "version": 3
   },
   "file_extension": ".py",
   "mimetype": "text/x-python",
   "name": "python",
   "nbconvert_exporter": "python",
   "pygments_lexer": "ipython3",
   "version": "3.12.5"
  }
 },
 "nbformat": 4,
 "nbformat_minor": 5
}
